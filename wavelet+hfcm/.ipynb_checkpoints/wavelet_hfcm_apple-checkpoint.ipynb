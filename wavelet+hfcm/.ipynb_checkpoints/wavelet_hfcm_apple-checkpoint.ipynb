{
 "cells": [
  {
   "cell_type": "code",
   "execution_count": 1,
   "metadata": {},
   "outputs": [],
   "source": [
    "import numpy as np\n",
    "import matplotlib.pyplot as plt\n",
    "from FCMs import transferFunc, reverseFunc\n",
    "import pandas as pd\n",
    "import time"
   ]
  },
  {
   "cell_type": "code",
   "execution_count": 3,
   "metadata": {},
   "outputs": [],
   "source": [
    "from Wavelet_HFCM import splitData, create_dataset, predict, normalize, re_normalize, wavelet_transform, wavelet_reconstruct, HFCM_ridge, analyze_paras_HFCM, HaarWaveletTransform"
   ]
  },
  {
   "cell_type": "code",
   "execution_count": 4,
   "metadata": {},
   "outputs": [],
   "source": [
    "apple = pd.read_csv('/Users/andyliu/develop/andy/aapl_indicators_yahoo.csv')"
   ]
  },
  {
   "cell_type": "code",
   "execution_count": 6,
   "metadata": {},
   "outputs": [],
   "source": [
    "apple = apple[['Open', 'High', 'Low', 'Close', 'Adj Close', 'Volume']]"
   ]
  },
  {
   "cell_type": "code",
   "execution_count": 14,
   "metadata": {},
   "outputs": [],
   "source": [
    "df = np.array(apple.iloc[:,1])"
   ]
  },
  {
   "cell_type": "code",
   "execution_count": 19,
   "metadata": {},
   "outputs": [
    {
     "data": {
      "text/plain": [
       "array([  4.147321,   4.183036,   4.066964, ..., 354.769989, 351.059998,\n",
       "       347.799988])"
      ]
     },
     "execution_count": 19,
     "metadata": {},
     "output_type": "execute_result"
    }
   ],
   "source": [
    "df"
   ]
  },
  {
   "cell_type": "code",
   "execution_count": 15,
   "metadata": {},
   "outputs": [
    {
     "name": "stdout",
     "output_type": "stream",
     "text": [
      "Nc -> 2, Order -> 1, alpha -> 1e-12: rmse -> 0.939441  | min_rmse is inf, min_rmse_inall is inf(-1, -1)\n",
      "Nc -> 2, Order -> 1, alpha -> 1e-20: rmse -> 0.939441  | min_rmse is 0.939441, min_rmse_inall is inf(-1, -1)\n",
      "Nc -> 2, Order -> 1, alpha -> 1e-14: rmse -> 0.939441  | min_rmse is 0.939441, min_rmse_inall is inf(-1, -1)\n",
      "Nc -> 2, Order -> 1, alpha -> 1e-13: rmse -> 0.939441  | min_rmse is 0.939441, min_rmse_inall is inf(-1, -1)\n",
      "Nc -> 3, Order -> 1, alpha -> 1e-12: rmse -> 0.940001  | min_rmse is inf, min_rmse_inall is 0.939441(2, 1)\n",
      "Nc -> 3, Order -> 1, alpha -> 1e-20: rmse -> 0.940001  | min_rmse is 0.940001, min_rmse_inall is 0.939441(2, 1)\n",
      "Nc -> 3, Order -> 1, alpha -> 1e-14: rmse -> 0.940001  | min_rmse is 0.940001, min_rmse_inall is 0.939441(2, 1)\n",
      "Nc -> 3, Order -> 1, alpha -> 1e-13: rmse -> 0.940001  | min_rmse is 0.940001, min_rmse_inall is 0.939441(2, 1)\n",
      "Nc -> 4, Order -> 1, alpha -> 1e-12: rmse -> 0.941011  | min_rmse is inf, min_rmse_inall is 0.939441(2, 1)\n",
      "Nc -> 4, Order -> 1, alpha -> 1e-20: rmse -> 0.941011  | min_rmse is 0.941011, min_rmse_inall is 0.939441(2, 1)\n",
      "Nc -> 4, Order -> 1, alpha -> 1e-14: rmse -> 0.941011  | min_rmse is 0.941011, min_rmse_inall is 0.939441(2, 1)\n",
      "Nc -> 4, Order -> 1, alpha -> 1e-13: rmse -> 0.941011  | min_rmse is 0.941011, min_rmse_inall is 0.939441(2, 1)\n",
      "Nc -> 5, Order -> 1, alpha -> 1e-12: rmse -> 0.943513  | min_rmse is inf, min_rmse_inall is 0.939441(2, 1)\n",
      "Nc -> 5, Order -> 1, alpha -> 1e-20: rmse -> 0.943513  | min_rmse is 0.943513, min_rmse_inall is 0.939441(2, 1)\n",
      "Nc -> 5, Order -> 1, alpha -> 1e-14: rmse -> 0.943513  | min_rmse is 0.943513, min_rmse_inall is 0.939441(2, 1)\n",
      "Nc -> 5, Order -> 1, alpha -> 1e-13: rmse -> 0.943513  | min_rmse is 0.943513, min_rmse_inall is 0.939441(2, 1)\n",
      "Nc -> 6, Order -> 1, alpha -> 1e-12: rmse -> 0.948732  | min_rmse is inf, min_rmse_inall is 0.939441(2, 1)\n",
      "Nc -> 6, Order -> 1, alpha -> 1e-20: rmse -> 0.948732  | min_rmse is 0.948732, min_rmse_inall is 0.939441(2, 1)\n",
      "Nc -> 6, Order -> 1, alpha -> 1e-14: rmse -> 0.948732  | min_rmse is 0.948732, min_rmse_inall is 0.939441(2, 1)\n",
      "Nc -> 6, Order -> 1, alpha -> 1e-13: rmse -> 0.948732  | min_rmse is 0.948732, min_rmse_inall is 0.939441(2, 1)\n",
      "Nc -> 7, Order -> 1, alpha -> 1e-12: rmse -> 0.961440  | min_rmse is inf, min_rmse_inall is 0.939441(2, 1)\n",
      "Nc -> 7, Order -> 1, alpha -> 1e-20: rmse -> 0.961440  | min_rmse is 0.961440, min_rmse_inall is 0.939441(2, 1)\n",
      "Nc -> 7, Order -> 1, alpha -> 1e-14: rmse -> 0.961440  | min_rmse is 0.961440, min_rmse_inall is 0.939441(2, 1)\n",
      "Nc -> 7, Order -> 1, alpha -> 1e-13: rmse -> 0.961440  | min_rmse is 0.961440, min_rmse_inall is 0.939441(2, 1)\n",
      "Nc -> 2, Order -> 2, alpha -> 1e-12: rmse -> 0.939480  | min_rmse is inf, min_rmse_inall is 0.939441(2, 1)\n"
     ]
    },
    {
     "name": "stderr",
     "output_type": "stream",
     "text": [
      "//anaconda3/lib/python3.7/site-packages/sklearn/linear_model/_ridge.py:148: LinAlgWarning: Ill-conditioned matrix (rcond=2.08298e-17): result may not be accurate.\n",
      "  overwrite_a=True).T\n",
      "//anaconda3/lib/python3.7/site-packages/sklearn/linear_model/_ridge.py:148: LinAlgWarning: Ill-conditioned matrix (rcond=2.08298e-17): result may not be accurate.\n",
      "  overwrite_a=True).T\n"
     ]
    },
    {
     "name": "stdout",
     "output_type": "stream",
     "text": [
      "Nc -> 2, Order -> 2, alpha -> 1e-20: rmse -> 0.939483  | min_rmse is 0.939480, min_rmse_inall is 0.939441(2, 1)\n",
      "Nc -> 2, Order -> 2, alpha -> 1e-14: rmse -> 0.939483  | min_rmse is 0.939480, min_rmse_inall is 0.939441(2, 1)\n"
     ]
    },
    {
     "name": "stderr",
     "output_type": "stream",
     "text": [
      "//anaconda3/lib/python3.7/site-packages/sklearn/linear_model/_ridge.py:148: LinAlgWarning: Ill-conditioned matrix (rcond=2.138e-17): result may not be accurate.\n",
      "  overwrite_a=True).T\n",
      "//anaconda3/lib/python3.7/site-packages/sklearn/linear_model/_ridge.py:148: LinAlgWarning: Ill-conditioned matrix (rcond=2.138e-17): result may not be accurate.\n",
      "  overwrite_a=True).T\n",
      "//anaconda3/lib/python3.7/site-packages/sklearn/linear_model/_ridge.py:148: LinAlgWarning: Ill-conditioned matrix (rcond=2.63319e-17): result may not be accurate.\n",
      "  overwrite_a=True).T\n",
      "//anaconda3/lib/python3.7/site-packages/sklearn/linear_model/_ridge.py:148: LinAlgWarning: Ill-conditioned matrix (rcond=2.63319e-17): result may not be accurate.\n",
      "  overwrite_a=True).T\n"
     ]
    },
    {
     "name": "stdout",
     "output_type": "stream",
     "text": [
      "Nc -> 2, Order -> 2, alpha -> 1e-13: rmse -> 0.939482  | min_rmse is 0.939480, min_rmse_inall is 0.939441(2, 1)\n"
     ]
    },
    {
     "name": "stderr",
     "output_type": "stream",
     "text": [
      "//anaconda3/lib/python3.7/site-packages/sklearn/linear_model/_ridge.py:148: LinAlgWarning: Ill-conditioned matrix (rcond=1.01134e-16): result may not be accurate.\n",
      "  overwrite_a=True).T\n",
      "//anaconda3/lib/python3.7/site-packages/sklearn/linear_model/_ridge.py:148: LinAlgWarning: Ill-conditioned matrix (rcond=1.01134e-16): result may not be accurate.\n",
      "  overwrite_a=True).T\n",
      "//anaconda3/lib/python3.7/site-packages/sklearn/linear_model/_ridge.py:148: LinAlgWarning: Ill-conditioned matrix (rcond=1.01134e-16): result may not be accurate.\n",
      "  overwrite_a=True).T\n"
     ]
    },
    {
     "name": "stdout",
     "output_type": "stream",
     "text": [
      "Nc -> 3, Order -> 2, alpha -> 1e-12: rmse -> 0.939988  | min_rmse is inf, min_rmse_inall is 0.939441(2, 1)\n",
      "Nc -> 3, Order -> 2, alpha -> 1e-20: rmse -> 0.940315  | min_rmse is 0.939988, min_rmse_inall is 0.939441(2, 1)\n",
      "Nc -> 3, Order -> 2, alpha -> 1e-14: rmse -> 0.940012  | min_rmse is 0.939988, min_rmse_inall is 0.939441(2, 1)\n"
     ]
    },
    {
     "name": "stderr",
     "output_type": "stream",
     "text": [
      "//anaconda3/lib/python3.7/site-packages/sklearn/linear_model/_ridge.py:148: LinAlgWarning: Ill-conditioned matrix (rcond=1.67037e-18): result may not be accurate.\n",
      "  overwrite_a=True).T\n",
      "//anaconda3/lib/python3.7/site-packages/sklearn/linear_model/_ridge.py:148: LinAlgWarning: Ill-conditioned matrix (rcond=1.67037e-18): result may not be accurate.\n",
      "  overwrite_a=True).T\n",
      "//anaconda3/lib/python3.7/site-packages/sklearn/linear_model/_ridge.py:148: LinAlgWarning: Ill-conditioned matrix (rcond=1.67037e-18): result may not be accurate.\n",
      "  overwrite_a=True).T\n"
     ]
    },
    {
     "name": "stdout",
     "output_type": "stream",
     "text": [
      "Nc -> 3, Order -> 2, alpha -> 1e-13: rmse -> 0.940315  | min_rmse is 0.939988, min_rmse_inall is 0.939441(2, 1)\n",
      "Nc -> 4, Order -> 2, alpha -> 1e-12: rmse -> 0.941052  | min_rmse is inf, min_rmse_inall is 0.939441(2, 1)\n"
     ]
    },
    {
     "name": "stderr",
     "output_type": "stream",
     "text": [
      "//anaconda3/lib/python3.7/site-packages/sklearn/linear_model/_ridge.py:148: LinAlgWarning: Ill-conditioned matrix (rcond=8.85771e-18): result may not be accurate.\n",
      "  overwrite_a=True).T\n",
      "//anaconda3/lib/python3.7/site-packages/sklearn/linear_model/_ridge.py:148: LinAlgWarning: Ill-conditioned matrix (rcond=8.85771e-18): result may not be accurate.\n",
      "  overwrite_a=True).T\n",
      "//anaconda3/lib/python3.7/site-packages/sklearn/linear_model/_ridge.py:148: LinAlgWarning: Ill-conditioned matrix (rcond=8.85771e-18): result may not be accurate.\n",
      "  overwrite_a=True).T\n",
      "//anaconda3/lib/python3.7/site-packages/sklearn/linear_model/_ridge.py:148: LinAlgWarning: Ill-conditioned matrix (rcond=8.85771e-18): result may not be accurate.\n",
      "  overwrite_a=True).T\n"
     ]
    },
    {
     "name": "stdout",
     "output_type": "stream",
     "text": [
      "Nc -> 4, Order -> 2, alpha -> 1e-20: rmse -> 0.941693  | min_rmse is 0.941052, min_rmse_inall is 0.939441(2, 1)\n"
     ]
    },
    {
     "name": "stderr",
     "output_type": "stream",
     "text": [
      "//anaconda3/lib/python3.7/site-packages/sklearn/linear_model/_ridge.py:148: LinAlgWarning: Ill-conditioned matrix (rcond=9.68421e-18): result may not be accurate.\n",
      "  overwrite_a=True).T\n",
      "//anaconda3/lib/python3.7/site-packages/sklearn/linear_model/_ridge.py:148: LinAlgWarning: Ill-conditioned matrix (rcond=9.68421e-18): result may not be accurate.\n",
      "  overwrite_a=True).T\n",
      "//anaconda3/lib/python3.7/site-packages/sklearn/linear_model/_ridge.py:148: LinAlgWarning: Ill-conditioned matrix (rcond=9.68421e-18): result may not be accurate.\n",
      "  overwrite_a=True).T\n",
      "//anaconda3/lib/python3.7/site-packages/sklearn/linear_model/_ridge.py:148: LinAlgWarning: Ill-conditioned matrix (rcond=9.68421e-18): result may not be accurate.\n",
      "  overwrite_a=True).T\n"
     ]
    },
    {
     "name": "stdout",
     "output_type": "stream",
     "text": [
      "Nc -> 4, Order -> 2, alpha -> 1e-14: rmse -> 0.941693  | min_rmse is 0.941052, min_rmse_inall is 0.939441(2, 1)\n"
     ]
    },
    {
     "name": "stderr",
     "output_type": "stream",
     "text": [
      "//anaconda3/lib/python3.7/site-packages/sklearn/linear_model/_ridge.py:148: LinAlgWarning: Ill-conditioned matrix (rcond=1.71231e-17): result may not be accurate.\n",
      "  overwrite_a=True).T\n",
      "//anaconda3/lib/python3.7/site-packages/sklearn/linear_model/_ridge.py:148: LinAlgWarning: Ill-conditioned matrix (rcond=1.71231e-17): result may not be accurate.\n",
      "  overwrite_a=True).T\n",
      "//anaconda3/lib/python3.7/site-packages/sklearn/linear_model/_ridge.py:148: LinAlgWarning: Ill-conditioned matrix (rcond=1.71231e-17): result may not be accurate.\n",
      "  overwrite_a=True).T\n",
      "//anaconda3/lib/python3.7/site-packages/sklearn/linear_model/_ridge.py:148: LinAlgWarning: Ill-conditioned matrix (rcond=1.71231e-17): result may not be accurate.\n",
      "  overwrite_a=True).T\n"
     ]
    },
    {
     "name": "stdout",
     "output_type": "stream",
     "text": [
      "Nc -> 4, Order -> 2, alpha -> 1e-13: rmse -> 0.941329  | min_rmse is 0.941052, min_rmse_inall is 0.939441(2, 1)\n",
      "Nc -> 5, Order -> 2, alpha -> 1e-12: rmse -> 0.944100  | min_rmse is inf, min_rmse_inall is 0.939441(2, 1)\n"
     ]
    },
    {
     "name": "stderr",
     "output_type": "stream",
     "text": [
      "//anaconda3/lib/python3.7/site-packages/sklearn/linear_model/_ridge.py:148: LinAlgWarning: Ill-conditioned matrix (rcond=5.17173e-18): result may not be accurate.\n",
      "  overwrite_a=True).T\n",
      "//anaconda3/lib/python3.7/site-packages/sklearn/linear_model/_ridge.py:148: LinAlgWarning: Ill-conditioned matrix (rcond=5.17173e-18): result may not be accurate.\n",
      "  overwrite_a=True).T\n",
      "//anaconda3/lib/python3.7/site-packages/sklearn/linear_model/_ridge.py:148: LinAlgWarning: Ill-conditioned matrix (rcond=5.17173e-18): result may not be accurate.\n",
      "  overwrite_a=True).T\n",
      "//anaconda3/lib/python3.7/site-packages/sklearn/linear_model/_ridge.py:148: LinAlgWarning: Ill-conditioned matrix (rcond=5.17173e-18): result may not be accurate.\n",
      "  overwrite_a=True).T\n",
      "//anaconda3/lib/python3.7/site-packages/sklearn/linear_model/_ridge.py:148: LinAlgWarning: Ill-conditioned matrix (rcond=5.17173e-18): result may not be accurate.\n",
      "  overwrite_a=True).T\n"
     ]
    },
    {
     "name": "stdout",
     "output_type": "stream",
     "text": [
      "Nc -> 5, Order -> 2, alpha -> 1e-20: rmse -> 0.944579  | min_rmse is 0.944100, min_rmse_inall is 0.939441(2, 1)\n"
     ]
    },
    {
     "name": "stderr",
     "output_type": "stream",
     "text": [
      "//anaconda3/lib/python3.7/site-packages/sklearn/linear_model/_ridge.py:148: LinAlgWarning: Ill-conditioned matrix (rcond=6.0548e-18): result may not be accurate.\n",
      "  overwrite_a=True).T\n",
      "//anaconda3/lib/python3.7/site-packages/sklearn/linear_model/_ridge.py:148: LinAlgWarning: Ill-conditioned matrix (rcond=6.0548e-18): result may not be accurate.\n",
      "  overwrite_a=True).T\n",
      "//anaconda3/lib/python3.7/site-packages/sklearn/linear_model/_ridge.py:148: LinAlgWarning: Ill-conditioned matrix (rcond=6.0548e-18): result may not be accurate.\n",
      "  overwrite_a=True).T\n",
      "//anaconda3/lib/python3.7/site-packages/sklearn/linear_model/_ridge.py:148: LinAlgWarning: Ill-conditioned matrix (rcond=6.0548e-18): result may not be accurate.\n",
      "  overwrite_a=True).T\n",
      "//anaconda3/lib/python3.7/site-packages/sklearn/linear_model/_ridge.py:148: LinAlgWarning: Ill-conditioned matrix (rcond=6.0548e-18): result may not be accurate.\n",
      "  overwrite_a=True).T\n"
     ]
    },
    {
     "name": "stdout",
     "output_type": "stream",
     "text": [
      "Nc -> 5, Order -> 2, alpha -> 1e-14: rmse -> 0.944577  | min_rmse is 0.944100, min_rmse_inall is 0.939441(2, 1)\n"
     ]
    },
    {
     "name": "stderr",
     "output_type": "stream",
     "text": [
      "//anaconda3/lib/python3.7/site-packages/sklearn/linear_model/_ridge.py:148: LinAlgWarning: Ill-conditioned matrix (rcond=1.40055e-17): result may not be accurate.\n",
      "  overwrite_a=True).T\n",
      "//anaconda3/lib/python3.7/site-packages/sklearn/linear_model/_ridge.py:148: LinAlgWarning: Ill-conditioned matrix (rcond=1.40055e-17): result may not be accurate.\n",
      "  overwrite_a=True).T\n",
      "//anaconda3/lib/python3.7/site-packages/sklearn/linear_model/_ridge.py:148: LinAlgWarning: Ill-conditioned matrix (rcond=1.40055e-17): result may not be accurate.\n",
      "  overwrite_a=True).T\n",
      "//anaconda3/lib/python3.7/site-packages/sklearn/linear_model/_ridge.py:148: LinAlgWarning: Ill-conditioned matrix (rcond=1.40055e-17): result may not be accurate.\n",
      "  overwrite_a=True).T\n",
      "//anaconda3/lib/python3.7/site-packages/sklearn/linear_model/_ridge.py:148: LinAlgWarning: Ill-conditioned matrix (rcond=1.40055e-17): result may not be accurate.\n",
      "  overwrite_a=True).T\n"
     ]
    },
    {
     "name": "stdout",
     "output_type": "stream",
     "text": [
      "Nc -> 5, Order -> 2, alpha -> 1e-13: rmse -> 0.944268  | min_rmse is 0.944100, min_rmse_inall is 0.939441(2, 1)\n",
      "Nc -> 6, Order -> 2, alpha -> 1e-12: rmse -> 0.950283  | min_rmse is inf, min_rmse_inall is 0.939441(2, 1)\n"
     ]
    },
    {
     "name": "stderr",
     "output_type": "stream",
     "text": [
      "//anaconda3/lib/python3.7/site-packages/sklearn/linear_model/_ridge.py:148: LinAlgWarning: Ill-conditioned matrix (rcond=6.02143e-18): result may not be accurate.\n",
      "  overwrite_a=True).T\n",
      "//anaconda3/lib/python3.7/site-packages/sklearn/linear_model/_ridge.py:148: LinAlgWarning: Ill-conditioned matrix (rcond=6.02143e-18): result may not be accurate.\n",
      "  overwrite_a=True).T\n",
      "//anaconda3/lib/python3.7/site-packages/sklearn/linear_model/_ridge.py:148: LinAlgWarning: Ill-conditioned matrix (rcond=6.02143e-18): result may not be accurate.\n",
      "  overwrite_a=True).T\n",
      "//anaconda3/lib/python3.7/site-packages/sklearn/linear_model/_ridge.py:148: LinAlgWarning: Ill-conditioned matrix (rcond=6.02143e-18): result may not be accurate.\n",
      "  overwrite_a=True).T\n",
      "//anaconda3/lib/python3.7/site-packages/sklearn/linear_model/_ridge.py:148: LinAlgWarning: Ill-conditioned matrix (rcond=6.02143e-18): result may not be accurate.\n",
      "  overwrite_a=True).T\n",
      "//anaconda3/lib/python3.7/site-packages/sklearn/linear_model/_ridge.py:148: LinAlgWarning: Ill-conditioned matrix (rcond=6.02143e-18): result may not be accurate.\n",
      "  overwrite_a=True).T\n"
     ]
    },
    {
     "name": "stdout",
     "output_type": "stream",
     "text": [
      "Nc -> 6, Order -> 2, alpha -> 1e-20: rmse -> 0.950605  | min_rmse is 0.950283, min_rmse_inall is 0.939441(2, 1)\n"
     ]
    },
    {
     "name": "stderr",
     "output_type": "stream",
     "text": [
      "//anaconda3/lib/python3.7/site-packages/sklearn/linear_model/_ridge.py:148: LinAlgWarning: Ill-conditioned matrix (rcond=6.94543e-18): result may not be accurate.\n",
      "  overwrite_a=True).T\n",
      "//anaconda3/lib/python3.7/site-packages/sklearn/linear_model/_ridge.py:148: LinAlgWarning: Ill-conditioned matrix (rcond=6.94543e-18): result may not be accurate.\n",
      "  overwrite_a=True).T\n",
      "//anaconda3/lib/python3.7/site-packages/sklearn/linear_model/_ridge.py:148: LinAlgWarning: Ill-conditioned matrix (rcond=6.94543e-18): result may not be accurate.\n",
      "  overwrite_a=True).T\n",
      "//anaconda3/lib/python3.7/site-packages/sklearn/linear_model/_ridge.py:148: LinAlgWarning: Ill-conditioned matrix (rcond=6.94543e-18): result may not be accurate.\n",
      "  overwrite_a=True).T\n",
      "//anaconda3/lib/python3.7/site-packages/sklearn/linear_model/_ridge.py:148: LinAlgWarning: Ill-conditioned matrix (rcond=6.94543e-18): result may not be accurate.\n",
      "  overwrite_a=True).T\n",
      "//anaconda3/lib/python3.7/site-packages/sklearn/linear_model/_ridge.py:148: LinAlgWarning: Ill-conditioned matrix (rcond=6.94543e-18): result may not be accurate.\n",
      "  overwrite_a=True).T\n"
     ]
    },
    {
     "name": "stdout",
     "output_type": "stream",
     "text": [
      "Nc -> 6, Order -> 2, alpha -> 1e-14: rmse -> 0.950590  | min_rmse is 0.950283, min_rmse_inall is 0.939441(2, 1)\n"
     ]
    },
    {
     "name": "stderr",
     "output_type": "stream",
     "text": [
      "//anaconda3/lib/python3.7/site-packages/sklearn/linear_model/_ridge.py:148: LinAlgWarning: Ill-conditioned matrix (rcond=1.52596e-17): result may not be accurate.\n",
      "  overwrite_a=True).T\n",
      "//anaconda3/lib/python3.7/site-packages/sklearn/linear_model/_ridge.py:148: LinAlgWarning: Ill-conditioned matrix (rcond=1.52596e-17): result may not be accurate.\n",
      "  overwrite_a=True).T\n",
      "//anaconda3/lib/python3.7/site-packages/sklearn/linear_model/_ridge.py:148: LinAlgWarning: Ill-conditioned matrix (rcond=1.52596e-17): result may not be accurate.\n",
      "  overwrite_a=True).T\n",
      "//anaconda3/lib/python3.7/site-packages/sklearn/linear_model/_ridge.py:148: LinAlgWarning: Ill-conditioned matrix (rcond=1.52596e-17): result may not be accurate.\n",
      "  overwrite_a=True).T\n",
      "//anaconda3/lib/python3.7/site-packages/sklearn/linear_model/_ridge.py:148: LinAlgWarning: Ill-conditioned matrix (rcond=1.52596e-17): result may not be accurate.\n",
      "  overwrite_a=True).T\n",
      "//anaconda3/lib/python3.7/site-packages/sklearn/linear_model/_ridge.py:148: LinAlgWarning: Ill-conditioned matrix (rcond=1.52596e-17): result may not be accurate.\n",
      "  overwrite_a=True).T\n"
     ]
    },
    {
     "name": "stdout",
     "output_type": "stream",
     "text": [
      "Nc -> 6, Order -> 2, alpha -> 1e-13: rmse -> 0.950482  | min_rmse is 0.950283, min_rmse_inall is 0.939441(2, 1)\n",
      "Nc -> 7, Order -> 2, alpha -> 1e-12: rmse -> 0.963223  | min_rmse is inf, min_rmse_inall is 0.939441(2, 1)\n"
     ]
    },
    {
     "name": "stderr",
     "output_type": "stream",
     "text": [
      "//anaconda3/lib/python3.7/site-packages/sklearn/linear_model/_ridge.py:148: LinAlgWarning: Ill-conditioned matrix (rcond=1.84557e-17): result may not be accurate.\n",
      "  overwrite_a=True).T\n",
      "//anaconda3/lib/python3.7/site-packages/sklearn/linear_model/_ridge.py:148: LinAlgWarning: Ill-conditioned matrix (rcond=1.84557e-17): result may not be accurate.\n",
      "  overwrite_a=True).T\n",
      "//anaconda3/lib/python3.7/site-packages/sklearn/linear_model/_ridge.py:148: LinAlgWarning: Ill-conditioned matrix (rcond=1.84557e-17): result may not be accurate.\n",
      "  overwrite_a=True).T\n",
      "//anaconda3/lib/python3.7/site-packages/sklearn/linear_model/_ridge.py:148: LinAlgWarning: Ill-conditioned matrix (rcond=1.84557e-17): result may not be accurate.\n",
      "  overwrite_a=True).T\n",
      "//anaconda3/lib/python3.7/site-packages/sklearn/linear_model/_ridge.py:148: LinAlgWarning: Ill-conditioned matrix (rcond=1.84557e-17): result may not be accurate.\n",
      "  overwrite_a=True).T\n",
      "//anaconda3/lib/python3.7/site-packages/sklearn/linear_model/_ridge.py:148: LinAlgWarning: Ill-conditioned matrix (rcond=1.84557e-17): result may not be accurate.\n",
      "  overwrite_a=True).T\n",
      "//anaconda3/lib/python3.7/site-packages/sklearn/linear_model/_ridge.py:148: LinAlgWarning: Ill-conditioned matrix (rcond=1.84557e-17): result may not be accurate.\n",
      "  overwrite_a=True).T\n"
     ]
    },
    {
     "name": "stdout",
     "output_type": "stream",
     "text": [
      "Nc -> 7, Order -> 2, alpha -> 1e-20: rmse -> 0.963396  | min_rmse is 0.963223, min_rmse_inall is 0.939441(2, 1)\n"
     ]
    },
    {
     "name": "stderr",
     "output_type": "stream",
     "text": [
      "//anaconda3/lib/python3.7/site-packages/sklearn/linear_model/_ridge.py:148: LinAlgWarning: Ill-conditioned matrix (rcond=1.94116e-17): result may not be accurate.\n",
      "  overwrite_a=True).T\n",
      "//anaconda3/lib/python3.7/site-packages/sklearn/linear_model/_ridge.py:148: LinAlgWarning: Ill-conditioned matrix (rcond=1.94116e-17): result may not be accurate.\n",
      "  overwrite_a=True).T\n",
      "//anaconda3/lib/python3.7/site-packages/sklearn/linear_model/_ridge.py:148: LinAlgWarning: Ill-conditioned matrix (rcond=1.94116e-17): result may not be accurate.\n",
      "  overwrite_a=True).T\n",
      "//anaconda3/lib/python3.7/site-packages/sklearn/linear_model/_ridge.py:148: LinAlgWarning: Ill-conditioned matrix (rcond=1.94116e-17): result may not be accurate.\n",
      "  overwrite_a=True).T\n",
      "//anaconda3/lib/python3.7/site-packages/sklearn/linear_model/_ridge.py:148: LinAlgWarning: Ill-conditioned matrix (rcond=1.94116e-17): result may not be accurate.\n",
      "  overwrite_a=True).T\n",
      "//anaconda3/lib/python3.7/site-packages/sklearn/linear_model/_ridge.py:148: LinAlgWarning: Ill-conditioned matrix (rcond=1.94116e-17): result may not be accurate.\n",
      "  overwrite_a=True).T\n",
      "//anaconda3/lib/python3.7/site-packages/sklearn/linear_model/_ridge.py:148: LinAlgWarning: Ill-conditioned matrix (rcond=1.94116e-17): result may not be accurate.\n",
      "  overwrite_a=True).T\n"
     ]
    },
    {
     "name": "stdout",
     "output_type": "stream",
     "text": [
      "Nc -> 7, Order -> 2, alpha -> 1e-14: rmse -> 0.963391  | min_rmse is 0.963223, min_rmse_inall is 0.939441(2, 1)\n"
     ]
    },
    {
     "name": "stderr",
     "output_type": "stream",
     "text": [
      "//anaconda3/lib/python3.7/site-packages/sklearn/linear_model/_ridge.py:148: LinAlgWarning: Ill-conditioned matrix (rcond=2.80317e-17): result may not be accurate.\n",
      "  overwrite_a=True).T\n",
      "//anaconda3/lib/python3.7/site-packages/sklearn/linear_model/_ridge.py:148: LinAlgWarning: Ill-conditioned matrix (rcond=2.80317e-17): result may not be accurate.\n",
      "  overwrite_a=True).T\n",
      "//anaconda3/lib/python3.7/site-packages/sklearn/linear_model/_ridge.py:148: LinAlgWarning: Ill-conditioned matrix (rcond=2.80317e-17): result may not be accurate.\n",
      "  overwrite_a=True).T\n",
      "//anaconda3/lib/python3.7/site-packages/sklearn/linear_model/_ridge.py:148: LinAlgWarning: Ill-conditioned matrix (rcond=2.80317e-17): result may not be accurate.\n",
      "  overwrite_a=True).T\n",
      "//anaconda3/lib/python3.7/site-packages/sklearn/linear_model/_ridge.py:148: LinAlgWarning: Ill-conditioned matrix (rcond=2.80317e-17): result may not be accurate.\n",
      "  overwrite_a=True).T\n",
      "//anaconda3/lib/python3.7/site-packages/sklearn/linear_model/_ridge.py:148: LinAlgWarning: Ill-conditioned matrix (rcond=2.80317e-17): result may not be accurate.\n",
      "  overwrite_a=True).T\n",
      "//anaconda3/lib/python3.7/site-packages/sklearn/linear_model/_ridge.py:148: LinAlgWarning: Ill-conditioned matrix (rcond=2.80317e-17): result may not be accurate.\n",
      "  overwrite_a=True).T\n"
     ]
    },
    {
     "name": "stdout",
     "output_type": "stream",
     "text": [
      "Nc -> 7, Order -> 2, alpha -> 1e-13: rmse -> 0.963363  | min_rmse is 0.963223, min_rmse_inall is 0.939441(2, 1)\n",
      "Nc -> 2, Order -> 3, alpha -> 1e-12: rmse -> 0.939561  | min_rmse is inf, min_rmse_inall is 0.939441(2, 1)\n"
     ]
    },
    {
     "name": "stderr",
     "output_type": "stream",
     "text": [
      "//anaconda3/lib/python3.7/site-packages/sklearn/linear_model/_ridge.py:148: LinAlgWarning: Ill-conditioned matrix (rcond=5.29945e-17): result may not be accurate.\n",
      "  overwrite_a=True).T\n",
      "//anaconda3/lib/python3.7/site-packages/sklearn/linear_model/_ridge.py:148: LinAlgWarning: Ill-conditioned matrix (rcond=5.29945e-17): result may not be accurate.\n",
      "  overwrite_a=True).T\n"
     ]
    },
    {
     "name": "stdout",
     "output_type": "stream",
     "text": [
      "Nc -> 2, Order -> 3, alpha -> 1e-20: rmse -> 0.939702  | min_rmse is 0.939561, min_rmse_inall is 0.939441(2, 1)\n",
      "Nc -> 2, Order -> 3, alpha -> 1e-14: rmse -> 0.939560  | min_rmse is 0.939561, min_rmse_inall is 0.939441(2, 1)\n"
     ]
    },
    {
     "name": "stderr",
     "output_type": "stream",
     "text": [
      "//anaconda3/lib/python3.7/site-packages/sklearn/linear_model/_ridge.py:148: LinAlgWarning: Ill-conditioned matrix (rcond=2.11518e-18): result may not be accurate.\n",
      "  overwrite_a=True).T\n",
      "//anaconda3/lib/python3.7/site-packages/sklearn/linear_model/_ridge.py:148: LinAlgWarning: Ill-conditioned matrix (rcond=2.11518e-18): result may not be accurate.\n",
      "  overwrite_a=True).T\n",
      "//anaconda3/lib/python3.7/site-packages/sklearn/linear_model/_ridge.py:148: LinAlgWarning: Ill-conditioned matrix (rcond=2.31261e-17): result may not be accurate.\n",
      "  overwrite_a=True).T\n"
     ]
    },
    {
     "name": "stdout",
     "output_type": "stream",
     "text": [
      "Nc -> 2, Order -> 3, alpha -> 1e-13: rmse -> 0.939561  | min_rmse is 0.939560, min_rmse_inall is 0.939441(2, 1)\n"
     ]
    },
    {
     "name": "stderr",
     "output_type": "stream",
     "text": [
      "//anaconda3/lib/python3.7/site-packages/sklearn/linear_model/_ridge.py:148: LinAlgWarning: Ill-conditioned matrix (rcond=2.31261e-17): result may not be accurate.\n",
      "  overwrite_a=True).T\n",
      "//anaconda3/lib/python3.7/site-packages/sklearn/linear_model/_ridge.py:148: LinAlgWarning: Ill-conditioned matrix (rcond=2.31261e-17): result may not be accurate.\n",
      "  overwrite_a=True).T\n"
     ]
    },
    {
     "name": "stdout",
     "output_type": "stream",
     "text": [
      "Nc -> 3, Order -> 3, alpha -> 1e-12: rmse -> 0.939989  | min_rmse is inf, min_rmse_inall is 0.939441(2, 1)\n",
      "Nc -> 3, Order -> 3, alpha -> 1e-20: rmse -> 0.940366  | min_rmse is 0.939989, min_rmse_inall is 0.939441(2, 1)\n",
      "Nc -> 3, Order -> 3, alpha -> 1e-14: rmse -> 0.940028  | min_rmse is 0.939989, min_rmse_inall is 0.939441(2, 1)\n",
      "Nc -> 3, Order -> 3, alpha -> 1e-13: rmse -> 0.940028  | min_rmse is 0.939989, min_rmse_inall is 0.939441(2, 1)\n"
     ]
    },
    {
     "name": "stderr",
     "output_type": "stream",
     "text": [
      "//anaconda3/lib/python3.7/site-packages/sklearn/linear_model/_ridge.py:148: LinAlgWarning: Ill-conditioned matrix (rcond=3.61203e-17): result may not be accurate.\n",
      "  overwrite_a=True).T\n",
      "//anaconda3/lib/python3.7/site-packages/sklearn/linear_model/_ridge.py:148: LinAlgWarning: Ill-conditioned matrix (rcond=3.61203e-17): result may not be accurate.\n",
      "  overwrite_a=True).T\n",
      "//anaconda3/lib/python3.7/site-packages/sklearn/linear_model/_ridge.py:148: LinAlgWarning: Ill-conditioned matrix (rcond=3.61203e-17): result may not be accurate.\n",
      "  overwrite_a=True).T\n",
      "//anaconda3/lib/python3.7/site-packages/sklearn/linear_model/_ridge.py:148: LinAlgWarning: Ill-conditioned matrix (rcond=3.61203e-17): result may not be accurate.\n",
      "  overwrite_a=True).T\n"
     ]
    },
    {
     "name": "stdout",
     "output_type": "stream",
     "text": [
      "Nc -> 4, Order -> 3, alpha -> 1e-12: rmse -> 0.940595  | min_rmse is inf, min_rmse_inall is 0.939441(2, 1)\n",
      "Nc -> 4, Order -> 3, alpha -> 1e-20: rmse -> 0.941897  | min_rmse is 0.940595, min_rmse_inall is 0.939441(2, 1)\n",
      "Nc -> 4, Order -> 3, alpha -> 1e-14: rmse -> 0.940726  | min_rmse is 0.940595, min_rmse_inall is 0.939441(2, 1)\n",
      "Nc -> 4, Order -> 3, alpha -> 1e-13: rmse -> 0.940726  | min_rmse is 0.940595, min_rmse_inall is 0.939441(2, 1)\n"
     ]
    },
    {
     "name": "stderr",
     "output_type": "stream",
     "text": [
      "//anaconda3/lib/python3.7/site-packages/sklearn/linear_model/_ridge.py:148: LinAlgWarning: Ill-conditioned matrix (rcond=5.05397e-17): result may not be accurate.\n",
      "  overwrite_a=True).T\n",
      "//anaconda3/lib/python3.7/site-packages/sklearn/linear_model/_ridge.py:148: LinAlgWarning: Ill-conditioned matrix (rcond=5.05397e-17): result may not be accurate.\n",
      "  overwrite_a=True).T\n",
      "//anaconda3/lib/python3.7/site-packages/sklearn/linear_model/_ridge.py:148: LinAlgWarning: Ill-conditioned matrix (rcond=5.05397e-17): result may not be accurate.\n",
      "  overwrite_a=True).T\n",
      "//anaconda3/lib/python3.7/site-packages/sklearn/linear_model/_ridge.py:148: LinAlgWarning: Ill-conditioned matrix (rcond=5.05397e-17): result may not be accurate.\n",
      "  overwrite_a=True).T\n",
      "//anaconda3/lib/python3.7/site-packages/sklearn/linear_model/_ridge.py:148: LinAlgWarning: Ill-conditioned matrix (rcond=5.05397e-17): result may not be accurate.\n",
      "  overwrite_a=True).T\n"
     ]
    },
    {
     "name": "stdout",
     "output_type": "stream",
     "text": [
      "Nc -> 5, Order -> 3, alpha -> 1e-12: rmse -> 0.943315  | min_rmse is inf, min_rmse_inall is 0.939441(2, 1)\n",
      "Nc -> 5, Order -> 3, alpha -> 1e-20: rmse -> 0.944689  | min_rmse is 0.943315, min_rmse_inall is 0.939441(2, 1)\n",
      "Nc -> 5, Order -> 3, alpha -> 1e-14: rmse -> 0.943109  | min_rmse is 0.943315, min_rmse_inall is 0.939441(2, 1)\n"
     ]
    },
    {
     "name": "stderr",
     "output_type": "stream",
     "text": [
      "//anaconda3/lib/python3.7/site-packages/sklearn/linear_model/_ridge.py:148: LinAlgWarning: Ill-conditioned matrix (rcond=3.71692e-20): result may not be accurate.\n",
      "  overwrite_a=True).T\n",
      "//anaconda3/lib/python3.7/site-packages/sklearn/linear_model/_ridge.py:148: LinAlgWarning: Ill-conditioned matrix (rcond=3.71692e-20): result may not be accurate.\n",
      "  overwrite_a=True).T\n",
      "//anaconda3/lib/python3.7/site-packages/sklearn/linear_model/_ridge.py:148: LinAlgWarning: Ill-conditioned matrix (rcond=3.71692e-20): result may not be accurate.\n",
      "  overwrite_a=True).T\n",
      "//anaconda3/lib/python3.7/site-packages/sklearn/linear_model/_ridge.py:148: LinAlgWarning: Ill-conditioned matrix (rcond=3.71692e-20): result may not be accurate.\n",
      "  overwrite_a=True).T\n",
      "//anaconda3/lib/python3.7/site-packages/sklearn/linear_model/_ridge.py:148: LinAlgWarning: Ill-conditioned matrix (rcond=3.71692e-20): result may not be accurate.\n",
      "  overwrite_a=True).T\n"
     ]
    },
    {
     "name": "stdout",
     "output_type": "stream",
     "text": [
      "Nc -> 5, Order -> 3, alpha -> 1e-13: rmse -> 0.944689  | min_rmse is 0.943109, min_rmse_inall is 0.939441(2, 1)\n"
     ]
    },
    {
     "name": "stderr",
     "output_type": "stream",
     "text": [
      "//anaconda3/lib/python3.7/site-packages/sklearn/linear_model/_ridge.py:148: LinAlgWarning: Ill-conditioned matrix (rcond=5.02367e-17): result may not be accurate.\n",
      "  overwrite_a=True).T\n",
      "//anaconda3/lib/python3.7/site-packages/sklearn/linear_model/_ridge.py:148: LinAlgWarning: Ill-conditioned matrix (rcond=5.02367e-17): result may not be accurate.\n",
      "  overwrite_a=True).T\n",
      "//anaconda3/lib/python3.7/site-packages/sklearn/linear_model/_ridge.py:148: LinAlgWarning: Ill-conditioned matrix (rcond=5.02367e-17): result may not be accurate.\n",
      "  overwrite_a=True).T\n",
      "//anaconda3/lib/python3.7/site-packages/sklearn/linear_model/_ridge.py:148: LinAlgWarning: Ill-conditioned matrix (rcond=5.02367e-17): result may not be accurate.\n",
      "  overwrite_a=True).T\n",
      "//anaconda3/lib/python3.7/site-packages/sklearn/linear_model/_ridge.py:148: LinAlgWarning: Ill-conditioned matrix (rcond=5.02367e-17): result may not be accurate.\n",
      "  overwrite_a=True).T\n",
      "//anaconda3/lib/python3.7/site-packages/sklearn/linear_model/_ridge.py:148: LinAlgWarning: Ill-conditioned matrix (rcond=5.02367e-17): result may not be accurate.\n",
      "  overwrite_a=True).T\n"
     ]
    },
    {
     "name": "stdout",
     "output_type": "stream",
     "text": [
      "Nc -> 6, Order -> 3, alpha -> 1e-12: rmse -> 0.949645  | min_rmse is inf, min_rmse_inall is 0.939441(2, 1)\n",
      "Nc -> 6, Order -> 3, alpha -> 1e-20: rmse -> 0.950758  | min_rmse is 0.949645, min_rmse_inall is 0.939441(2, 1)\n"
     ]
    },
    {
     "name": "stderr",
     "output_type": "stream",
     "text": [
      "//anaconda3/lib/python3.7/site-packages/sklearn/linear_model/_ridge.py:148: LinAlgWarning: Ill-conditioned matrix (rcond=5.89576e-19): result may not be accurate.\n",
      "  overwrite_a=True).T\n",
      "//anaconda3/lib/python3.7/site-packages/sklearn/linear_model/_ridge.py:148: LinAlgWarning: Ill-conditioned matrix (rcond=5.89576e-19): result may not be accurate.\n",
      "  overwrite_a=True).T\n",
      "//anaconda3/lib/python3.7/site-packages/sklearn/linear_model/_ridge.py:148: LinAlgWarning: Ill-conditioned matrix (rcond=5.89576e-19): result may not be accurate.\n",
      "  overwrite_a=True).T\n",
      "//anaconda3/lib/python3.7/site-packages/sklearn/linear_model/_ridge.py:148: LinAlgWarning: Ill-conditioned matrix (rcond=5.89576e-19): result may not be accurate.\n",
      "  overwrite_a=True).T\n",
      "//anaconda3/lib/python3.7/site-packages/sklearn/linear_model/_ridge.py:148: LinAlgWarning: Ill-conditioned matrix (rcond=5.89576e-19): result may not be accurate.\n",
      "  overwrite_a=True).T\n",
      "//anaconda3/lib/python3.7/site-packages/sklearn/linear_model/_ridge.py:148: LinAlgWarning: Ill-conditioned matrix (rcond=5.89576e-19): result may not be accurate.\n",
      "  overwrite_a=True).T\n"
     ]
    },
    {
     "name": "stdout",
     "output_type": "stream",
     "text": [
      "Nc -> 6, Order -> 3, alpha -> 1e-14: rmse -> 0.949760  | min_rmse is 0.949645, min_rmse_inall is 0.939441(2, 1)\n"
     ]
    },
    {
     "name": "stderr",
     "output_type": "stream",
     "text": [
      "//anaconda3/lib/python3.7/site-packages/sklearn/linear_model/_ridge.py:148: LinAlgWarning: Ill-conditioned matrix (rcond=5.01285e-18): result may not be accurate.\n",
      "  overwrite_a=True).T\n",
      "//anaconda3/lib/python3.7/site-packages/sklearn/linear_model/_ridge.py:148: LinAlgWarning: Ill-conditioned matrix (rcond=5.01285e-18): result may not be accurate.\n",
      "  overwrite_a=True).T\n",
      "//anaconda3/lib/python3.7/site-packages/sklearn/linear_model/_ridge.py:148: LinAlgWarning: Ill-conditioned matrix (rcond=5.01285e-18): result may not be accurate.\n",
      "  overwrite_a=True).T\n",
      "//anaconda3/lib/python3.7/site-packages/sklearn/linear_model/_ridge.py:148: LinAlgWarning: Ill-conditioned matrix (rcond=5.01285e-18): result may not be accurate.\n",
      "  overwrite_a=True).T\n",
      "//anaconda3/lib/python3.7/site-packages/sklearn/linear_model/_ridge.py:148: LinAlgWarning: Ill-conditioned matrix (rcond=5.01285e-18): result may not be accurate.\n",
      "  overwrite_a=True).T\n",
      "//anaconda3/lib/python3.7/site-packages/sklearn/linear_model/_ridge.py:148: LinAlgWarning: Ill-conditioned matrix (rcond=5.01285e-18): result may not be accurate.\n",
      "  overwrite_a=True).T\n"
     ]
    },
    {
     "name": "stdout",
     "output_type": "stream",
     "text": [
      "Nc -> 6, Order -> 3, alpha -> 1e-13: rmse -> 0.949671  | min_rmse is 0.949645, min_rmse_inall is 0.939441(2, 1)\n"
     ]
    },
    {
     "name": "stderr",
     "output_type": "stream",
     "text": [
      "//anaconda3/lib/python3.7/site-packages/sklearn/linear_model/_ridge.py:148: LinAlgWarning: Ill-conditioned matrix (rcond=4.96637e-17): result may not be accurate.\n",
      "  overwrite_a=True).T\n",
      "//anaconda3/lib/python3.7/site-packages/sklearn/linear_model/_ridge.py:148: LinAlgWarning: Ill-conditioned matrix (rcond=4.96637e-17): result may not be accurate.\n",
      "  overwrite_a=True).T\n",
      "//anaconda3/lib/python3.7/site-packages/sklearn/linear_model/_ridge.py:148: LinAlgWarning: Ill-conditioned matrix (rcond=4.96637e-17): result may not be accurate.\n",
      "  overwrite_a=True).T\n",
      "//anaconda3/lib/python3.7/site-packages/sklearn/linear_model/_ridge.py:148: LinAlgWarning: Ill-conditioned matrix (rcond=4.96637e-17): result may not be accurate.\n",
      "  overwrite_a=True).T\n",
      "//anaconda3/lib/python3.7/site-packages/sklearn/linear_model/_ridge.py:148: LinAlgWarning: Ill-conditioned matrix (rcond=4.96637e-17): result may not be accurate.\n",
      "  overwrite_a=True).T\n",
      "//anaconda3/lib/python3.7/site-packages/sklearn/linear_model/_ridge.py:148: LinAlgWarning: Ill-conditioned matrix (rcond=4.96637e-17): result may not be accurate.\n",
      "  overwrite_a=True).T\n",
      "//anaconda3/lib/python3.7/site-packages/sklearn/linear_model/_ridge.py:148: LinAlgWarning: Ill-conditioned matrix (rcond=4.96637e-17): result may not be accurate.\n",
      "  overwrite_a=True).T\n"
     ]
    },
    {
     "name": "stdout",
     "output_type": "stream",
     "text": [
      "Nc -> 7, Order -> 3, alpha -> 1e-12: rmse -> 0.962435  | min_rmse is inf, min_rmse_inall is 0.939441(2, 1)\n",
      "Nc -> 7, Order -> 3, alpha -> 1e-20: rmse -> 0.963571  | min_rmse is 0.962435, min_rmse_inall is 0.939441(2, 1)\n",
      "Nc -> 7, Order -> 3, alpha -> 1e-14: rmse -> 0.962435  | min_rmse is 0.962435, min_rmse_inall is 0.939441(2, 1)\n"
     ]
    },
    {
     "name": "stderr",
     "output_type": "stream",
     "text": [
      "//anaconda3/lib/python3.7/site-packages/sklearn/linear_model/_ridge.py:148: LinAlgWarning: Ill-conditioned matrix (rcond=2.20364e-18): result may not be accurate.\n",
      "  overwrite_a=True).T\n",
      "//anaconda3/lib/python3.7/site-packages/sklearn/linear_model/_ridge.py:148: LinAlgWarning: Ill-conditioned matrix (rcond=2.20364e-18): result may not be accurate.\n",
      "  overwrite_a=True).T\n",
      "//anaconda3/lib/python3.7/site-packages/sklearn/linear_model/_ridge.py:148: LinAlgWarning: Ill-conditioned matrix (rcond=2.20364e-18): result may not be accurate.\n",
      "  overwrite_a=True).T\n",
      "//anaconda3/lib/python3.7/site-packages/sklearn/linear_model/_ridge.py:148: LinAlgWarning: Ill-conditioned matrix (rcond=2.20364e-18): result may not be accurate.\n",
      "  overwrite_a=True).T\n",
      "//anaconda3/lib/python3.7/site-packages/sklearn/linear_model/_ridge.py:148: LinAlgWarning: Ill-conditioned matrix (rcond=2.20364e-18): result may not be accurate.\n",
      "  overwrite_a=True).T\n",
      "//anaconda3/lib/python3.7/site-packages/sklearn/linear_model/_ridge.py:148: LinAlgWarning: Ill-conditioned matrix (rcond=2.20364e-18): result may not be accurate.\n",
      "  overwrite_a=True).T\n",
      "//anaconda3/lib/python3.7/site-packages/sklearn/linear_model/_ridge.py:148: LinAlgWarning: Ill-conditioned matrix (rcond=2.20364e-18): result may not be accurate.\n",
      "  overwrite_a=True).T\n"
     ]
    },
    {
     "name": "stdout",
     "output_type": "stream",
     "text": [
      "Nc -> 7, Order -> 3, alpha -> 1e-13: rmse -> 0.961497  | min_rmse is 0.962435, min_rmse_inall is 0.939441(2, 1)\n"
     ]
    },
    {
     "name": "stderr",
     "output_type": "stream",
     "text": [
      "//anaconda3/lib/python3.7/site-packages/sklearn/linear_model/_ridge.py:148: LinAlgWarning: Ill-conditioned matrix (rcond=3.41758e-17): result may not be accurate.\n",
      "  overwrite_a=True).T\n",
      "//anaconda3/lib/python3.7/site-packages/sklearn/linear_model/_ridge.py:148: LinAlgWarning: Ill-conditioned matrix (rcond=3.41758e-17): result may not be accurate.\n",
      "  overwrite_a=True).T\n"
     ]
    },
    {
     "name": "stdout",
     "output_type": "stream",
     "text": [
      "Nc -> 2, Order -> 4, alpha -> 1e-12: rmse -> 0.939632  | min_rmse is inf, min_rmse_inall is 0.939441(2, 1)\n",
      "Nc -> 2, Order -> 4, alpha -> 1e-20: rmse -> 0.939780  | min_rmse is 0.939632, min_rmse_inall is 0.939441(2, 1)\n",
      "Nc -> 2, Order -> 4, alpha -> 1e-14: rmse -> 0.939632  | min_rmse is 0.939632, min_rmse_inall is 0.939441(2, 1)\n",
      "Nc -> 2, Order -> 4, alpha -> 1e-13: rmse -> 0.939632  | min_rmse is 0.939632, min_rmse_inall is 0.939441(2, 1)\n"
     ]
    },
    {
     "name": "stderr",
     "output_type": "stream",
     "text": [
      "//anaconda3/lib/python3.7/site-packages/sklearn/linear_model/_ridge.py:148: LinAlgWarning: Ill-conditioned matrix (rcond=6.57566e-18): result may not be accurate.\n",
      "  overwrite_a=True).T\n",
      "//anaconda3/lib/python3.7/site-packages/sklearn/linear_model/_ridge.py:148: LinAlgWarning: Ill-conditioned matrix (rcond=6.57566e-18): result may not be accurate.\n",
      "  overwrite_a=True).T\n",
      "//anaconda3/lib/python3.7/site-packages/sklearn/linear_model/_ridge.py:148: LinAlgWarning: Ill-conditioned matrix (rcond=6.57566e-18): result may not be accurate.\n",
      "  overwrite_a=True).T\n"
     ]
    },
    {
     "name": "stdout",
     "output_type": "stream",
     "text": [
      "Nc -> 3, Order -> 4, alpha -> 1e-12: rmse -> 0.940261  | min_rmse is inf, min_rmse_inall is 0.939441(2, 1)\n",
      "Nc -> 3, Order -> 4, alpha -> 1e-20: rmse -> 0.940419  | min_rmse is 0.940261, min_rmse_inall is 0.939441(2, 1)\n",
      "Nc -> 3, Order -> 4, alpha -> 1e-14: rmse -> 0.940081  | min_rmse is 0.940261, min_rmse_inall is 0.939441(2, 1)\n",
      "Nc -> 3, Order -> 4, alpha -> 1e-13: rmse -> 0.940081  | min_rmse is 0.940081, min_rmse_inall is 0.939441(2, 1)\n"
     ]
    },
    {
     "name": "stderr",
     "output_type": "stream",
     "text": [
      "//anaconda3/lib/python3.7/site-packages/sklearn/linear_model/_ridge.py:148: LinAlgWarning: Ill-conditioned matrix (rcond=3.18509e-17): result may not be accurate.\n",
      "  overwrite_a=True).T\n",
      "//anaconda3/lib/python3.7/site-packages/sklearn/linear_model/_ridge.py:148: LinAlgWarning: Ill-conditioned matrix (rcond=3.18509e-17): result may not be accurate.\n",
      "  overwrite_a=True).T\n",
      "//anaconda3/lib/python3.7/site-packages/sklearn/linear_model/_ridge.py:148: LinAlgWarning: Ill-conditioned matrix (rcond=3.18509e-17): result may not be accurate.\n",
      "  overwrite_a=True).T\n",
      "//anaconda3/lib/python3.7/site-packages/sklearn/linear_model/_ridge.py:148: LinAlgWarning: Ill-conditioned matrix (rcond=3.18509e-17): result may not be accurate.\n",
      "  overwrite_a=True).T\n"
     ]
    },
    {
     "name": "stdout",
     "output_type": "stream",
     "text": [
      "Nc -> 4, Order -> 4, alpha -> 1e-12: rmse -> 0.940269  | min_rmse is inf, min_rmse_inall is 0.939441(2, 1)\n",
      "Nc -> 4, Order -> 4, alpha -> 1e-20: rmse -> 0.941924  | min_rmse is 0.940269, min_rmse_inall is 0.939441(2, 1)\n",
      "Nc -> 4, Order -> 4, alpha -> 1e-14: rmse -> 0.940237  | min_rmse is 0.940269, min_rmse_inall is 0.939441(2, 1)\n",
      "Nc -> 4, Order -> 4, alpha -> 1e-13: rmse -> 0.940237  | min_rmse is 0.940237, min_rmse_inall is 0.939441(2, 1)\n"
     ]
    },
    {
     "name": "stderr",
     "output_type": "stream",
     "text": [
      "//anaconda3/lib/python3.7/site-packages/sklearn/linear_model/_ridge.py:148: LinAlgWarning: Ill-conditioned matrix (rcond=4.08265e-17): result may not be accurate.\n",
      "  overwrite_a=True).T\n",
      "//anaconda3/lib/python3.7/site-packages/sklearn/linear_model/_ridge.py:148: LinAlgWarning: Ill-conditioned matrix (rcond=4.08265e-17): result may not be accurate.\n",
      "  overwrite_a=True).T\n",
      "//anaconda3/lib/python3.7/site-packages/sklearn/linear_model/_ridge.py:148: LinAlgWarning: Ill-conditioned matrix (rcond=4.08265e-17): result may not be accurate.\n",
      "  overwrite_a=True).T\n",
      "//anaconda3/lib/python3.7/site-packages/sklearn/linear_model/_ridge.py:148: LinAlgWarning: Ill-conditioned matrix (rcond=4.08265e-17): result may not be accurate.\n",
      "  overwrite_a=True).T\n",
      "//anaconda3/lib/python3.7/site-packages/sklearn/linear_model/_ridge.py:148: LinAlgWarning: Ill-conditioned matrix (rcond=4.08265e-17): result may not be accurate.\n",
      "  overwrite_a=True).T\n"
     ]
    },
    {
     "name": "stdout",
     "output_type": "stream",
     "text": [
      "Nc -> 5, Order -> 4, alpha -> 1e-12: rmse -> 0.942322  | min_rmse is inf, min_rmse_inall is 0.939441(2, 1)\n",
      "Nc -> 5, Order -> 4, alpha -> 1e-20: rmse -> 0.944639  | min_rmse is 0.942322, min_rmse_inall is 0.939441(2, 1)\n",
      "Nc -> 5, Order -> 4, alpha -> 1e-14: rmse -> 0.942238  | min_rmse is 0.942322, min_rmse_inall is 0.939441(2, 1)\n"
     ]
    },
    {
     "name": "stderr",
     "output_type": "stream",
     "text": [
      "//anaconda3/lib/python3.7/site-packages/sklearn/linear_model/_ridge.py:148: LinAlgWarning: Ill-conditioned matrix (rcond=3.69509e-18): result may not be accurate.\n",
      "  overwrite_a=True).T\n",
      "//anaconda3/lib/python3.7/site-packages/sklearn/linear_model/_ridge.py:148: LinAlgWarning: Ill-conditioned matrix (rcond=3.69509e-18): result may not be accurate.\n",
      "  overwrite_a=True).T\n",
      "//anaconda3/lib/python3.7/site-packages/sklearn/linear_model/_ridge.py:148: LinAlgWarning: Ill-conditioned matrix (rcond=3.69509e-18): result may not be accurate.\n",
      "  overwrite_a=True).T\n",
      "//anaconda3/lib/python3.7/site-packages/sklearn/linear_model/_ridge.py:148: LinAlgWarning: Ill-conditioned matrix (rcond=3.69509e-18): result may not be accurate.\n",
      "  overwrite_a=True).T\n",
      "//anaconda3/lib/python3.7/site-packages/sklearn/linear_model/_ridge.py:148: LinAlgWarning: Ill-conditioned matrix (rcond=3.69509e-18): result may not be accurate.\n",
      "  overwrite_a=True).T\n"
     ]
    },
    {
     "name": "stdout",
     "output_type": "stream",
     "text": [
      "Nc -> 5, Order -> 4, alpha -> 1e-13: rmse -> 0.943079  | min_rmse is 0.942238, min_rmse_inall is 0.939441(2, 1)\n"
     ]
    },
    {
     "name": "stderr",
     "output_type": "stream",
     "text": [
      "//anaconda3/lib/python3.7/site-packages/sklearn/linear_model/_ridge.py:148: LinAlgWarning: Ill-conditioned matrix (rcond=3.67334e-17): result may not be accurate.\n",
      "  overwrite_a=True).T\n",
      "//anaconda3/lib/python3.7/site-packages/sklearn/linear_model/_ridge.py:148: LinAlgWarning: Ill-conditioned matrix (rcond=3.67334e-17): result may not be accurate.\n",
      "  overwrite_a=True).T\n",
      "//anaconda3/lib/python3.7/site-packages/sklearn/linear_model/_ridge.py:148: LinAlgWarning: Ill-conditioned matrix (rcond=3.67334e-17): result may not be accurate.\n",
      "  overwrite_a=True).T\n",
      "//anaconda3/lib/python3.7/site-packages/sklearn/linear_model/_ridge.py:148: LinAlgWarning: Ill-conditioned matrix (rcond=3.67334e-17): result may not be accurate.\n",
      "  overwrite_a=True).T\n",
      "//anaconda3/lib/python3.7/site-packages/sklearn/linear_model/_ridge.py:148: LinAlgWarning: Ill-conditioned matrix (rcond=3.67334e-17): result may not be accurate.\n",
      "  overwrite_a=True).T\n",
      "//anaconda3/lib/python3.7/site-packages/sklearn/linear_model/_ridge.py:148: LinAlgWarning: Ill-conditioned matrix (rcond=3.67334e-17): result may not be accurate.\n",
      "  overwrite_a=True).T\n"
     ]
    },
    {
     "name": "stdout",
     "output_type": "stream",
     "text": [
      "Nc -> 6, Order -> 4, alpha -> 1e-12: rmse -> 0.947961  | min_rmse is inf, min_rmse_inall is 0.939441(2, 1)\n",
      "Nc -> 6, Order -> 4, alpha -> 1e-20: rmse -> 0.950784  | min_rmse is 0.947961, min_rmse_inall is 0.939441(2, 1)\n",
      "Nc -> 6, Order -> 4, alpha -> 1e-14: rmse -> 0.948223  | min_rmse is 0.947961, min_rmse_inall is 0.939441(2, 1)\n",
      "Nc -> 6, Order -> 4, alpha -> 1e-13: rmse -> 0.948224  | min_rmse is 0.947961, min_rmse_inall is 0.939441(2, 1)\n"
     ]
    },
    {
     "name": "stderr",
     "output_type": "stream",
     "text": [
      "//anaconda3/lib/python3.7/site-packages/sklearn/linear_model/_ridge.py:148: LinAlgWarning: Ill-conditioned matrix (rcond=3.97549e-17): result may not be accurate.\n",
      "  overwrite_a=True).T\n",
      "//anaconda3/lib/python3.7/site-packages/sklearn/linear_model/_ridge.py:148: LinAlgWarning: Ill-conditioned matrix (rcond=3.97549e-17): result may not be accurate.\n",
      "  overwrite_a=True).T\n",
      "//anaconda3/lib/python3.7/site-packages/sklearn/linear_model/_ridge.py:148: LinAlgWarning: Ill-conditioned matrix (rcond=3.97549e-17): result may not be accurate.\n",
      "  overwrite_a=True).T\n",
      "//anaconda3/lib/python3.7/site-packages/sklearn/linear_model/_ridge.py:148: LinAlgWarning: Ill-conditioned matrix (rcond=3.97549e-17): result may not be accurate.\n",
      "  overwrite_a=True).T\n",
      "//anaconda3/lib/python3.7/site-packages/sklearn/linear_model/_ridge.py:148: LinAlgWarning: Ill-conditioned matrix (rcond=3.97549e-17): result may not be accurate.\n",
      "  overwrite_a=True).T\n",
      "//anaconda3/lib/python3.7/site-packages/sklearn/linear_model/_ridge.py:148: LinAlgWarning: Ill-conditioned matrix (rcond=3.97549e-17): result may not be accurate.\n",
      "  overwrite_a=True).T\n",
      "//anaconda3/lib/python3.7/site-packages/sklearn/linear_model/_ridge.py:148: LinAlgWarning: Ill-conditioned matrix (rcond=3.97549e-17): result may not be accurate.\n",
      "  overwrite_a=True).T\n"
     ]
    },
    {
     "name": "stdout",
     "output_type": "stream",
     "text": [
      "Nc -> 7, Order -> 4, alpha -> 1e-12: rmse -> 0.961621  | min_rmse is inf, min_rmse_inall is 0.939441(2, 1)\n",
      "Nc -> 7, Order -> 4, alpha -> 1e-20: rmse -> 0.963590  | min_rmse is 0.961621, min_rmse_inall is 0.939441(2, 1)\n",
      "Nc -> 7, Order -> 4, alpha -> 1e-14: rmse -> 0.961371  | min_rmse is 0.961621, min_rmse_inall is 0.939441(2, 1)\n",
      "Nc -> 7, Order -> 4, alpha -> 1e-13: rmse -> 0.961372  | min_rmse is 0.961371, min_rmse_inall is 0.939441(2, 1)\n"
     ]
    },
    {
     "name": "stderr",
     "output_type": "stream",
     "text": [
      "//anaconda3/lib/python3.7/site-packages/sklearn/linear_model/_ridge.py:148: LinAlgWarning: Ill-conditioned matrix (rcond=2.65314e-17): result may not be accurate.\n",
      "  overwrite_a=True).T\n",
      "//anaconda3/lib/python3.7/site-packages/sklearn/linear_model/_ridge.py:148: LinAlgWarning: Ill-conditioned matrix (rcond=2.65314e-17): result may not be accurate.\n",
      "  overwrite_a=True).T\n"
     ]
    },
    {
     "name": "stdout",
     "output_type": "stream",
     "text": [
      "Nc -> 2, Order -> 5, alpha -> 1e-12: rmse -> 0.939682  | min_rmse is inf, min_rmse_inall is 0.939441(2, 1)\n",
      "Nc -> 2, Order -> 5, alpha -> 1e-20: rmse -> 0.939834  | min_rmse is 0.939682, min_rmse_inall is 0.939441(2, 1)\n",
      "Nc -> 2, Order -> 5, alpha -> 1e-14: rmse -> 0.939686  | min_rmse is 0.939682, min_rmse_inall is 0.939441(2, 1)\n",
      "Nc -> 2, Order -> 5, alpha -> 1e-13: rmse -> 0.939686  | min_rmse is 0.939682, min_rmse_inall is 0.939441(2, 1)\n"
     ]
    },
    {
     "name": "stderr",
     "output_type": "stream",
     "text": [
      "//anaconda3/lib/python3.7/site-packages/sklearn/linear_model/_ridge.py:148: LinAlgWarning: Ill-conditioned matrix (rcond=1.21697e-18): result may not be accurate.\n",
      "  overwrite_a=True).T\n",
      "//anaconda3/lib/python3.7/site-packages/sklearn/linear_model/_ridge.py:148: LinAlgWarning: Ill-conditioned matrix (rcond=1.21697e-18): result may not be accurate.\n",
      "  overwrite_a=True).T\n",
      "//anaconda3/lib/python3.7/site-packages/sklearn/linear_model/_ridge.py:148: LinAlgWarning: Ill-conditioned matrix (rcond=1.21697e-18): result may not be accurate.\n",
      "  overwrite_a=True).T\n"
     ]
    },
    {
     "name": "stdout",
     "output_type": "stream",
     "text": [
      "Nc -> 3, Order -> 5, alpha -> 1e-12: rmse -> 0.940228  | min_rmse is inf, min_rmse_inall is 0.939441(2, 1)\n",
      "Nc -> 3, Order -> 5, alpha -> 1e-20: rmse -> 0.940464  | min_rmse is 0.940228, min_rmse_inall is 0.939441(2, 1)\n",
      "Nc -> 3, Order -> 5, alpha -> 1e-14: rmse -> 0.940127  | min_rmse is 0.940228, min_rmse_inall is 0.939441(2, 1)\n",
      "Nc -> 3, Order -> 5, alpha -> 1e-13: rmse -> 0.940127  | min_rmse is 0.940127, min_rmse_inall is 0.939441(2, 1)\n"
     ]
    },
    {
     "name": "stderr",
     "output_type": "stream",
     "text": [
      "//anaconda3/lib/python3.7/site-packages/sklearn/linear_model/_ridge.py:148: LinAlgWarning: Ill-conditioned matrix (rcond=8.83692e-18): result may not be accurate.\n",
      "  overwrite_a=True).T\n",
      "//anaconda3/lib/python3.7/site-packages/sklearn/linear_model/_ridge.py:148: LinAlgWarning: Ill-conditioned matrix (rcond=8.83692e-18): result may not be accurate.\n",
      "  overwrite_a=True).T\n",
      "//anaconda3/lib/python3.7/site-packages/sklearn/linear_model/_ridge.py:148: LinAlgWarning: Ill-conditioned matrix (rcond=8.83692e-18): result may not be accurate.\n",
      "  overwrite_a=True).T\n",
      "//anaconda3/lib/python3.7/site-packages/sklearn/linear_model/_ridge.py:148: LinAlgWarning: Ill-conditioned matrix (rcond=8.83692e-18): result may not be accurate.\n",
      "  overwrite_a=True).T\n"
     ]
    },
    {
     "name": "stdout",
     "output_type": "stream",
     "text": [
      "Nc -> 4, Order -> 5, alpha -> 1e-12: rmse -> 0.940812  | min_rmse is inf, min_rmse_inall is 0.939441(2, 1)\n",
      "Nc -> 4, Order -> 5, alpha -> 1e-20: rmse -> 0.941954  | min_rmse is 0.940812, min_rmse_inall is 0.939441(2, 1)\n",
      "Nc -> 4, Order -> 5, alpha -> 1e-14: rmse -> 0.940270  | min_rmse is 0.940812, min_rmse_inall is 0.939441(2, 1)\n",
      "Nc -> 4, Order -> 5, alpha -> 1e-13: rmse -> 0.940270  | min_rmse is 0.940270, min_rmse_inall is 0.939441(2, 1)\n"
     ]
    },
    {
     "name": "stderr",
     "output_type": "stream",
     "text": [
      "//anaconda3/lib/python3.7/site-packages/sklearn/linear_model/_ridge.py:148: LinAlgWarning: Ill-conditioned matrix (rcond=2.5053e-17): result may not be accurate.\n",
      "  overwrite_a=True).T\n",
      "//anaconda3/lib/python3.7/site-packages/sklearn/linear_model/_ridge.py:148: LinAlgWarning: Ill-conditioned matrix (rcond=2.5053e-17): result may not be accurate.\n",
      "  overwrite_a=True).T\n",
      "//anaconda3/lib/python3.7/site-packages/sklearn/linear_model/_ridge.py:148: LinAlgWarning: Ill-conditioned matrix (rcond=2.5053e-17): result may not be accurate.\n",
      "  overwrite_a=True).T\n",
      "//anaconda3/lib/python3.7/site-packages/sklearn/linear_model/_ridge.py:148: LinAlgWarning: Ill-conditioned matrix (rcond=2.5053e-17): result may not be accurate.\n",
      "  overwrite_a=True).T\n",
      "//anaconda3/lib/python3.7/site-packages/sklearn/linear_model/_ridge.py:148: LinAlgWarning: Ill-conditioned matrix (rcond=2.5053e-17): result may not be accurate.\n",
      "  overwrite_a=True).T\n"
     ]
    },
    {
     "name": "stdout",
     "output_type": "stream",
     "text": [
      "Nc -> 5, Order -> 5, alpha -> 1e-12: rmse -> 0.942005  | min_rmse is inf, min_rmse_inall is 0.939441(2, 1)\n",
      "Nc -> 5, Order -> 5, alpha -> 1e-20: rmse -> 0.944574  | min_rmse is 0.942005, min_rmse_inall is 0.939441(2, 1)\n",
      "Nc -> 5, Order -> 5, alpha -> 1e-14: rmse -> 0.941759  | min_rmse is 0.942005, min_rmse_inall is 0.939441(2, 1)\n",
      "Nc -> 5, Order -> 5, alpha -> 1e-13: rmse -> 0.941760  | min_rmse is 0.941759, min_rmse_inall is 0.939441(2, 1)\n"
     ]
    },
    {
     "name": "stderr",
     "output_type": "stream",
     "text": [
      "//anaconda3/lib/python3.7/site-packages/sklearn/linear_model/_ridge.py:148: LinAlgWarning: Ill-conditioned matrix (rcond=2.47149e-17): result may not be accurate.\n",
      "  overwrite_a=True).T\n",
      "//anaconda3/lib/python3.7/site-packages/sklearn/linear_model/_ridge.py:148: LinAlgWarning: Ill-conditioned matrix (rcond=2.47149e-17): result may not be accurate.\n",
      "  overwrite_a=True).T\n",
      "//anaconda3/lib/python3.7/site-packages/sklearn/linear_model/_ridge.py:148: LinAlgWarning: Ill-conditioned matrix (rcond=2.47149e-17): result may not be accurate.\n",
      "  overwrite_a=True).T\n",
      "//anaconda3/lib/python3.7/site-packages/sklearn/linear_model/_ridge.py:148: LinAlgWarning: Ill-conditioned matrix (rcond=2.47149e-17): result may not be accurate.\n",
      "  overwrite_a=True).T\n",
      "//anaconda3/lib/python3.7/site-packages/sklearn/linear_model/_ridge.py:148: LinAlgWarning: Ill-conditioned matrix (rcond=2.47149e-17): result may not be accurate.\n",
      "  overwrite_a=True).T\n",
      "//anaconda3/lib/python3.7/site-packages/sklearn/linear_model/_ridge.py:148: LinAlgWarning: Ill-conditioned matrix (rcond=2.47149e-17): result may not be accurate.\n",
      "  overwrite_a=True).T\n"
     ]
    },
    {
     "name": "stdout",
     "output_type": "stream",
     "text": [
      "Nc -> 6, Order -> 5, alpha -> 1e-12: rmse -> 0.948461  | min_rmse is inf, min_rmse_inall is 0.939441(2, 1)\n",
      "Nc -> 6, Order -> 5, alpha -> 1e-20: rmse -> 0.950868  | min_rmse is 0.948461, min_rmse_inall is 0.939441(2, 1)\n",
      "Nc -> 6, Order -> 5, alpha -> 1e-14: rmse -> 0.948523  | min_rmse is 0.948461, min_rmse_inall is 0.939441(2, 1)\n",
      "Nc -> 6, Order -> 5, alpha -> 1e-13: rmse -> 0.948523  | min_rmse is 0.948461, min_rmse_inall is 0.939441(2, 1)\n"
     ]
    },
    {
     "name": "stderr",
     "output_type": "stream",
     "text": [
      "//anaconda3/lib/python3.7/site-packages/sklearn/linear_model/_ridge.py:148: LinAlgWarning: Ill-conditioned matrix (rcond=3.28315e-17): result may not be accurate.\n",
      "  overwrite_a=True).T\n",
      "//anaconda3/lib/python3.7/site-packages/sklearn/linear_model/_ridge.py:148: LinAlgWarning: Ill-conditioned matrix (rcond=3.28315e-17): result may not be accurate.\n",
      "  overwrite_a=True).T\n",
      "//anaconda3/lib/python3.7/site-packages/sklearn/linear_model/_ridge.py:148: LinAlgWarning: Ill-conditioned matrix (rcond=3.28315e-17): result may not be accurate.\n",
      "  overwrite_a=True).T\n",
      "//anaconda3/lib/python3.7/site-packages/sklearn/linear_model/_ridge.py:148: LinAlgWarning: Ill-conditioned matrix (rcond=3.28315e-17): result may not be accurate.\n",
      "  overwrite_a=True).T\n",
      "//anaconda3/lib/python3.7/site-packages/sklearn/linear_model/_ridge.py:148: LinAlgWarning: Ill-conditioned matrix (rcond=3.28315e-17): result may not be accurate.\n",
      "  overwrite_a=True).T\n",
      "//anaconda3/lib/python3.7/site-packages/sklearn/linear_model/_ridge.py:148: LinAlgWarning: Ill-conditioned matrix (rcond=3.28315e-17): result may not be accurate.\n",
      "  overwrite_a=True).T\n",
      "//anaconda3/lib/python3.7/site-packages/sklearn/linear_model/_ridge.py:148: LinAlgWarning: Ill-conditioned matrix (rcond=3.28315e-17): result may not be accurate.\n",
      "  overwrite_a=True).T\n"
     ]
    },
    {
     "name": "stdout",
     "output_type": "stream",
     "text": [
      "Nc -> 7, Order -> 5, alpha -> 1e-12: rmse -> 0.961314  | min_rmse is inf, min_rmse_inall is 0.939441(2, 1)\n",
      "Nc -> 7, Order -> 5, alpha -> 1e-20: rmse -> 0.963615  | min_rmse is 0.961314, min_rmse_inall is 0.939441(2, 1)\n",
      "Nc -> 7, Order -> 5, alpha -> 1e-14: rmse -> 0.961370  | min_rmse is 0.961314, min_rmse_inall is 0.939441(2, 1)\n"
     ]
    },
    {
     "name": "stderr",
     "output_type": "stream",
     "text": [
      "//anaconda3/lib/python3.7/site-packages/sklearn/linear_model/_ridge.py:148: LinAlgWarning: Ill-conditioned matrix (rcond=1.92285e-18): result may not be accurate.\n",
      "  overwrite_a=True).T\n",
      "//anaconda3/lib/python3.7/site-packages/sklearn/linear_model/_ridge.py:148: LinAlgWarning: Ill-conditioned matrix (rcond=1.92285e-18): result may not be accurate.\n",
      "  overwrite_a=True).T\n",
      "//anaconda3/lib/python3.7/site-packages/sklearn/linear_model/_ridge.py:148: LinAlgWarning: Ill-conditioned matrix (rcond=1.92285e-18): result may not be accurate.\n",
      "  overwrite_a=True).T\n",
      "//anaconda3/lib/python3.7/site-packages/sklearn/linear_model/_ridge.py:148: LinAlgWarning: Ill-conditioned matrix (rcond=1.92285e-18): result may not be accurate.\n",
      "  overwrite_a=True).T\n",
      "//anaconda3/lib/python3.7/site-packages/sklearn/linear_model/_ridge.py:148: LinAlgWarning: Ill-conditioned matrix (rcond=1.92285e-18): result may not be accurate.\n",
      "  overwrite_a=True).T\n",
      "//anaconda3/lib/python3.7/site-packages/sklearn/linear_model/_ridge.py:148: LinAlgWarning: Ill-conditioned matrix (rcond=1.92285e-18): result may not be accurate.\n",
      "  overwrite_a=True).T\n",
      "//anaconda3/lib/python3.7/site-packages/sklearn/linear_model/_ridge.py:148: LinAlgWarning: Ill-conditioned matrix (rcond=1.92285e-18): result may not be accurate.\n",
      "  overwrite_a=True).T\n"
     ]
    },
    {
     "name": "stdout",
     "output_type": "stream",
     "text": [
      "Nc -> 7, Order -> 5, alpha -> 1e-13: rmse -> 0.960928  | min_rmse is 0.961314, min_rmse_inall is 0.939441(2, 1)\n"
     ]
    },
    {
     "name": "stderr",
     "output_type": "stream",
     "text": [
      "//anaconda3/lib/python3.7/site-packages/sklearn/linear_model/_ridge.py:148: LinAlgWarning: Ill-conditioned matrix (rcond=4.5617e-18): result may not be accurate.\n",
      "  overwrite_a=True).T\n",
      "//anaconda3/lib/python3.7/site-packages/sklearn/linear_model/_ridge.py:148: LinAlgWarning: Ill-conditioned matrix (rcond=4.5617e-18): result may not be accurate.\n",
      "  overwrite_a=True).T\n"
     ]
    },
    {
     "name": "stdout",
     "output_type": "stream",
     "text": [
      "Nc -> 2, Order -> 6, alpha -> 1e-12: rmse -> 0.939749  | min_rmse is inf, min_rmse_inall is 0.939441(2, 1)\n",
      "Nc -> 2, Order -> 6, alpha -> 1e-20: rmse -> 0.939889  | min_rmse is 0.939749, min_rmse_inall is 0.939441(2, 1)\n",
      "Nc -> 2, Order -> 6, alpha -> 1e-14: rmse -> 0.939741  | min_rmse is 0.939749, min_rmse_inall is 0.939441(2, 1)\n",
      "Nc -> 2, Order -> 6, alpha -> 1e-13: rmse -> 0.939741  | min_rmse is 0.939741, min_rmse_inall is 0.939441(2, 1)\n"
     ]
    },
    {
     "name": "stderr",
     "output_type": "stream",
     "text": [
      "//anaconda3/lib/python3.7/site-packages/sklearn/linear_model/_ridge.py:148: LinAlgWarning: Ill-conditioned matrix (rcond=6.97887e-19): result may not be accurate.\n",
      "  overwrite_a=True).T\n",
      "//anaconda3/lib/python3.7/site-packages/sklearn/linear_model/_ridge.py:148: LinAlgWarning: Ill-conditioned matrix (rcond=6.97887e-19): result may not be accurate.\n",
      "  overwrite_a=True).T\n",
      "//anaconda3/lib/python3.7/site-packages/sklearn/linear_model/_ridge.py:148: LinAlgWarning: Ill-conditioned matrix (rcond=6.97887e-19): result may not be accurate.\n",
      "  overwrite_a=True).T\n"
     ]
    },
    {
     "name": "stdout",
     "output_type": "stream",
     "text": [
      "Nc -> 3, Order -> 6, alpha -> 1e-12: rmse -> 0.940271  | min_rmse is inf, min_rmse_inall is 0.939441(2, 1)\n",
      "Nc -> 3, Order -> 6, alpha -> 1e-20: rmse -> 0.940512  | min_rmse is 0.940271, min_rmse_inall is 0.939441(2, 1)\n",
      "Nc -> 3, Order -> 6, alpha -> 1e-14: rmse -> 0.940176  | min_rmse is 0.940271, min_rmse_inall is 0.939441(2, 1)\n",
      "Nc -> 3, Order -> 6, alpha -> 1e-13: rmse -> 0.940176  | min_rmse is 0.940176, min_rmse_inall is 0.939441(2, 1)\n"
     ]
    },
    {
     "name": "stderr",
     "output_type": "stream",
     "text": [
      "//anaconda3/lib/python3.7/site-packages/sklearn/linear_model/_ridge.py:148: LinAlgWarning: Ill-conditioned matrix (rcond=4.4427e-18): result may not be accurate.\n",
      "  overwrite_a=True).T\n",
      "//anaconda3/lib/python3.7/site-packages/sklearn/linear_model/_ridge.py:148: LinAlgWarning: Ill-conditioned matrix (rcond=4.4427e-18): result may not be accurate.\n",
      "  overwrite_a=True).T\n",
      "//anaconda3/lib/python3.7/site-packages/sklearn/linear_model/_ridge.py:148: LinAlgWarning: Ill-conditioned matrix (rcond=4.4427e-18): result may not be accurate.\n",
      "  overwrite_a=True).T\n",
      "//anaconda3/lib/python3.7/site-packages/sklearn/linear_model/_ridge.py:148: LinAlgWarning: Ill-conditioned matrix (rcond=4.4427e-18): result may not be accurate.\n",
      "  overwrite_a=True).T\n"
     ]
    },
    {
     "name": "stdout",
     "output_type": "stream",
     "text": [
      "Nc -> 4, Order -> 6, alpha -> 1e-12: rmse -> 0.940287  | min_rmse is inf, min_rmse_inall is 0.939441(2, 1)\n",
      "Nc -> 4, Order -> 6, alpha -> 1e-20: rmse -> 0.941989  | min_rmse is 0.940287, min_rmse_inall is 0.939441(2, 1)\n",
      "Nc -> 4, Order -> 6, alpha -> 1e-14: rmse -> 0.940283  | min_rmse is 0.940287, min_rmse_inall is 0.939441(2, 1)\n",
      "Nc -> 4, Order -> 6, alpha -> 1e-13: rmse -> 0.940283  | min_rmse is 0.940283, min_rmse_inall is 0.939441(2, 1)\n"
     ]
    },
    {
     "name": "stderr",
     "output_type": "stream",
     "text": [
      "//anaconda3/lib/python3.7/site-packages/sklearn/linear_model/_ridge.py:148: LinAlgWarning: Ill-conditioned matrix (rcond=1.79268e-17): result may not be accurate.\n",
      "  overwrite_a=True).T\n",
      "//anaconda3/lib/python3.7/site-packages/sklearn/linear_model/_ridge.py:148: LinAlgWarning: Ill-conditioned matrix (rcond=1.79268e-17): result may not be accurate.\n",
      "  overwrite_a=True).T\n",
      "//anaconda3/lib/python3.7/site-packages/sklearn/linear_model/_ridge.py:148: LinAlgWarning: Ill-conditioned matrix (rcond=1.79268e-17): result may not be accurate.\n",
      "  overwrite_a=True).T\n",
      "//anaconda3/lib/python3.7/site-packages/sklearn/linear_model/_ridge.py:148: LinAlgWarning: Ill-conditioned matrix (rcond=1.79268e-17): result may not be accurate.\n",
      "  overwrite_a=True).T\n",
      "//anaconda3/lib/python3.7/site-packages/sklearn/linear_model/_ridge.py:148: LinAlgWarning: Ill-conditioned matrix (rcond=1.79268e-17): result may not be accurate.\n",
      "  overwrite_a=True).T\n"
     ]
    },
    {
     "name": "stdout",
     "output_type": "stream",
     "text": [
      "Nc -> 5, Order -> 6, alpha -> 1e-12: rmse -> 0.941178  | min_rmse is inf, min_rmse_inall is 0.939441(2, 1)\n",
      "Nc -> 5, Order -> 6, alpha -> 1e-20: rmse -> 0.944533  | min_rmse is 0.941178, min_rmse_inall is 0.939441(2, 1)\n",
      "Nc -> 5, Order -> 6, alpha -> 1e-14: rmse -> 0.941547  | min_rmse is 0.941178, min_rmse_inall is 0.939441(2, 1)\n",
      "Nc -> 5, Order -> 6, alpha -> 1e-13: rmse -> 0.941548  | min_rmse is 0.941178, min_rmse_inall is 0.939441(2, 1)\n"
     ]
    },
    {
     "name": "stderr",
     "output_type": "stream",
     "text": [
      "//anaconda3/lib/python3.7/site-packages/sklearn/linear_model/_ridge.py:148: LinAlgWarning: Ill-conditioned matrix (rcond=1.2833e-17): result may not be accurate.\n",
      "  overwrite_a=True).T\n",
      "//anaconda3/lib/python3.7/site-packages/sklearn/linear_model/_ridge.py:148: LinAlgWarning: Ill-conditioned matrix (rcond=1.2833e-17): result may not be accurate.\n",
      "  overwrite_a=True).T\n",
      "//anaconda3/lib/python3.7/site-packages/sklearn/linear_model/_ridge.py:148: LinAlgWarning: Ill-conditioned matrix (rcond=1.2833e-17): result may not be accurate.\n",
      "  overwrite_a=True).T\n",
      "//anaconda3/lib/python3.7/site-packages/sklearn/linear_model/_ridge.py:148: LinAlgWarning: Ill-conditioned matrix (rcond=1.2833e-17): result may not be accurate.\n",
      "  overwrite_a=True).T\n",
      "//anaconda3/lib/python3.7/site-packages/sklearn/linear_model/_ridge.py:148: LinAlgWarning: Ill-conditioned matrix (rcond=1.2833e-17): result may not be accurate.\n",
      "  overwrite_a=True).T\n",
      "//anaconda3/lib/python3.7/site-packages/sklearn/linear_model/_ridge.py:148: LinAlgWarning: Ill-conditioned matrix (rcond=1.2833e-17): result may not be accurate.\n",
      "  overwrite_a=True).T\n"
     ]
    },
    {
     "name": "stdout",
     "output_type": "stream",
     "text": [
      "Nc -> 6, Order -> 6, alpha -> 1e-12: rmse -> 0.947535  | min_rmse is inf, min_rmse_inall is 0.939441(2, 1)\n",
      "Nc -> 6, Order -> 6, alpha -> 1e-20: rmse -> 0.950914  | min_rmse is 0.947535, min_rmse_inall is 0.939441(2, 1)\n",
      "Nc -> 6, Order -> 6, alpha -> 1e-14: rmse -> 0.948273  | min_rmse is 0.947535, min_rmse_inall is 0.939441(2, 1)\n",
      "Nc -> 6, Order -> 6, alpha -> 1e-13: rmse -> 0.948274  | min_rmse is 0.947535, min_rmse_inall is 0.939441(2, 1)\n"
     ]
    },
    {
     "name": "stderr",
     "output_type": "stream",
     "text": [
      "//anaconda3/lib/python3.7/site-packages/sklearn/linear_model/_ridge.py:148: LinAlgWarning: Ill-conditioned matrix (rcond=1.97919e-17): result may not be accurate.\n",
      "  overwrite_a=True).T\n",
      "//anaconda3/lib/python3.7/site-packages/sklearn/linear_model/_ridge.py:148: LinAlgWarning: Ill-conditioned matrix (rcond=1.97919e-17): result may not be accurate.\n",
      "  overwrite_a=True).T\n",
      "//anaconda3/lib/python3.7/site-packages/sklearn/linear_model/_ridge.py:148: LinAlgWarning: Ill-conditioned matrix (rcond=1.97919e-17): result may not be accurate.\n",
      "  overwrite_a=True).T\n",
      "//anaconda3/lib/python3.7/site-packages/sklearn/linear_model/_ridge.py:148: LinAlgWarning: Ill-conditioned matrix (rcond=1.97919e-17): result may not be accurate.\n",
      "  overwrite_a=True).T\n",
      "//anaconda3/lib/python3.7/site-packages/sklearn/linear_model/_ridge.py:148: LinAlgWarning: Ill-conditioned matrix (rcond=1.97919e-17): result may not be accurate.\n",
      "  overwrite_a=True).T\n",
      "//anaconda3/lib/python3.7/site-packages/sklearn/linear_model/_ridge.py:148: LinAlgWarning: Ill-conditioned matrix (rcond=1.97919e-17): result may not be accurate.\n",
      "  overwrite_a=True).T\n",
      "//anaconda3/lib/python3.7/site-packages/sklearn/linear_model/_ridge.py:148: LinAlgWarning: Ill-conditioned matrix (rcond=1.97919e-17): result may not be accurate.\n",
      "  overwrite_a=True).T\n"
     ]
    },
    {
     "name": "stdout",
     "output_type": "stream",
     "text": [
      "Nc -> 7, Order -> 6, alpha -> 1e-12: rmse -> 0.961876  | min_rmse is inf, min_rmse_inall is 0.939441(2, 1)\n",
      "Nc -> 7, Order -> 6, alpha -> 1e-20: rmse -> 0.963644  | min_rmse is 0.961876, min_rmse_inall is 0.939441(2, 1)\n",
      "Nc -> 7, Order -> 6, alpha -> 1e-14: rmse -> 0.961966  | min_rmse is 0.961876, min_rmse_inall is 0.939441(2, 1)\n",
      "Nc -> 7, Order -> 6, alpha -> 1e-13: rmse -> 0.961968  | min_rmse is 0.961876, min_rmse_inall is 0.939441(2, 1)\n"
     ]
    }
   ],
   "source": [
    "df1 = analyze_paras_HFCM(df, ratio=0.8, sp = True)"
   ]
  },
  {
   "cell_type": "code",
   "execution_count": 17,
   "metadata": {},
   "outputs": [],
   "source": [
    "pred = np.load('best_predict.npy')"
   ]
  },
  {
   "cell_type": "code",
   "execution_count": 18,
   "metadata": {},
   "outputs": [
    {
     "data": {
      "text/plain": [
       "[<matplotlib.lines.Line2D at 0x11d4a37f0>]"
      ]
     },
     "execution_count": 18,
     "metadata": {},
     "output_type": "execute_result"
    },
    {
     "data": {
      "image/png": "[encoded data removed]",
      "text/plain": [
       "<Figure size 432x288 with 1 Axes>"
      ]
     },
     "metadata": {
      "needs_background": "light"
     },
     "output_type": "display_data"
    }
   ],
   "source": [
    "plt.plot(pred)"
   ]
  },
  {
   "cell_type": "code",
   "execution_count": null,
   "metadata": {},
   "outputs": [],
   "source": []
  }
 ],
 "metadata": {
  "kernelspec": {
   "display_name": "Python 3",
   "language": "python",
   "name": "python3"
  },
  "language_info": {
   "codemirror_mode": {
    "name": "ipython",
    "version": 3
   },
   "file_extension": ".py",
   "mimetype": "text/x-python",
   "name": "python",
   "nbconvert_exporter": "python",
   "pygments_lexer": "ipython3",
   "version": "3.7.3"
  }
 },
 "nbformat": 4,
 "nbformat_minor": 2
}
