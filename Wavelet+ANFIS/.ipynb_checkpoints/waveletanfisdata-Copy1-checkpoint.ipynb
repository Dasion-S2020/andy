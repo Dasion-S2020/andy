{
 "cells": [
  {
   "cell_type": "code",
   "execution_count": 2,
   "metadata": {},
   "outputs": [],
   "source": [
    "import pandas as pd\n",
    "import numpy as np\n",
    "import math\n",
    "import pywt\n",
    "from sklearn import preprocessing\n",
    "import matplotlib.pyplot as plt"
   ]
  },
  {
   "cell_type": "code",
   "execution_count": 3,
   "metadata": {},
   "outputs": [],
   "source": [
    "df = pd.read_csv('/Users/andyliu/Downloads/SPY.csv')"
   ]
  },
  {
   "cell_type": "code",
   "execution_count": 4,
   "metadata": {},
   "outputs": [],
   "source": [
    "data = df[['Open', 'High', 'Low', 'Close', 'Volume']]"
   ]
  },
  {
   "cell_type": "code",
   "execution_count": 5,
   "metadata": {},
   "outputs": [],
   "source": [
    "train_n = data.shape[0]*4//5\n",
    "train = data.iloc[:train_n,:]\n",
    "test = data.iloc[train_n:,:]"
   ]
  },
  {
   "cell_type": "code",
   "execution_count": 6,
   "metadata": {},
   "outputs": [],
   "source": [
    "train_y = train['Close']\n",
    "train_x = train.drop('Close', axis=1)\n",
    "test_y = test['Close']\n",
    "test_x = test.drop('Close', axis=1)"
   ]
  },
  {
   "cell_type": "code",
   "execution_count": 7,
   "metadata": {},
   "outputs": [
    {
     "data": {
      "text/html": [
       "<div>\n",
       "<style scoped>\n",
       "    .dataframe tbody tr th:only-of-type {\n",
       "        vertical-align: middle;\n",
       "    }\n",
       "\n",
       "    .dataframe tbody tr th {\n",
       "        vertical-align: top;\n",
       "    }\n",
       "\n",
       "    .dataframe thead th {\n",
       "        text-align: right;\n",
       "    }\n",
       "</style>\n",
       "<table border=\"1\" class=\"dataframe\">\n",
       "  <thead>\n",
       "    <tr style=\"text-align: right;\">\n",
       "      <th></th>\n",
       "      <th>Open</th>\n",
       "      <th>High</th>\n",
       "      <th>Low</th>\n",
       "      <th>Volume</th>\n",
       "    </tr>\n",
       "  </thead>\n",
       "  <tbody>\n",
       "    <tr>\n",
       "      <th>0</th>\n",
       "      <td>201.729996</td>\n",
       "      <td>203.940002</td>\n",
       "      <td>197.520004</td>\n",
       "      <td>346588500</td>\n",
       "    </tr>\n",
       "    <tr>\n",
       "      <th>1</th>\n",
       "      <td>187.490005</td>\n",
       "      <td>197.479996</td>\n",
       "      <td>182.399994</td>\n",
       "      <td>507244300</td>\n",
       "    </tr>\n",
       "    <tr>\n",
       "      <th>2</th>\n",
       "      <td>195.429993</td>\n",
       "      <td>195.449997</td>\n",
       "      <td>186.919998</td>\n",
       "      <td>369833100</td>\n",
       "    </tr>\n",
       "    <tr>\n",
       "      <th>3</th>\n",
       "      <td>192.080002</td>\n",
       "      <td>194.789993</td>\n",
       "      <td>188.369995</td>\n",
       "      <td>339257000</td>\n",
       "    </tr>\n",
       "    <tr>\n",
       "      <th>4</th>\n",
       "      <td>197.020004</td>\n",
       "      <td>199.419998</td>\n",
       "      <td>195.210007</td>\n",
       "      <td>274143900</td>\n",
       "    </tr>\n",
       "  </tbody>\n",
       "</table>\n",
       "</div>"
      ],
      "text/plain": [
       "         Open        High         Low     Volume\n",
       "0  201.729996  203.940002  197.520004  346588500\n",
       "1  187.490005  197.479996  182.399994  507244300\n",
       "2  195.429993  195.449997  186.919998  369833100\n",
       "3  192.080002  194.789993  188.369995  339257000\n",
       "4  197.020004  199.419998  195.210007  274143900"
      ]
     },
     "execution_count": 7,
     "metadata": {},
     "output_type": "execute_result"
    }
   ],
   "source": [
    "train_x.head()"
   ]
  },
  {
   "cell_type": "code",
   "execution_count": 8,
   "metadata": {},
   "outputs": [],
   "source": [
    "scaler_x = preprocessing.MinMaxScaler()"
   ]
  },
  {
   "cell_type": "code",
   "execution_count": 9,
   "metadata": {},
   "outputs": [],
   "source": [
    "train_x_scaled = scaler_x.fit_transform(train_x)"
   ]
  },
  {
   "cell_type": "code",
   "execution_count": 10,
   "metadata": {},
   "outputs": [],
   "source": [
    "test_x_scaled = scaler_x.transform(test_x)"
   ]
  },
  {
   "cell_type": "code",
   "execution_count": 11,
   "metadata": {},
   "outputs": [],
   "source": [
    "scaler_y = preprocessing.MinMaxScaler()"
   ]
  },
  {
   "cell_type": "code",
   "execution_count": 12,
   "metadata": {},
   "outputs": [],
   "source": [
    "train_y_scaled = scaler_y.fit_transform(np.array(train_y).reshape(-1, 1))\n",
    "test_y_scaled = scaler_y.transform(np.array(test_y).reshape(-1, 1))"
   ]
  },
  {
   "cell_type": "code",
   "execution_count": 13,
   "metadata": {},
   "outputs": [
    {
     "data": {
      "text/plain": [
       "(1007, 4)"
      ]
     },
     "execution_count": 13,
     "metadata": {},
     "output_type": "execute_result"
    }
   ],
   "source": [
    "train_x_scaled.shape"
   ]
  },
  {
   "cell_type": "code",
   "execution_count": 14,
   "metadata": {},
   "outputs": [
    {
     "name": "stderr",
     "output_type": "stream",
     "text": [
      "//anaconda3/lib/python3.7/site-packages/pywt/_multilevel.py:45: UserWarning: Level value of 3 is too high: all coefficients will experience boundary effects.\n",
      "  \"boundary effects.\").format(level))\n"
     ]
    }
   ],
   "source": [
    "train_x_transformed = pywt.wavedec(train_x_scaled, wavelet='db2', level=3, mode='symmetric')"
   ]
  },
  {
   "cell_type": "code",
   "execution_count": 15,
   "metadata": {},
   "outputs": [],
   "source": [
    "test_x_transformed = pywt.wavedec(test_x_scaled, wavelet='db2', level=3, mode='symmetric')"
   ]
  },
  {
   "cell_type": "code",
   "execution_count": 16,
   "metadata": {},
   "outputs": [],
   "source": [
    "def getFeatures(x_transformed):\n",
    "    d = {}\n",
    "    features = ['Open', 'High', 'Low', 'Volume']\n",
    "    for i in range(len(x_transformed)):\n",
    "        feature = features[i]\n",
    "        a1 = []\n",
    "        d1 = []\n",
    "        d2 = []\n",
    "        for j in range(len(x_transformed[i])):\n",
    "            a1.append(x_transformed[i][j][0])\n",
    "            d1.append(x_transformed[i][j][1])\n",
    "            d2.append(x_transformed[i][j][2])\n",
    "        l = [a1, d1, d2]\n",
    "        for k in range(3):\n",
    "            s = feature + str(k)\n",
    "            d[s] = l[k]\n",
    "    return(d)"
   ]
  },
  {
   "cell_type": "code",
   "execution_count": 29,
   "metadata": {},
   "outputs": [],
   "source": [
    "x = getFeatures(train_x_transformed)\n",
    "X_train = pd.DataFrame(x)"
   ]
  },
  {
   "cell_type": "code",
   "execution_count": 30,
   "metadata": {},
   "outputs": [],
   "source": [
    "x1 = getFeatures(test_x_transformed)\n",
    "X_test = pd.DataFrame(x1)"
   ]
  },
  {
   "cell_type": "code",
   "execution_count": 19,
   "metadata": {},
   "outputs": [],
   "source": [
    "#X_train = scaler_x.fit_transform(X_train)\n",
    "#X_test = scaler_x.transform(X_test)"
   ]
  },
  {
   "cell_type": "code",
   "execution_count": 31,
   "metadata": {},
   "outputs": [
    {
     "data": {
      "text/html": [
       "<div>\n",
       "<style scoped>\n",
       "    .dataframe tbody tr th:only-of-type {\n",
       "        vertical-align: middle;\n",
       "    }\n",
       "\n",
       "    .dataframe tbody tr th {\n",
       "        vertical-align: top;\n",
       "    }\n",
       "\n",
       "    .dataframe thead th {\n",
       "        text-align: right;\n",
       "    }\n",
       "</style>\n",
       "<table border=\"1\" class=\"dataframe\">\n",
       "  <thead>\n",
       "    <tr style=\"text-align: right;\">\n",
       "      <th></th>\n",
       "      <th>Open0</th>\n",
       "      <th>Open1</th>\n",
       "      <th>Open2</th>\n",
       "      <th>High0</th>\n",
       "      <th>High1</th>\n",
       "      <th>High2</th>\n",
       "      <th>Low0</th>\n",
       "      <th>Low1</th>\n",
       "      <th>Low2</th>\n",
       "      <th>Volume0</th>\n",
       "      <th>Volume1</th>\n",
       "      <th>Volume2</th>\n",
       "    </tr>\n",
       "  </thead>\n",
       "  <tbody>\n",
       "    <tr>\n",
       "      <th>0</th>\n",
       "      <td>0.434891</td>\n",
       "      <td>0.509127</td>\n",
       "      <td>1.353914</td>\n",
       "      <td>-0.010267</td>\n",
       "      <td>0.243075</td>\n",
       "      <td>-0.232808</td>\n",
       "      <td>0.041500</td>\n",
       "      <td>0.199909</td>\n",
       "      <td>-0.241408</td>\n",
       "      <td>-0.003518</td>\n",
       "      <td>-0.264561</td>\n",
       "      <td>0.322829</td>\n",
       "    </tr>\n",
       "    <tr>\n",
       "      <th>1</th>\n",
       "      <td>0.139199</td>\n",
       "      <td>0.284925</td>\n",
       "      <td>1.854274</td>\n",
       "      <td>-0.028102</td>\n",
       "      <td>0.450858</td>\n",
       "      <td>-0.422757</td>\n",
       "      <td>0.059409</td>\n",
       "      <td>0.367871</td>\n",
       "      <td>-0.427279</td>\n",
       "      <td>-0.042978</td>\n",
       "      <td>-0.504292</td>\n",
       "      <td>0.605320</td>\n",
       "    </tr>\n",
       "    <tr>\n",
       "      <th>2</th>\n",
       "      <td>0.255303</td>\n",
       "      <td>0.340153</td>\n",
       "      <td>1.356816</td>\n",
       "      <td>-0.007172</td>\n",
       "      <td>0.292931</td>\n",
       "      <td>-0.285759</td>\n",
       "      <td>0.060096</td>\n",
       "      <td>0.242588</td>\n",
       "      <td>-0.302684</td>\n",
       "      <td>0.008220</td>\n",
       "      <td>-0.339047</td>\n",
       "      <td>0.406692</td>\n",
       "    </tr>\n",
       "    <tr>\n",
       "      <th>3</th>\n",
       "      <td>0.207248</td>\n",
       "      <td>0.292095</td>\n",
       "      <td>1.248301</td>\n",
       "      <td>-0.012567</td>\n",
       "      <td>0.275061</td>\n",
       "      <td>-0.262493</td>\n",
       "      <td>0.045119</td>\n",
       "      <td>0.225908</td>\n",
       "      <td>-0.271027</td>\n",
       "      <td>-0.005520</td>\n",
       "      <td>-0.293241</td>\n",
       "      <td>0.360224</td>\n",
       "    </tr>\n",
       "    <tr>\n",
       "      <th>4</th>\n",
       "      <td>0.333600</td>\n",
       "      <td>0.393062</td>\n",
       "      <td>1.054825</td>\n",
       "      <td>-0.009554</td>\n",
       "      <td>0.190296</td>\n",
       "      <td>-0.180741</td>\n",
       "      <td>0.029548</td>\n",
       "      <td>0.156013</td>\n",
       "      <td>-0.185561</td>\n",
       "      <td>-0.004215</td>\n",
       "      <td>-0.194026</td>\n",
       "      <td>0.242093</td>\n",
       "    </tr>\n",
       "  </tbody>\n",
       "</table>\n",
       "</div>"
      ],
      "text/plain": [
       "      Open0     Open1     Open2     High0     High1     High2      Low0  \\\n",
       "0  0.434891  0.509127  1.353914 -0.010267  0.243075 -0.232808  0.041500   \n",
       "1  0.139199  0.284925  1.854274 -0.028102  0.450858 -0.422757  0.059409   \n",
       "2  0.255303  0.340153  1.356816 -0.007172  0.292931 -0.285759  0.060096   \n",
       "3  0.207248  0.292095  1.248301 -0.012567  0.275061 -0.262493  0.045119   \n",
       "4  0.333600  0.393062  1.054825 -0.009554  0.190296 -0.180741  0.029548   \n",
       "\n",
       "       Low1      Low2   Volume0   Volume1   Volume2  \n",
       "0  0.199909 -0.241408 -0.003518 -0.264561  0.322829  \n",
       "1  0.367871 -0.427279 -0.042978 -0.504292  0.605320  \n",
       "2  0.242588 -0.302684  0.008220 -0.339047  0.406692  \n",
       "3  0.225908 -0.271027 -0.005520 -0.293241  0.360224  \n",
       "4  0.156013 -0.185561 -0.004215 -0.194026  0.242093  "
      ]
     },
     "execution_count": 31,
     "metadata": {},
     "output_type": "execute_result"
    }
   ],
   "source": [
    "pd.DataFrame(X_train).head()"
   ]
  },
  {
   "cell_type": "code",
   "execution_count": 25,
   "metadata": {},
   "outputs": [],
   "source": [
    "np.savetxt('./trainy_spy.csv', np.array(train_y_scaled), delimiter=',')"
   ]
  },
  {
   "cell_type": "code",
   "execution_count": 26,
   "metadata": {},
   "outputs": [],
   "source": [
    "np.savetxt('./testy_spy.csv', np.array(test_y_scaled), delimiter=',')"
   ]
  },
  {
   "cell_type": "code",
   "execution_count": 32,
   "metadata": {},
   "outputs": [],
   "source": [
    "np.savetxt('./trainx_spy.csv', np.array(X_train), delimiter=',')"
   ]
  },
  {
   "cell_type": "code",
   "execution_count": 33,
   "metadata": {},
   "outputs": [],
   "source": [
    "np.savetxt('./testx_spy.csv', np.array(X_test), delimiter=',')"
   ]
  },
  {
   "cell_type": "code",
   "execution_count": null,
   "metadata": {},
   "outputs": [],
   "source": []
  }
 ],
 "metadata": {
  "kernelspec": {
   "display_name": "Python 3",
   "language": "python",
   "name": "python3"
  },
  "language_info": {
   "codemirror_mode": {
    "name": "ipython",
    "version": 3
   },
   "file_extension": ".py",
   "mimetype": "text/x-python",
   "name": "python",
   "nbconvert_exporter": "python",
   "pygments_lexer": "ipython3",
   "version": "3.7.3"
  }
 },
 "nbformat": 4,
 "nbformat_minor": 2
}
