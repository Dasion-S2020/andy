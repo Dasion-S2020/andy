{
 "cells": [
  {
   "cell_type": "code",
   "execution_count": 4,
   "metadata": {},
   "outputs": [],
   "source": [
    "import anfis\n",
    "import pandas as pd\n",
    "import numpy as np\n",
    "import math\n",
    "import pywt\n",
    "from sklearn import preprocessing\n",
    "import matplotlib.pyplot as plt"
   ]
  },
  {
   "cell_type": "code",
   "execution_count": 5,
   "metadata": {},
   "outputs": [],
   "source": [
    "df = pd.read_csv('/Users/andyliu/develop/andy/aapl_indicators_yahoo.csv')"
   ]
  },
  {
   "cell_type": "code",
   "execution_count": 6,
   "metadata": {},
   "outputs": [],
   "source": [
    "data = df[['Open', 'High', 'Low', 'Close', 'Volume']]"
   ]
  },
  {
   "cell_type": "code",
   "execution_count": 7,
   "metadata": {},
   "outputs": [],
   "source": [
    "train_n = data.shape[0]*4//5\n",
    "train = data.iloc[:train_n,:]\n",
    "test = data.iloc[train_n:,:]"
   ]
  },
  {
   "cell_type": "code",
   "execution_count": 8,
   "metadata": {},
   "outputs": [],
   "source": [
    "train_y = train['Close']\n",
    "train_x = train.drop('Close', axis=1)\n",
    "test_y = test['Close']\n",
    "test_x = test.drop('Close', axis=1)"
   ]
  },
  {
   "cell_type": "code",
   "execution_count": 9,
   "metadata": {},
   "outputs": [
    {
     "data": {
      "text/html": [
       "<div>\n",
       "<style scoped>\n",
       "    .dataframe tbody tr th:only-of-type {\n",
       "        vertical-align: middle;\n",
       "    }\n",
       "\n",
       "    .dataframe tbody tr th {\n",
       "        vertical-align: top;\n",
       "    }\n",
       "\n",
       "    .dataframe thead th {\n",
       "        text-align: right;\n",
       "    }\n",
       "</style>\n",
       "<table border=\"1\" class=\"dataframe\">\n",
       "  <thead>\n",
       "    <tr style=\"text-align: right;\">\n",
       "      <th></th>\n",
       "      <th>Open</th>\n",
       "      <th>High</th>\n",
       "      <th>Low</th>\n",
       "      <th>Volume</th>\n",
       "    </tr>\n",
       "  </thead>\n",
       "  <tbody>\n",
       "    <tr>\n",
       "      <th>0</th>\n",
       "      <td>4.071429</td>\n",
       "      <td>4.147321</td>\n",
       "      <td>3.973214</td>\n",
       "      <td>102160800</td>\n",
       "    </tr>\n",
       "    <tr>\n",
       "      <th>1</th>\n",
       "      <td>4.075893</td>\n",
       "      <td>4.183036</td>\n",
       "      <td>4.015625</td>\n",
       "      <td>74841200</td>\n",
       "    </tr>\n",
       "    <tr>\n",
       "      <th>2</th>\n",
       "      <td>4.031250</td>\n",
       "      <td>4.066964</td>\n",
       "      <td>3.928571</td>\n",
       "      <td>75745600</td>\n",
       "    </tr>\n",
       "    <tr>\n",
       "      <th>3</th>\n",
       "      <td>4.058036</td>\n",
       "      <td>4.075893</td>\n",
       "      <td>3.866071</td>\n",
       "      <td>53062800</td>\n",
       "    </tr>\n",
       "    <tr>\n",
       "      <th>4</th>\n",
       "      <td>3.904018</td>\n",
       "      <td>4.138393</td>\n",
       "      <td>3.879464</td>\n",
       "      <td>91884800</td>\n",
       "    </tr>\n",
       "  </tbody>\n",
       "</table>\n",
       "</div>"
      ],
      "text/plain": [
       "       Open      High       Low     Volume\n",
       "0  4.071429  4.147321  3.973214  102160800\n",
       "1  4.075893  4.183036  4.015625   74841200\n",
       "2  4.031250  4.066964  3.928571   75745600\n",
       "3  4.058036  4.075893  3.866071   53062800\n",
       "4  3.904018  4.138393  3.879464   91884800"
      ]
     },
     "execution_count": 9,
     "metadata": {},
     "output_type": "execute_result"
    }
   ],
   "source": [
    "train_x.head()"
   ]
  },
  {
   "cell_type": "code",
   "execution_count": 10,
   "metadata": {},
   "outputs": [],
   "source": [
    "scaler_x = preprocessing.MinMaxScaler()"
   ]
  },
  {
   "cell_type": "code",
   "execution_count": 11,
   "metadata": {},
   "outputs": [],
   "source": [
    "train_x_scaled = scaler_x.fit_transform(train_x)"
   ]
  },
  {
   "cell_type": "code",
   "execution_count": 61,
   "metadata": {},
   "outputs": [],
   "source": [
    "test_x_scaled = scaler_x.transform(test_x)"
   ]
  },
  {
   "cell_type": "code",
   "execution_count": 13,
   "metadata": {},
   "outputs": [],
   "source": [
    "scaler_y = preprocessing.MinMaxScaler()"
   ]
  },
  {
   "cell_type": "code",
   "execution_count": 14,
   "metadata": {},
   "outputs": [],
   "source": [
    "train_y_scaled = scaler_y.fit_transform(np.array(train_y).reshape(-1, 1))\n",
    "test_y_scaled = scaler_y.transform(np.array(test_y).reshape(-1, 1))"
   ]
  },
  {
   "cell_type": "code",
   "execution_count": 32,
   "metadata": {},
   "outputs": [
    {
     "data": {
      "text/plain": [
       "(4095, 4)"
      ]
     },
     "execution_count": 32,
     "metadata": {},
     "output_type": "execute_result"
    }
   ],
   "source": [
    "train_x_scaled.shape"
   ]
  },
  {
   "cell_type": "code",
   "execution_count": 39,
   "metadata": {},
   "outputs": [],
   "source": [
    "train_x_transformed = pywt.wavedec(train_x_scaled, wavelet='db2', level=3, mode='symmetric')"
   ]
  },
  {
   "cell_type": "code",
   "execution_count": 63,
   "metadata": {},
   "outputs": [
    {
     "name": "stderr",
     "output_type": "stream",
     "text": [
      "//anaconda3/lib/python3.7/site-packages/pywt/_multilevel.py:45: UserWarning: Level value of 3 is too high: all coefficients will experience boundary effects.\n",
      "  \"boundary effects.\").format(level))\n"
     ]
    }
   ],
   "source": [
    "test_x_transformed = pywt.wavedec(test_x_scaled, wavelet='db2', level=3, mode='symmetric')"
   ]
  },
  {
   "cell_type": "code",
   "execution_count": 71,
   "metadata": {},
   "outputs": [],
   "source": [
    "def getFeatures(x_transformed):\n",
    "    d = {}\n",
    "    features = ['Open', 'High', 'Low', 'Volume']\n",
    "    for i in range(len(x_transformed)):\n",
    "        feature = features[i]\n",
    "        a1 = []\n",
    "        d1 = []\n",
    "        d2 = []\n",
    "        for j in range(len(x_transformed[i])):\n",
    "            a1.append(x_transformed[i][j][0])\n",
    "            d1.append(x_transformed[i][j][1])\n",
    "            d2.append(x_transformed[i][j][2])\n",
    "        l = [a1, d1, d2]\n",
    "        for k in range(3):\n",
    "            s = feature + str(k)\n",
    "            d[s] = l[k]\n",
    "    return(d)"
   ]
  },
  {
   "cell_type": "code",
   "execution_count": 49,
   "metadata": {},
   "outputs": [],
   "source": [
    "x = getFeatures(train_x_transformed)\n",
    "X_train = pd.DataFrame(x)"
   ]
  },
  {
   "cell_type": "code",
   "execution_count": 72,
   "metadata": {},
   "outputs": [],
   "source": [
    "x1 = getFeatures(test_x_transformed)\n",
    "X_test = pd.DataFrame(x1)"
   ]
  },
  {
   "cell_type": "code",
   "execution_count": 74,
   "metadata": {},
   "outputs": [
    {
     "data": {
      "text/html": [
       "<div>\n",
       "<style scoped>\n",
       "    .dataframe tbody tr th:only-of-type {\n",
       "        vertical-align: middle;\n",
       "    }\n",
       "\n",
       "    .dataframe tbody tr th {\n",
       "        vertical-align: top;\n",
       "    }\n",
       "\n",
       "    .dataframe thead th {\n",
       "        text-align: right;\n",
       "    }\n",
       "</style>\n",
       "<table border=\"1\" class=\"dataframe\">\n",
       "  <thead>\n",
       "    <tr style=\"text-align: right;\">\n",
       "      <th></th>\n",
       "      <th>Open0</th>\n",
       "      <th>Open1</th>\n",
       "      <th>Open2</th>\n",
       "      <th>High0</th>\n",
       "      <th>High1</th>\n",
       "      <th>High2</th>\n",
       "      <th>Low0</th>\n",
       "      <th>Low1</th>\n",
       "      <th>Low2</th>\n",
       "      <th>Volume0</th>\n",
       "      <th>Volume1</th>\n",
       "      <th>Volume2</th>\n",
       "    </tr>\n",
       "  </thead>\n",
       "  <tbody>\n",
       "    <tr>\n",
       "      <th>0</th>\n",
       "      <td>2.021274</td>\n",
       "      <td>1.916835</td>\n",
       "      <td>0.739034</td>\n",
       "      <td>0.015398</td>\n",
       "      <td>-0.338811</td>\n",
       "      <td>0.323413</td>\n",
       "      <td>-0.055736</td>\n",
       "      <td>-0.278292</td>\n",
       "      <td>0.334028</td>\n",
       "      <td>0.000277</td>\n",
       "      <td>0.340594</td>\n",
       "      <td>-0.428006</td>\n",
       "    </tr>\n",
       "    <tr>\n",
       "      <th>1</th>\n",
       "      <td>2.028437</td>\n",
       "      <td>1.925204</td>\n",
       "      <td>0.747586</td>\n",
       "      <td>0.014022</td>\n",
       "      <td>-0.338865</td>\n",
       "      <td>0.324842</td>\n",
       "      <td>-0.058416</td>\n",
       "      <td>-0.278781</td>\n",
       "      <td>0.337197</td>\n",
       "      <td>-0.003344</td>\n",
       "      <td>0.344944</td>\n",
       "      <td>-0.431938</td>\n",
       "    </tr>\n",
       "    <tr>\n",
       "      <th>2</th>\n",
       "      <td>2.058771</td>\n",
       "      <td>1.954768</td>\n",
       "      <td>0.763712</td>\n",
       "      <td>0.013711</td>\n",
       "      <td>-0.342768</td>\n",
       "      <td>0.329057</td>\n",
       "      <td>-0.060006</td>\n",
       "      <td>-0.282144</td>\n",
       "      <td>0.342150</td>\n",
       "      <td>-0.005771</td>\n",
       "      <td>0.346603</td>\n",
       "      <td>-0.435347</td>\n",
       "    </tr>\n",
       "    <tr>\n",
       "      <th>3</th>\n",
       "      <td>2.084340</td>\n",
       "      <td>1.978276</td>\n",
       "      <td>0.769334</td>\n",
       "      <td>0.014494</td>\n",
       "      <td>-0.347870</td>\n",
       "      <td>0.333376</td>\n",
       "      <td>-0.059776</td>\n",
       "      <td>-0.286158</td>\n",
       "      <td>0.345934</td>\n",
       "      <td>-0.003705</td>\n",
       "      <td>0.352038</td>\n",
       "      <td>-0.441792</td>\n",
       "    </tr>\n",
       "    <tr>\n",
       "      <th>4</th>\n",
       "      <td>2.116864</td>\n",
       "      <td>2.009339</td>\n",
       "      <td>0.782968</td>\n",
       "      <td>0.014624</td>\n",
       "      <td>-0.352892</td>\n",
       "      <td>0.338268</td>\n",
       "      <td>-0.060793</td>\n",
       "      <td>-0.290314</td>\n",
       "      <td>0.351107</td>\n",
       "      <td>-0.004619</td>\n",
       "      <td>0.355213</td>\n",
       "      <td>-0.446747</td>\n",
       "    </tr>\n",
       "  </tbody>\n",
       "</table>\n",
       "</div>"
      ],
      "text/plain": [
       "      Open0     Open1     Open2     High0     High1     High2      Low0  \\\n",
       "0  2.021274  1.916835  0.739034  0.015398 -0.338811  0.323413 -0.055736   \n",
       "1  2.028437  1.925204  0.747586  0.014022 -0.338865  0.324842 -0.058416   \n",
       "2  2.058771  1.954768  0.763712  0.013711 -0.342768  0.329057 -0.060006   \n",
       "3  2.084340  1.978276  0.769334  0.014494 -0.347870  0.333376 -0.059776   \n",
       "4  2.116864  2.009339  0.782968  0.014624 -0.352892  0.338268 -0.060793   \n",
       "\n",
       "       Low1      Low2   Volume0   Volume1   Volume2  \n",
       "0 -0.278292  0.334028  0.000277  0.340594 -0.428006  \n",
       "1 -0.278781  0.337197 -0.003344  0.344944 -0.431938  \n",
       "2 -0.282144  0.342150 -0.005771  0.346603 -0.435347  \n",
       "3 -0.286158  0.345934 -0.003705  0.352038 -0.441792  \n",
       "4 -0.290314  0.351107 -0.004619  0.355213 -0.446747  "
      ]
     },
     "execution_count": 74,
     "metadata": {},
     "output_type": "execute_result"
    }
   ],
   "source": [
    "X_test.head()"
   ]
  },
  {
   "cell_type": "code",
   "execution_count": 80,
   "metadata": {},
   "outputs": [
    {
     "ename": "NameError",
     "evalue": "name 'gaussmf' is not defined",
     "output_type": "error",
     "traceback": [
      "\u001b[0;31m---------------------------------------------------------------------------\u001b[0m",
      "\u001b[0;31mNameError\u001b[0m                                 Traceback (most recent call last)",
      "\u001b[0;32m<ipython-input-80-e8b86497055a>\u001b[0m in \u001b[0;36m<module>\u001b[0;34m\u001b[0m\n\u001b[0;32m----> 1\u001b[0;31m \u001b[0;32mclass\u001b[0m \u001b[0mMemFuncs\u001b[0m\u001b[0;34m:\u001b[0m\u001b[0;34m\u001b[0m\u001b[0;34m\u001b[0m\u001b[0m\n\u001b[0m\u001b[1;32m      2\u001b[0m     \u001b[0;34m'Common base class for all employees'\u001b[0m\u001b[0;34m\u001b[0m\u001b[0;34m\u001b[0m\u001b[0m\n\u001b[1;32m      3\u001b[0m     \u001b[0mfuncDict\u001b[0m \u001b[0;34m=\u001b[0m \u001b[0;34m{\u001b[0m\u001b[0;34m'gaussmf'\u001b[0m\u001b[0;34m:\u001b[0m \u001b[0mgaussmf\u001b[0m\u001b[0;34m,\u001b[0m \u001b[0;34m'gbellmf'\u001b[0m\u001b[0;34m:\u001b[0m \u001b[0mgbellmf\u001b[0m\u001b[0;34m,\u001b[0m \u001b[0;34m'sigmf'\u001b[0m\u001b[0;34m:\u001b[0m \u001b[0msigmf\u001b[0m\u001b[0;34m}\u001b[0m\u001b[0;34m\u001b[0m\u001b[0;34m\u001b[0m\u001b[0m\n\u001b[1;32m      4\u001b[0m \u001b[0;34m\u001b[0m\u001b[0m\n\u001b[1;32m      5\u001b[0m \u001b[0;34m\u001b[0m\u001b[0m\n",
      "\u001b[0;32m<ipython-input-80-e8b86497055a>\u001b[0m in \u001b[0;36mMemFuncs\u001b[0;34m()\u001b[0m\n\u001b[1;32m      1\u001b[0m \u001b[0;32mclass\u001b[0m \u001b[0mMemFuncs\u001b[0m\u001b[0;34m:\u001b[0m\u001b[0;34m\u001b[0m\u001b[0;34m\u001b[0m\u001b[0m\n\u001b[1;32m      2\u001b[0m     \u001b[0;34m'Common base class for all employees'\u001b[0m\u001b[0;34m\u001b[0m\u001b[0;34m\u001b[0m\u001b[0m\n\u001b[0;32m----> 3\u001b[0;31m     \u001b[0mfuncDict\u001b[0m \u001b[0;34m=\u001b[0m \u001b[0;34m{\u001b[0m\u001b[0;34m'gaussmf'\u001b[0m\u001b[0;34m:\u001b[0m \u001b[0mgaussmf\u001b[0m\u001b[0;34m,\u001b[0m \u001b[0;34m'gbellmf'\u001b[0m\u001b[0;34m:\u001b[0m \u001b[0mgbellmf\u001b[0m\u001b[0;34m,\u001b[0m \u001b[0;34m'sigmf'\u001b[0m\u001b[0;34m:\u001b[0m \u001b[0msigmf\u001b[0m\u001b[0;34m}\u001b[0m\u001b[0;34m\u001b[0m\u001b[0;34m\u001b[0m\u001b[0m\n\u001b[0m\u001b[1;32m      4\u001b[0m \u001b[0;34m\u001b[0m\u001b[0m\n\u001b[1;32m      5\u001b[0m \u001b[0;34m\u001b[0m\u001b[0m\n",
      "\u001b[0;31mNameError\u001b[0m: name 'gaussmf' is not defined"
     ]
    }
   ],
   "source": [
    "class MemFuncs:\n",
    "    'Common base class for all employees'\n",
    "    funcDict = {'gaussmf': gaussmf, 'gbellmf': gbellmf, 'sigmf': sigmf}\n",
    "\n",
    "\n",
    "    def __init__(self, MFList):\n",
    "        self.MFList = MFList\n",
    "\n",
    "    def evaluateMF(self, rowInput):\n",
    "        if len(rowInput) != len(self.MFList):\n",
    "            print(\"Number of variables does not match number of rule sets\")\n",
    "\n",
    "        return [[self.funcDict[self.MFList[i][k][0]](rowInput[i],**self.MFList[i][k][1]) for k in range(len(self.MFList[i]))] for i in range(len(rowInput))]"
   ]
  },
  {
   "cell_type": "code",
   "execution_count": 76,
   "metadata": {},
   "outputs": [
    {
     "ename": "NameError",
     "evalue": "name 'membershipfunction' is not defined",
     "output_type": "error",
     "traceback": [
      "\u001b[0;31m---------------------------------------------------------------------------\u001b[0m",
      "\u001b[0;31mNameError\u001b[0m                                 Traceback (most recent call last)",
      "\u001b[0;32m<ipython-input-76-bb4ce0cd055e>\u001b[0m in \u001b[0;36m<module>\u001b[0;34m\u001b[0m\n\u001b[1;32m      3\u001b[0m \u001b[0;34m\u001b[0m\u001b[0m\n\u001b[1;32m      4\u001b[0m \u001b[0;34m\u001b[0m\u001b[0m\n\u001b[0;32m----> 5\u001b[0;31m \u001b[0mmfc\u001b[0m \u001b[0;34m=\u001b[0m \u001b[0mmembershipfunction\u001b[0m\u001b[0;34m.\u001b[0m\u001b[0mMemFuncs\u001b[0m\u001b[0;34m(\u001b[0m\u001b[0mmf\u001b[0m\u001b[0;34m)\u001b[0m\u001b[0;34m\u001b[0m\u001b[0;34m\u001b[0m\u001b[0m\n\u001b[0m\u001b[1;32m      6\u001b[0m \u001b[0manf\u001b[0m \u001b[0;34m=\u001b[0m \u001b[0manfis\u001b[0m\u001b[0;34m.\u001b[0m\u001b[0mANFIS\u001b[0m\u001b[0;34m(\u001b[0m\u001b[0mX_train\u001b[0m\u001b[0;34m,\u001b[0m \u001b[0mtrain_y\u001b[0m\u001b[0;34m,\u001b[0m \u001b[0mmfc\u001b[0m\u001b[0;34m)\u001b[0m\u001b[0;34m\u001b[0m\u001b[0;34m\u001b[0m\u001b[0m\n",
      "\u001b[0;31mNameError\u001b[0m: name 'membershipfunction' is not defined"
     ]
    }
   ],
   "source": [
    "mf = [[['gaussmf',{'mean':0.,'sigma':1.}],['gaussmf',{'mean':-1.,'sigma':2.}],['gaussmf',{'mean':-4.,'sigma':10.}],['gaussmf',{'mean':-7.,'sigma':7.}]],\n",
    "            [['gaussmf',{'mean':1.,'sigma':2.}],['gaussmf',{'mean':2.,'sigma':3.}],['gaussmf',{'mean':-2.,'sigma':10.}],['gaussmf',{'mean':-10.5,'sigma':5.}]]]\n",
    "\n",
    "\n",
    "mfc = membershipfunction.MemFuncs(mf)\n",
    "anf = anfis.ANFIS(X_train, train_y, mfc)"
   ]
  },
  {
   "cell_type": "code",
   "execution_count": null,
   "metadata": {},
   "outputs": [],
   "source": []
  }
 ],
 "metadata": {
  "kernelspec": {
   "display_name": "Python 3",
   "language": "python",
   "name": "python3"
  },
  "language_info": {
   "codemirror_mode": {
    "name": "ipython",
    "version": 3
   },
   "file_extension": ".py",
   "mimetype": "text/x-python",
   "name": "python",
   "nbconvert_exporter": "python",
   "pygments_lexer": "ipython3",
   "version": "3.7.3"
  }
 },
 "nbformat": 4,
 "nbformat_minor": 2
}
