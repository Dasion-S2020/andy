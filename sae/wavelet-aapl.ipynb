{
 "cells": [
  {
   "cell_type": "code",
   "execution_count": 33,
   "metadata": {},
   "outputs": [],
   "source": [
    "#First we import the necessary libraries.\n",
    "#pywt is a wavelet transformation library which I found is easier to apply than manually coding functions up.\n",
    "from __future__ import print_function\n",
    "import pywt\n",
    "import numpy as np\n",
    "import random\n",
    "import pandas as pd\n",
    "import matplotlib.pyplot as plt\n",
    "from sklearn import preprocessing\n",
    "%matplotlib inline"
   ]
  },
  {
   "cell_type": "code",
   "execution_count": 3,
   "metadata": {},
   "outputs": [
    {
     "data": {
      "text/html": [
       "<div>\n",
       "<style scoped>\n",
       "    .dataframe tbody tr th:only-of-type {\n",
       "        vertical-align: middle;\n",
       "    }\n",
       "\n",
       "    .dataframe tbody tr th {\n",
       "        vertical-align: top;\n",
       "    }\n",
       "\n",
       "    .dataframe thead th {\n",
       "        text-align: right;\n",
       "    }\n",
       "</style>\n",
       "<table border=\"1\" class=\"dataframe\">\n",
       "  <thead>\n",
       "    <tr style=\"text-align: right;\">\n",
       "      <th></th>\n",
       "      <th>Date</th>\n",
       "      <th>Open</th>\n",
       "      <th>High</th>\n",
       "      <th>Low</th>\n",
       "      <th>Close</th>\n",
       "      <th>Adj Close</th>\n",
       "      <th>Volume</th>\n",
       "      <th>bb_bbm</th>\n",
       "      <th>bb_bbh</th>\n",
       "      <th>bb_bbl</th>\n",
       "      <th>atr</th>\n",
       "      <th>macd</th>\n",
       "      <th>cci</th>\n",
       "      <th>ema</th>\n",
       "      <th>roc</th>\n",
       "      <th>sma12</th>\n",
       "      <th>sma5</th>\n",
       "      <th>stochastic_oscillator</th>\n",
       "      <th>mtm6</th>\n",
       "      <th>mtm12</th>\n",
       "    </tr>\n",
       "  </thead>\n",
       "  <tbody>\n",
       "    <tr>\n",
       "      <th>0</th>\n",
       "      <td>2000-02-08</td>\n",
       "      <td>4.071429</td>\n",
       "      <td>4.147321</td>\n",
       "      <td>3.973214</td>\n",
       "      <td>4.102679</td>\n",
       "      <td>3.551679</td>\n",
       "      <td>102160800</td>\n",
       "      <td>3.742522</td>\n",
       "      <td>4.258182</td>\n",
       "      <td>3.226863</td>\n",
       "      <td>0.269113</td>\n",
       "      <td>0.028205</td>\n",
       "      <td>108.190228</td>\n",
       "      <td>3.824902</td>\n",
       "      <td>3.200471</td>\n",
       "      <td>3.819568</td>\n",
       "      <td>3.850447</td>\n",
       "      <td>75.462985</td>\n",
       "      <td>10.722907</td>\n",
       "      <td>3.200471</td>\n",
       "    </tr>\n",
       "    <tr>\n",
       "      <th>1</th>\n",
       "      <td>2000-02-09</td>\n",
       "      <td>4.075893</td>\n",
       "      <td>4.183036</td>\n",
       "      <td>4.015625</td>\n",
       "      <td>4.022321</td>\n",
       "      <td>3.482112</td>\n",
       "      <td>74841200</td>\n",
       "      <td>3.778013</td>\n",
       "      <td>4.267441</td>\n",
       "      <td>3.288585</td>\n",
       "      <td>0.261849</td>\n",
       "      <td>0.041000</td>\n",
       "      <td>99.355655</td>\n",
       "      <td>3.851224</td>\n",
       "      <td>5.999985</td>\n",
       "      <td>3.838542</td>\n",
       "      <td>3.949107</td>\n",
       "      <td>80.110416</td>\n",
       "      <td>12.344132</td>\n",
       "      <td>5.999985</td>\n",
       "    </tr>\n",
       "    <tr>\n",
       "      <th>2</th>\n",
       "      <td>2000-02-10</td>\n",
       "      <td>4.031250</td>\n",
       "      <td>4.066964</td>\n",
       "      <td>3.928571</td>\n",
       "      <td>4.053571</td>\n",
       "      <td>3.509166</td>\n",
       "      <td>75745600</td>\n",
       "      <td>3.825000</td>\n",
       "      <td>4.222077</td>\n",
       "      <td>3.427923</td>\n",
       "      <td>0.253030</td>\n",
       "      <td>0.053050</td>\n",
       "      <td>74.466356</td>\n",
       "      <td>3.878204</td>\n",
       "      <td>1.113564</td>\n",
       "      <td>3.842262</td>\n",
       "      <td>4.021875</td>\n",
       "      <td>83.977818</td>\n",
       "      <td>14.863993</td>\n",
       "      <td>1.113564</td>\n",
       "    </tr>\n",
       "    <tr>\n",
       "      <th>3</th>\n",
       "      <td>2000-02-11</td>\n",
       "      <td>4.058036</td>\n",
       "      <td>4.075893</td>\n",
       "      <td>3.866071</td>\n",
       "      <td>3.883929</td>\n",
       "      <td>3.362307</td>\n",
       "      <td>53062800</td>\n",
       "      <td>3.846429</td>\n",
       "      <td>4.205873</td>\n",
       "      <td>3.486984</td>\n",
       "      <td>0.249944</td>\n",
       "      <td>0.048354</td>\n",
       "      <td>39.741881</td>\n",
       "      <td>3.878967</td>\n",
       "      <td>-1.304587</td>\n",
       "      <td>3.837984</td>\n",
       "      <td>4.027232</td>\n",
       "      <td>62.983456</td>\n",
       "      <td>5.263174</td>\n",
       "      <td>-1.304587</td>\n",
       "    </tr>\n",
       "    <tr>\n",
       "      <th>4</th>\n",
       "      <td>2000-02-14</td>\n",
       "      <td>3.904018</td>\n",
       "      <td>4.138393</td>\n",
       "      <td>3.879464</td>\n",
       "      <td>4.136161</td>\n",
       "      <td>3.580663</td>\n",
       "      <td>91884800</td>\n",
       "      <td>3.873884</td>\n",
       "      <td>4.233772</td>\n",
       "      <td>3.513996</td>\n",
       "      <td>0.250586</td>\n",
       "      <td>0.064245</td>\n",
       "      <td>79.748813</td>\n",
       "      <td>3.913260</td>\n",
       "      <td>5.284110</td>\n",
       "      <td>3.855283</td>\n",
       "      <td>4.039732</td>\n",
       "      <td>94.198897</td>\n",
       "      <td>7.233800</td>\n",
       "      <td>5.284110</td>\n",
       "    </tr>\n",
       "  </tbody>\n",
       "</table>\n",
       "</div>"
      ],
      "text/plain": [
       "         Date      Open      High       Low     Close  Adj Close     Volume  \\\n",
       "0  2000-02-08  4.071429  4.147321  3.973214  4.102679   3.551679  102160800   \n",
       "1  2000-02-09  4.075893  4.183036  4.015625  4.022321   3.482112   74841200   \n",
       "2  2000-02-10  4.031250  4.066964  3.928571  4.053571   3.509166   75745600   \n",
       "3  2000-02-11  4.058036  4.075893  3.866071  3.883929   3.362307   53062800   \n",
       "4  2000-02-14  3.904018  4.138393  3.879464  4.136161   3.580663   91884800   \n",
       "\n",
       "     bb_bbm    bb_bbh    bb_bbl       atr      macd         cci       ema  \\\n",
       "0  3.742522  4.258182  3.226863  0.269113  0.028205  108.190228  3.824902   \n",
       "1  3.778013  4.267441  3.288585  0.261849  0.041000   99.355655  3.851224   \n",
       "2  3.825000  4.222077  3.427923  0.253030  0.053050   74.466356  3.878204   \n",
       "3  3.846429  4.205873  3.486984  0.249944  0.048354   39.741881  3.878967   \n",
       "4  3.873884  4.233772  3.513996  0.250586  0.064245   79.748813  3.913260   \n",
       "\n",
       "        roc     sma12      sma5  stochastic_oscillator       mtm6     mtm12  \n",
       "0  3.200471  3.819568  3.850447              75.462985  10.722907  3.200471  \n",
       "1  5.999985  3.838542  3.949107              80.110416  12.344132  5.999985  \n",
       "2  1.113564  3.842262  4.021875              83.977818  14.863993  1.113564  \n",
       "3 -1.304587  3.837984  4.027232              62.983456   5.263174 -1.304587  \n",
       "4  5.284110  3.855283  4.039732              94.198897   7.233800  5.284110  "
      ]
     },
     "execution_count": 3,
     "metadata": {},
     "output_type": "execute_result"
    }
   ],
   "source": [
    "df1 = pd.read_csv('/Users/andyliu/develop/andy/aapl_indicators_yahoo.csv')\n",
    "df2 = df1.iloc[:,1:]\n",
    "df3 = df2[~df2.isin([np.nan, np.inf, -np.inf]).any(1)]\n",
    "df1 = df3\n",
    "df1.head()"
   ]
  },
  {
   "cell_type": "code",
   "execution_count": 4,
   "metadata": {},
   "outputs": [
    {
     "data": {
      "text/plain": [
       "['Date',\n",
       " 'Open',\n",
       " 'High',\n",
       " 'Low',\n",
       " 'Close',\n",
       " 'Adj Close',\n",
       " 'Volume',\n",
       " 'bb_bbm',\n",
       " 'bb_bbh',\n",
       " 'bb_bbl',\n",
       " 'atr',\n",
       " 'macd',\n",
       " 'cci',\n",
       " 'ema',\n",
       " 'roc',\n",
       " 'sma12',\n",
       " 'sma5',\n",
       " 'stochastic_oscillator',\n",
       " 'mtm6',\n",
       " 'mtm12']"
      ]
     },
     "execution_count": 4,
     "metadata": {},
     "output_type": "execute_result"
    }
   ],
   "source": [
    "list(df1.columns)"
   ]
  },
  {
   "cell_type": "code",
   "execution_count": 5,
   "metadata": {},
   "outputs": [],
   "source": [
    "df1[list(df1.columns)] = df1[list(df1.columns)].apply(pd.to_numeric, errors='ignore')"
   ]
  },
  {
   "cell_type": "code",
   "execution_count": 8,
   "metadata": {},
   "outputs": [],
   "source": [
    "df1 = df1.rename({'Open':'open', 'Close':'close', 'High':'high', 'Low':'low', 'Date':'date'}, axis=1)"
   ]
  },
  {
   "cell_type": "code",
   "execution_count": 9,
   "metadata": {},
   "outputs": [],
   "source": [
    "df3 = df1[['open', 'high', 'low', 'close']]"
   ]
  },
  {
   "cell_type": "code",
   "execution_count": 10,
   "metadata": {},
   "outputs": [],
   "source": [
    "a = df3.close.values"
   ]
  },
  {
   "cell_type": "code",
   "execution_count": 11,
   "metadata": {},
   "outputs": [],
   "source": [
    "b = df3.values"
   ]
  },
  {
   "cell_type": "code",
   "execution_count": 12,
   "metadata": {},
   "outputs": [
    {
     "data": {
      "text/plain": [
       "Index(['open', 'high', 'low', 'close', 'Adj Close', 'Volume', 'bb_bbm',\n",
       "       'bb_bbh', 'bb_bbl', 'atr', 'macd', 'cci', 'ema', 'roc', 'sma12', 'sma5',\n",
       "       'stochastic_oscillator', 'mtm6', 'mtm12'],\n",
       "      dtype='object')"
      ]
     },
     "execution_count": 12,
     "metadata": {},
     "output_type": "execute_result"
    }
   ],
   "source": [
    "try:\n",
    "    df1 = df1.drop(['date'], axis=1)\n",
    "except KeyError:\n",
    "    pass\n",
    "df1.columns"
   ]
  },
  {
   "cell_type": "code",
   "execution_count": 13,
   "metadata": {},
   "outputs": [],
   "source": [
    "#df2=df2.drop(df2.index[-1])\n",
    "#df1[['open','high','low','close']]=df2[['open','high','low','close']]"
   ]
  },
  {
   "cell_type": "code",
   "execution_count": 14,
   "metadata": {},
   "outputs": [],
   "source": [
    "df1=df1.interpolate(method='akima')\n",
    "df1.replace(np.inf, np.nan)\n",
    "df1=df1.dropna(subset=['open', 'high', 'low', 'close'])"
   ]
  },
  {
   "cell_type": "code",
   "execution_count": 15,
   "metadata": {},
   "outputs": [
    {
     "data": {
      "text/plain": [
       "Index(['open', 'high', 'low', 'close', 'Adj Close', 'Volume', 'bb_bbm',\n",
       "       'bb_bbh', 'bb_bbl', 'atr', 'macd', 'cci', 'ema', 'roc', 'sma12', 'sma5',\n",
       "       'stochastic_oscillator', 'mtm6', 'mtm12'],\n",
       "      dtype='object')"
      ]
     },
     "execution_count": 15,
     "metadata": {},
     "output_type": "execute_result"
    }
   ],
   "source": [
    "#df1 = df1.drop(['date'], axis=1)\n",
    "close = df1['close']\n",
    "#df1 = df1.drop(['close'], axis=1)\n",
    "df1.columns"
   ]
  },
  {
   "cell_type": "code",
   "execution_count": 16,
   "metadata": {},
   "outputs": [],
   "source": [
    "g = df1.values\n",
    "r = g.shape[0]\n",
    "n_train = 7*r//10\n",
    "n_val = 3*r//20\n",
    "#n1_train = 9*r//10\n",
    "#train_indices = random.sample(range(r), n_train)\n",
    "#test_indices = [i for i in list(range(r)) if i not in train_indices]\n",
    "#train_indices.sort()\n",
    "#test_indices.sort()"
   ]
  },
  {
   "cell_type": "code",
   "execution_count": 17,
   "metadata": {},
   "outputs": [
    {
     "data": {
      "text/plain": [
       "Index(['open', 'high', 'low', 'close', 'Adj Close', 'Volume', 'bb_bbm',\n",
       "       'bb_bbh', 'bb_bbl', 'atr', 'macd', 'cci', 'ema', 'roc', 'sma12', 'sma5',\n",
       "       'stochastic_oscillator', 'mtm6', 'mtm12'],\n",
       "      dtype='object')"
      ]
     },
     "execution_count": 17,
     "metadata": {},
     "output_type": "execute_result"
    }
   ],
   "source": [
    "df1.columns"
   ]
  },
  {
   "cell_type": "code",
   "execution_count": 18,
   "metadata": {},
   "outputs": [
    {
     "data": {
      "text/plain": [
       "(3583, 19)"
      ]
     },
     "execution_count": 18,
     "metadata": {},
     "output_type": "execute_result"
    }
   ],
   "source": [
    "price_cols = ['open', 'high', 'low', 'close']\n",
    "price_data = df1[price_cols]\n",
    "data = df1\n",
    "g = data.values\n",
    "pre_X_train=g[:n_train,:]\n",
    "pre_X_test=g[n_train:,:]\n",
    "#exp_X_train = g[n_train:n1_train,:]\n",
    "#exp_X_test = g[n1_train:,:]\n",
    "#h = price.values\n",
    "pre_X_train.shape"
   ]
  },
  {
   "cell_type": "code",
   "execution_count": 19,
   "metadata": {},
   "outputs": [],
   "source": [
    "price_train = price_data[:n_train]\n",
    "price_test = price_data[n_train:]"
   ]
  },
  {
   "cell_type": "code",
   "execution_count": 20,
   "metadata": {},
   "outputs": [
    {
     "data": {
      "text/html": [
       "<div>\n",
       "<style scoped>\n",
       "    .dataframe tbody tr th:only-of-type {\n",
       "        vertical-align: middle;\n",
       "    }\n",
       "\n",
       "    .dataframe tbody tr th {\n",
       "        vertical-align: top;\n",
       "    }\n",
       "\n",
       "    .dataframe thead th {\n",
       "        text-align: right;\n",
       "    }\n",
       "</style>\n",
       "<table border=\"1\" class=\"dataframe\">\n",
       "  <thead>\n",
       "    <tr style=\"text-align: right;\">\n",
       "      <th></th>\n",
       "      <th>open</th>\n",
       "      <th>high</th>\n",
       "      <th>low</th>\n",
       "      <th>close</th>\n",
       "    </tr>\n",
       "  </thead>\n",
       "  <tbody>\n",
       "    <tr>\n",
       "      <th>0</th>\n",
       "      <td>4.071429</td>\n",
       "      <td>4.147321</td>\n",
       "      <td>3.973214</td>\n",
       "      <td>4.102679</td>\n",
       "    </tr>\n",
       "    <tr>\n",
       "      <th>1</th>\n",
       "      <td>4.075893</td>\n",
       "      <td>4.183036</td>\n",
       "      <td>4.015625</td>\n",
       "      <td>4.022321</td>\n",
       "    </tr>\n",
       "    <tr>\n",
       "      <th>2</th>\n",
       "      <td>4.031250</td>\n",
       "      <td>4.066964</td>\n",
       "      <td>3.928571</td>\n",
       "      <td>4.053571</td>\n",
       "    </tr>\n",
       "    <tr>\n",
       "      <th>3</th>\n",
       "      <td>4.058036</td>\n",
       "      <td>4.075893</td>\n",
       "      <td>3.866071</td>\n",
       "      <td>3.883929</td>\n",
       "    </tr>\n",
       "    <tr>\n",
       "      <th>4</th>\n",
       "      <td>3.904018</td>\n",
       "      <td>4.138393</td>\n",
       "      <td>3.879464</td>\n",
       "      <td>4.136161</td>\n",
       "    </tr>\n",
       "  </tbody>\n",
       "</table>\n",
       "</div>"
      ],
      "text/plain": [
       "       open      high       low     close\n",
       "0  4.071429  4.147321  3.973214  4.102679\n",
       "1  4.075893  4.183036  4.015625  4.022321\n",
       "2  4.031250  4.066964  3.928571  4.053571\n",
       "3  4.058036  4.075893  3.866071  3.883929\n",
       "4  3.904018  4.138393  3.879464  4.136161"
      ]
     },
     "execution_count": 20,
     "metadata": {},
     "output_type": "execute_result"
    }
   ],
   "source": [
    "price_train.head()"
   ]
  },
  {
   "cell_type": "code",
   "execution_count": 21,
   "metadata": {},
   "outputs": [
    {
     "name": "stdout",
     "output_type": "stream",
     "text": [
      "(3583, 19) (1536, 19)\n"
     ]
    }
   ],
   "source": [
    "#exp_y_train=h[train_indices]\n",
    "#exp_y_test=h[test_indices]\n",
    "print(pre_X_train.shape, pre_X_test.shape)\n",
    "#print(price_train.shape, price_test.shape)"
   ]
  },
  {
   "cell_type": "code",
   "execution_count": 22,
   "metadata": {},
   "outputs": [
    {
     "data": {
      "text/plain": [
       "(1536, 4)"
      ]
     },
     "execution_count": 22,
     "metadata": {},
     "output_type": "execute_result"
    }
   ],
   "source": [
    "price_test.shape"
   ]
  },
  {
   "cell_type": "code",
   "execution_count": 27,
   "metadata": {},
   "outputs": [
    {
     "data": {
      "text/plain": [
       "(3583, 19)"
      ]
     },
     "execution_count": 27,
     "metadata": {},
     "output_type": "execute_result"
    }
   ],
   "source": [
    "pre_X_train.shape"
   ]
  },
  {
   "cell_type": "code",
   "execution_count": 34,
   "metadata": {},
   "outputs": [],
   "source": [
    "scaler= preprocessing.MinMaxScaler()\n",
    "scaler.fit(pre_X_train)\n",
    "exp_X_train=scaler.transform(pre_X_train)\n",
    "exp_X_test=scaler.transform(pre_X_test)"
   ]
  },
  {
   "cell_type": "code",
   "execution_count": 35,
   "metadata": {},
   "outputs": [],
   "source": [
    "coeffs= pywt.wavedec2(exp_X_train, 'haar',  mode='symmetric',level=2)\n",
    "coeffs[-1] = tuple([np.zeros_like(v) for v in coeffs[-1]])\n",
    "c=pywt.waverec2(coeffs,'haar')\n",
    "coeffs1=pywt.wavedec2(c,'haar', mode='symmetric', level=2)\n",
    "coeffs1[-1] = tuple([np.zeros_like(v) for v in coeffs1[-1]])\n",
    "d=pywt.waverec2(coeffs1, 'haar')"
   ]
  },
  {
   "cell_type": "code",
   "execution_count": 24,
   "metadata": {},
   "outputs": [],
   "source": [
    "'''coeffs= pywt.wavedec2(price_train, 'haar',  mode='symmetric',level=2)\n",
    "coeffs[-1] = tuple([np.zeros_like(v) for v in coeffs[-1]])\n",
    "c=pywt.waverec2(coeffs,'haar')\n",
    "coeffs1=pywt.wavedec2(c,'haar', mode='symmetric', level=2)\n",
    "coeffs1[-1] = tuple([np.zeros_like(v) for v in coeffs1[-1]])\n",
    "d=pywt.waverec2(coeffs1, 'haar')'''"
   ]
  },
  {
   "cell_type": "code",
   "execution_count": 40,
   "metadata": {},
   "outputs": [],
   "source": [
    "exp_X_train = d"
   ]
  },
  {
   "cell_type": "code",
   "execution_count": 41,
   "metadata": {},
   "outputs": [
    {
     "data": {
      "text/html": [
       "<div>\n",
       "<style scoped>\n",
       "    .dataframe tbody tr th:only-of-type {\n",
       "        vertical-align: middle;\n",
       "    }\n",
       "\n",
       "    .dataframe tbody tr th {\n",
       "        vertical-align: top;\n",
       "    }\n",
       "\n",
       "    .dataframe thead th {\n",
       "        text-align: right;\n",
       "    }\n",
       "</style>\n",
       "<table border=\"1\" class=\"dataframe\">\n",
       "  <thead>\n",
       "    <tr style=\"text-align: right;\">\n",
       "      <th></th>\n",
       "      <th>0</th>\n",
       "      <th>1</th>\n",
       "      <th>2</th>\n",
       "      <th>3</th>\n",
       "      <th>4</th>\n",
       "      <th>5</th>\n",
       "      <th>6</th>\n",
       "      <th>7</th>\n",
       "      <th>8</th>\n",
       "      <th>9</th>\n",
       "      <th>10</th>\n",
       "      <th>11</th>\n",
       "      <th>12</th>\n",
       "      <th>13</th>\n",
       "      <th>14</th>\n",
       "      <th>15</th>\n",
       "      <th>16</th>\n",
       "      <th>17</th>\n",
       "      <th>18</th>\n",
       "      <th>19</th>\n",
       "    </tr>\n",
       "  </thead>\n",
       "  <tbody>\n",
       "    <tr>\n",
       "      <th>0</th>\n",
       "      <td>0.031972</td>\n",
       "      <td>0.031972</td>\n",
       "      <td>0.031307</td>\n",
       "      <td>0.031307</td>\n",
       "      <td>0.036971</td>\n",
       "      <td>0.036971</td>\n",
       "      <td>0.030182</td>\n",
       "      <td>0.030182</td>\n",
       "      <td>0.057551</td>\n",
       "      <td>0.057551</td>\n",
       "      <td>0.568788</td>\n",
       "      <td>0.568788</td>\n",
       "      <td>0.344469</td>\n",
       "      <td>0.344469</td>\n",
       "      <td>0.029617</td>\n",
       "      <td>0.029617</td>\n",
       "      <td>0.791721</td>\n",
       "      <td>0.791721</td>\n",
       "      <td>0.659438</td>\n",
       "      <td>0.659438</td>\n",
       "    </tr>\n",
       "    <tr>\n",
       "      <th>1</th>\n",
       "      <td>0.031972</td>\n",
       "      <td>0.031972</td>\n",
       "      <td>0.031307</td>\n",
       "      <td>0.031307</td>\n",
       "      <td>0.036971</td>\n",
       "      <td>0.036971</td>\n",
       "      <td>0.030182</td>\n",
       "      <td>0.030182</td>\n",
       "      <td>0.057551</td>\n",
       "      <td>0.057551</td>\n",
       "      <td>0.568788</td>\n",
       "      <td>0.568788</td>\n",
       "      <td>0.344469</td>\n",
       "      <td>0.344469</td>\n",
       "      <td>0.029617</td>\n",
       "      <td>0.029617</td>\n",
       "      <td>0.791721</td>\n",
       "      <td>0.791721</td>\n",
       "      <td>0.659438</td>\n",
       "      <td>0.659438</td>\n",
       "    </tr>\n",
       "    <tr>\n",
       "      <th>2</th>\n",
       "      <td>0.031356</td>\n",
       "      <td>0.031356</td>\n",
       "      <td>0.030345</td>\n",
       "      <td>0.030345</td>\n",
       "      <td>0.029973</td>\n",
       "      <td>0.029973</td>\n",
       "      <td>0.030334</td>\n",
       "      <td>0.030334</td>\n",
       "      <td>0.056210</td>\n",
       "      <td>0.056210</td>\n",
       "      <td>0.540322</td>\n",
       "      <td>0.540322</td>\n",
       "      <td>0.321994</td>\n",
       "      <td>0.321994</td>\n",
       "      <td>0.030304</td>\n",
       "      <td>0.030304</td>\n",
       "      <td>0.761740</td>\n",
       "      <td>0.761740</td>\n",
       "      <td>0.614070</td>\n",
       "      <td>0.614070</td>\n",
       "    </tr>\n",
       "    <tr>\n",
       "      <th>3</th>\n",
       "      <td>0.031356</td>\n",
       "      <td>0.031356</td>\n",
       "      <td>0.030345</td>\n",
       "      <td>0.030345</td>\n",
       "      <td>0.029973</td>\n",
       "      <td>0.029973</td>\n",
       "      <td>0.030334</td>\n",
       "      <td>0.030334</td>\n",
       "      <td>0.056210</td>\n",
       "      <td>0.056210</td>\n",
       "      <td>0.540322</td>\n",
       "      <td>0.540322</td>\n",
       "      <td>0.321994</td>\n",
       "      <td>0.321994</td>\n",
       "      <td>0.030304</td>\n",
       "      <td>0.030304</td>\n",
       "      <td>0.761740</td>\n",
       "      <td>0.761740</td>\n",
       "      <td>0.614070</td>\n",
       "      <td>0.614070</td>\n",
       "    </tr>\n",
       "    <tr>\n",
       "      <th>4</th>\n",
       "      <td>0.031881</td>\n",
       "      <td>0.031881</td>\n",
       "      <td>0.031976</td>\n",
       "      <td>0.031976</td>\n",
       "      <td>0.042545</td>\n",
       "      <td>0.042545</td>\n",
       "      <td>0.030832</td>\n",
       "      <td>0.030832</td>\n",
       "      <td>0.055859</td>\n",
       "      <td>0.055859</td>\n",
       "      <td>0.574485</td>\n",
       "      <td>0.574485</td>\n",
       "      <td>0.376808</td>\n",
       "      <td>0.376808</td>\n",
       "      <td>0.030665</td>\n",
       "      <td>0.030665</td>\n",
       "      <td>0.846001</td>\n",
       "      <td>0.846001</td>\n",
       "      <td>0.723110</td>\n",
       "      <td>0.723110</td>\n",
       "    </tr>\n",
       "  </tbody>\n",
       "</table>\n",
       "</div>"
      ],
      "text/plain": [
       "         0         1         2         3         4         5         6   \\\n",
       "0  0.031972  0.031972  0.031307  0.031307  0.036971  0.036971  0.030182   \n",
       "1  0.031972  0.031972  0.031307  0.031307  0.036971  0.036971  0.030182   \n",
       "2  0.031356  0.031356  0.030345  0.030345  0.029973  0.029973  0.030334   \n",
       "3  0.031356  0.031356  0.030345  0.030345  0.029973  0.029973  0.030334   \n",
       "4  0.031881  0.031881  0.031976  0.031976  0.042545  0.042545  0.030832   \n",
       "\n",
       "         7         8         9         10        11        12        13  \\\n",
       "0  0.030182  0.057551  0.057551  0.568788  0.568788  0.344469  0.344469   \n",
       "1  0.030182  0.057551  0.057551  0.568788  0.568788  0.344469  0.344469   \n",
       "2  0.030334  0.056210  0.056210  0.540322  0.540322  0.321994  0.321994   \n",
       "3  0.030334  0.056210  0.056210  0.540322  0.540322  0.321994  0.321994   \n",
       "4  0.030832  0.055859  0.055859  0.574485  0.574485  0.376808  0.376808   \n",
       "\n",
       "         14        15        16        17        18        19  \n",
       "0  0.029617  0.029617  0.791721  0.791721  0.659438  0.659438  \n",
       "1  0.029617  0.029617  0.791721  0.791721  0.659438  0.659438  \n",
       "2  0.030304  0.030304  0.761740  0.761740  0.614070  0.614070  \n",
       "3  0.030304  0.030304  0.761740  0.761740  0.614070  0.614070  \n",
       "4  0.030665  0.030665  0.846001  0.846001  0.723110  0.723110  "
      ]
     },
     "execution_count": 41,
     "metadata": {},
     "output_type": "execute_result"
    }
   ],
   "source": [
    "pd.DataFrame(exp_X_train).head()"
   ]
  },
  {
   "cell_type": "code",
   "execution_count": 42,
   "metadata": {},
   "outputs": [
    {
     "data": {
      "text/plain": [
       "3584"
      ]
     },
     "execution_count": 42,
     "metadata": {},
     "output_type": "execute_result"
    }
   ],
   "source": [
    "price_train = d[:,1]\n",
    "len(price_train)"
   ]
  },
  {
   "cell_type": "code",
   "execution_count": 393,
   "metadata": {},
   "outputs": [],
   "source": [
    "price_val = price_test.iloc[:n_val,:]\n",
    "price_test = price_test.iloc[n_val:,:]"
   ]
  },
  {
   "cell_type": "code",
   "execution_count": 347,
   "metadata": {},
   "outputs": [],
   "source": [
    "import random"
   ]
  },
  {
   "cell_type": "code",
   "execution_count": 348,
   "metadata": {},
   "outputs": [
    {
     "data": {
      "text/plain": [
       "'price_train = autoencoded_X_train[:,1]\\nexp_X_train = np.delete(exp_X_train, 1, axis=1)\\nexp_X_train.shape'"
      ]
     },
     "execution_count": 348,
     "metadata": {},
     "output_type": "execute_result"
    }
   ],
   "source": [
    "'''price_train = autoencoded_X_train[:,1]\n",
    "exp_X_train = np.delete(exp_X_train, 1, axis=1)\n",
    "exp_X_train.shape'''"
   ]
  },
  {
   "cell_type": "code",
   "execution_count": 49,
   "metadata": {},
   "outputs": [
    {
     "name": "stdout",
     "output_type": "stream",
     "text": [
      "(3584, 18)\n"
     ]
    }
   ],
   "source": [
    "X_train = exp_X_train[:,2:]\n",
    "print(X_train.shape)"
   ]
  },
  {
   "cell_type": "code",
   "execution_count": 50,
   "metadata": {},
   "outputs": [
    {
     "name": "stdout",
     "output_type": "stream",
     "text": [
      "(3584, 1, 18) (3584,)\n"
     ]
    }
   ],
   "source": [
    "X_train = X_train.reshape(X_train.shape[0], 1, X_train.shape[1])\n",
    "y_train = price_train\n",
    "print(X_train.shape, y_train.shape)"
   ]
  },
  {
   "cell_type": "code",
   "execution_count": 54,
   "metadata": {},
   "outputs": [],
   "source": [
    "coeffs= pywt.wavedec2(exp_X_test, 'haar',  mode='symmetric',level=2)\n",
    "coeffs[-1] = tuple([np.zeros_like(v) for v in coeffs[-1]])\n",
    "c=pywt.waverec2(coeffs,'haar')\n",
    "coeffs1=pywt.wavedec2(c,'haar', mode='symmetric', level=2)\n",
    "coeffs1[-1] = tuple([np.zeros_like(v) for v in coeffs1[-1]])\n",
    "d=pywt.waverec2(coeffs1, 'haar')"
   ]
  },
  {
   "cell_type": "code",
   "execution_count": 58,
   "metadata": {},
   "outputs": [],
   "source": [
    "exp_X_test = d[n_val:]\n",
    "exp_X_val = d[:n_val]"
   ]
  },
  {
   "cell_type": "code",
   "execution_count": 79,
   "metadata": {},
   "outputs": [],
   "source": [
    "exp_X_val = exp_X_val[:,2:]"
   ]
  },
  {
   "cell_type": "code",
   "execution_count": 80,
   "metadata": {},
   "outputs": [
    {
     "data": {
      "text/plain": [
       "(769, 20)"
      ]
     },
     "execution_count": 80,
     "metadata": {},
     "output_type": "execute_result"
    }
   ],
   "source": [
    "exp_X_test.shape"
   ]
  },
  {
   "cell_type": "code",
   "execution_count": 93,
   "metadata": {},
   "outputs": [],
   "source": [
    "price_test = d[:,3]"
   ]
  },
  {
   "cell_type": "code",
   "execution_count": 94,
   "metadata": {},
   "outputs": [],
   "source": [
    "price_val = price_test[:n_val]\n",
    "price_test = price_test[:n_val]"
   ]
  },
  {
   "cell_type": "code",
   "execution_count": 95,
   "metadata": {},
   "outputs": [],
   "source": [
    "X_val= exp_X_val.reshape((exp_X_val.shape[0],1,exp_X_val.shape[1]))\n",
    "#X_train= exp_X_train.reshape((exp_X_train.shape[0],1,exp_X_train.shape[1]))\n",
    "#X_test=exp_X_test.reshape((exp_X_test.shape[0],1,exp_X_test.shape[1]))\n",
    "y_val = price_val"
   ]
  },
  {
   "cell_type": "code",
   "execution_count": 96,
   "metadata": {},
   "outputs": [
    {
     "data": {
      "text/plain": [
       "(767,)"
      ]
     },
     "execution_count": 96,
     "metadata": {},
     "output_type": "execute_result"
    }
   ],
   "source": [
    "y_val.shape"
   ]
  },
  {
   "cell_type": "code",
   "execution_count": 97,
   "metadata": {},
   "outputs": [
    {
     "data": {
      "text/plain": [
       "(767,)"
      ]
     },
     "execution_count": 97,
     "metadata": {},
     "output_type": "execute_result"
    }
   ],
   "source": [
    "y_test = price_test\n",
    "y_test.shape\n",
    "#y_val = price_val.iloc[:,3]"
   ]
  },
  {
   "cell_type": "code",
   "execution_count": 98,
   "metadata": {},
   "outputs": [
    {
     "data": {
      "text/plain": [
       "(769, 20)"
      ]
     },
     "execution_count": 98,
     "metadata": {},
     "output_type": "execute_result"
    }
   ],
   "source": [
    "exp_X_test.shape"
   ]
  },
  {
   "cell_type": "code",
   "execution_count": 99,
   "metadata": {},
   "outputs": [],
   "source": [
    "from keras.layers.core import Dense, Activation, Dropout\n",
    "from keras.layers.recurrent import LSTM\n",
    "from keras.models import Sequential\n",
    "from keras.callbacks import EarlyStopping\n",
    "from keras.optimizers import Adam\n",
    "from keras import regularizers"
   ]
  },
  {
   "cell_type": "code",
   "execution_count": 140,
   "metadata": {},
   "outputs": [],
   "source": [
    "es=EarlyStopping(monitor='val_loss', mode='min', patience=100, verbose=1)\n",
    "opt = Adam(learning_rate=0.001)"
   ]
  },
  {
   "cell_type": "code",
   "execution_count": 141,
   "metadata": {},
   "outputs": [
    {
     "name": "stdout",
     "output_type": "stream",
     "text": [
      "Model: \"sequential_6\"\n",
      "_________________________________________________________________\n",
      "Layer (type)                 Output Shape              Param #   \n",
      "=================================================================\n",
      "lstm_17 (LSTM)               (None, 1, 20)             3120      \n",
      "_________________________________________________________________\n",
      "dropout_13 (Dropout)         (None, 1, 20)             0         \n",
      "_________________________________________________________________\n",
      "lstm_18 (LSTM)               (None, 1, 40)             9760      \n",
      "_________________________________________________________________\n",
      "dropout_14 (Dropout)         (None, 1, 40)             0         \n",
      "_________________________________________________________________\n",
      "lstm_19 (LSTM)               (None, 1, 80)             38720     \n",
      "_________________________________________________________________\n",
      "dropout_15 (Dropout)         (None, 1, 80)             0         \n",
      "_________________________________________________________________\n",
      "lstm_20 (LSTM)               (None, 20)                8080      \n",
      "_________________________________________________________________\n",
      "dense_5 (Dense)              (None, 1)                 21        \n",
      "_________________________________________________________________\n",
      "activation_5 (Activation)    (None, 1)                 0         \n",
      "=================================================================\n",
      "Total params: 59,701\n",
      "Trainable params: 59,701\n",
      "Non-trainable params: 0\n",
      "_________________________________________________________________\n"
     ]
    }
   ],
   "source": [
    "neurons=20\n",
    "dropout=0.3\n",
    "model1 = Sequential()\n",
    "model1.add(LSTM(neurons, return_sequences=True, input_shape=(X_train.shape[1], X_train.shape[2]), activation='relu', activity_regularizer=regularizers.l2(1e-4)))\n",
    "model1.add(Dropout(dropout))\n",
    "model1.add(LSTM(neurons*2, return_sequences=True, activation='relu', activity_regularizer=regularizers.l2(1e-4)))\n",
    "model1.add(Dropout(dropout))\n",
    "model1.add(LSTM(neurons*4, return_sequences=True, activation='relu', activity_regularizer=regularizers.l2(1e-4)))\n",
    "model1.add(Dropout(dropout))\n",
    "model1.add(LSTM(neurons, activation='relu', activity_regularizer=regularizers.l2(1e-4)))\n",
    "model1.add(Dense(units=1))\n",
    "model1.add(Activation('relu'))\n",
    "model1.compile(loss='mse', optimizer=opt)\n",
    "model1.summary()"
   ]
  },
  {
   "cell_type": "code",
   "execution_count": 142,
   "metadata": {},
   "outputs": [
    {
     "data": {
      "text/plain": [
       "((3584, 1, 18), (3584,))"
      ]
     },
     "execution_count": 142,
     "metadata": {},
     "output_type": "execute_result"
    }
   ],
   "source": [
    "X_train.shape, y_train.shape"
   ]
  },
  {
   "cell_type": "code",
   "execution_count": 143,
   "metadata": {},
   "outputs": [],
   "source": [
    "#y_val"
   ]
  },
  {
   "cell_type": "code",
   "execution_count": 145,
   "metadata": {},
   "outputs": [
    {
     "name": "stdout",
     "output_type": "stream",
     "text": [
      "Train on 3584 samples, validate on 767 samples\n",
      "Epoch 1/1000\n",
      "3584/3584 [==============================] - 1s 208us/step - loss: 0.0764 - val_loss: 0.7464\n",
      "Epoch 2/1000\n",
      "3584/3584 [==============================] - 0s 130us/step - loss: 0.0584 - val_loss: 0.1458\n",
      "Epoch 3/1000\n",
      "3584/3584 [==============================] - 0s 126us/step - loss: 0.0680 - val_loss: 0.2082\n",
      "Epoch 4/1000\n",
      "3584/3584 [==============================] - 0s 104us/step - loss: 0.0617 - val_loss: 0.3854\n",
      "Epoch 5/1000\n",
      "3584/3584 [==============================] - 0s 111us/step - loss: 0.0413 - val_loss: 0.0961\n",
      "Epoch 6/1000\n",
      "3584/3584 [==============================] - 0s 106us/step - loss: 0.0381 - val_loss: 0.1048\n",
      "Epoch 7/1000\n",
      "3584/3584 [==============================] - 0s 101us/step - loss: 0.0312 - val_loss: 0.1993\n",
      "Epoch 8/1000\n",
      "3584/3584 [==============================] - 0s 106us/step - loss: 0.0316 - val_loss: 0.0842\n",
      "Epoch 9/1000\n",
      "3584/3584 [==============================] - 0s 105us/step - loss: 0.0292 - val_loss: 0.0964\n",
      "Epoch 10/1000\n",
      "3584/3584 [==============================] - 0s 107us/step - loss: 0.0273 - val_loss: 0.0703\n",
      "Epoch 11/1000\n",
      "3584/3584 [==============================] - 0s 105us/step - loss: 0.0236 - val_loss: 0.0955\n",
      "Epoch 12/1000\n",
      "3584/3584 [==============================] - 0s 103us/step - loss: 0.0247 - val_loss: 0.0576\n",
      "Epoch 13/1000\n",
      "3584/3584 [==============================] - 0s 105us/step - loss: 0.0199 - val_loss: 0.0707\n",
      "Epoch 14/1000\n",
      "3584/3584 [==============================] - 0s 106us/step - loss: 0.0202 - val_loss: 0.0495\n",
      "Epoch 15/1000\n",
      "3584/3584 [==============================] - 0s 113us/step - loss: 0.0154 - val_loss: 0.0503\n",
      "Epoch 16/1000\n",
      "3584/3584 [==============================] - 0s 112us/step - loss: 0.0153 - val_loss: 0.0451\n",
      "Epoch 17/1000\n",
      "3584/3584 [==============================] - 0s 107us/step - loss: 0.0123 - val_loss: 0.0413\n",
      "Epoch 18/1000\n",
      "3584/3584 [==============================] - 0s 104us/step - loss: 0.0128 - val_loss: 0.0431\n",
      "Epoch 19/1000\n",
      "3584/3584 [==============================] - 0s 109us/step - loss: 0.0114 - val_loss: 0.0427\n",
      "Epoch 20/1000\n",
      "3584/3584 [==============================] - 0s 104us/step - loss: 0.0112 - val_loss: 0.0475\n",
      "Epoch 21/1000\n",
      "3584/3584 [==============================] - 0s 116us/step - loss: 0.0104 - val_loss: 0.0407\n",
      "Epoch 22/1000\n",
      "3584/3584 [==============================] - 0s 108us/step - loss: 0.0109 - val_loss: 0.0556\n",
      "Epoch 23/1000\n",
      "3584/3584 [==============================] - 0s 110us/step - loss: 0.0105 - val_loss: 0.0517\n",
      "Epoch 24/1000\n",
      "3584/3584 [==============================] - 0s 110us/step - loss: 0.0101 - val_loss: 0.0501\n",
      "Epoch 25/1000\n",
      "3584/3584 [==============================] - 0s 117us/step - loss: 0.0100 - val_loss: 0.0487\n",
      "Epoch 26/1000\n",
      "3584/3584 [==============================] - 0s 117us/step - loss: 0.0095 - val_loss: 0.0552\n",
      "Epoch 27/1000\n",
      "3584/3584 [==============================] - 0s 114us/step - loss: 0.0093 - val_loss: 0.0576\n",
      "Epoch 28/1000\n",
      "3584/3584 [==============================] - 0s 122us/step - loss: 0.0093 - val_loss: 0.0526\n",
      "Epoch 29/1000\n",
      "3584/3584 [==============================] - 0s 117us/step - loss: 0.0093 - val_loss: 0.0601\n",
      "Epoch 30/1000\n",
      "3584/3584 [==============================] - 0s 120us/step - loss: 0.0085 - val_loss: 0.0553\n",
      "Epoch 31/1000\n",
      "3584/3584 [==============================] - 0s 115us/step - loss: 0.0089 - val_loss: 0.0597\n",
      "Epoch 32/1000\n",
      "3584/3584 [==============================] - 0s 110us/step - loss: 0.0084 - val_loss: 0.0577\n",
      "Epoch 33/1000\n",
      "3584/3584 [==============================] - 0s 116us/step - loss: 0.0088 - val_loss: 0.0675\n",
      "Epoch 34/1000\n",
      "3584/3584 [==============================] - 0s 128us/step - loss: 0.0079 - val_loss: 0.0624\n",
      "Epoch 35/1000\n",
      "3584/3584 [==============================] - 0s 113us/step - loss: 0.0083 - val_loss: 0.0655\n",
      "Epoch 36/1000\n",
      "3584/3584 [==============================] - 0s 109us/step - loss: 0.0074 - val_loss: 0.0627\n",
      "Epoch 37/1000\n",
      "3584/3584 [==============================] - 0s 110us/step - loss: 0.0077 - val_loss: 0.0574\n",
      "Epoch 38/1000\n",
      "3584/3584 [==============================] - 0s 109us/step - loss: 0.0077 - val_loss: 0.0611\n",
      "Epoch 39/1000\n",
      "3584/3584 [==============================] - 0s 109us/step - loss: 0.0070 - val_loss: 0.0646\n",
      "Epoch 40/1000\n",
      "3584/3584 [==============================] - 0s 112us/step - loss: 0.0072 - val_loss: 0.0592\n",
      "Epoch 41/1000\n",
      "3584/3584 [==============================] - 0s 110us/step - loss: 0.0073 - val_loss: 0.0635\n",
      "Epoch 42/1000\n",
      "3584/3584 [==============================] - 0s 114us/step - loss: 0.0067 - val_loss: 0.0633\n",
      "Epoch 43/1000\n",
      "3584/3584 [==============================] - 0s 110us/step - loss: 0.0071 - val_loss: 0.0666\n",
      "Epoch 44/1000\n",
      "3584/3584 [==============================] - 0s 113us/step - loss: 0.0064 - val_loss: 0.0649\n",
      "Epoch 45/1000\n",
      "3584/3584 [==============================] - 0s 116us/step - loss: 0.0071 - val_loss: 0.0688\n",
      "Epoch 46/1000\n",
      "3584/3584 [==============================] - 0s 124us/step - loss: 0.0067 - val_loss: 0.0703\n",
      "Epoch 47/1000\n",
      "3584/3584 [==============================] - 0s 111us/step - loss: 0.0064 - val_loss: 0.0692\n",
      "Epoch 48/1000\n",
      "3584/3584 [==============================] - 0s 109us/step - loss: 0.0063 - val_loss: 0.0768\n",
      "Epoch 49/1000\n",
      "3584/3584 [==============================] - 0s 110us/step - loss: 0.0061 - val_loss: 0.0740\n",
      "Epoch 50/1000\n",
      "3584/3584 [==============================] - 0s 109us/step - loss: 0.0061 - val_loss: 0.0793\n",
      "Epoch 51/1000\n",
      "3584/3584 [==============================] - 0s 111us/step - loss: 0.0061 - val_loss: 0.0730\n",
      "Epoch 52/1000\n",
      "3584/3584 [==============================] - 0s 106us/step - loss: 0.0059 - val_loss: 0.0744\n",
      "Epoch 53/1000\n",
      "3584/3584 [==============================] - 0s 119us/step - loss: 0.0055 - val_loss: 0.0720\n",
      "Epoch 54/1000\n",
      "3584/3584 [==============================] - 0s 104us/step - loss: 0.0053 - val_loss: 0.0735\n",
      "Epoch 55/1000\n",
      "3584/3584 [==============================] - 0s 115us/step - loss: 0.0054 - val_loss: 0.0788\n",
      "Epoch 56/1000\n",
      "3584/3584 [==============================] - 0s 110us/step - loss: 0.0058 - val_loss: 0.0733\n",
      "Epoch 57/1000\n",
      "3584/3584 [==============================] - 0s 105us/step - loss: 0.0056 - val_loss: 0.0862\n",
      "Epoch 58/1000\n",
      "3584/3584 [==============================] - 0s 110us/step - loss: 0.0055 - val_loss: 0.0768\n",
      "Epoch 59/1000\n",
      "3584/3584 [==============================] - 0s 107us/step - loss: 0.0059 - val_loss: 0.0769\n",
      "Epoch 60/1000\n",
      "3584/3584 [==============================] - 0s 113us/step - loss: 0.0055 - val_loss: 0.0761\n",
      "Epoch 61/1000\n",
      "3584/3584 [==============================] - 0s 113us/step - loss: 0.0052 - val_loss: 0.0753\n",
      "Epoch 62/1000\n",
      "3584/3584 [==============================] - 0s 109us/step - loss: 0.0054 - val_loss: 0.0752\n",
      "Epoch 63/1000\n",
      "3584/3584 [==============================] - 0s 111us/step - loss: 0.0056 - val_loss: 0.0831\n",
      "Epoch 64/1000\n",
      "3584/3584 [==============================] - 0s 106us/step - loss: 0.0054 - val_loss: 0.0769\n",
      "Epoch 65/1000\n",
      "3584/3584 [==============================] - 0s 111us/step - loss: 0.0052 - val_loss: 0.0788\n",
      "Epoch 66/1000\n",
      "3584/3584 [==============================] - 0s 121us/step - loss: 0.0047 - val_loss: 0.0784\n",
      "Epoch 67/1000\n",
      "3584/3584 [==============================] - 0s 107us/step - loss: 0.0052 - val_loss: 0.0849\n",
      "Epoch 68/1000\n",
      "3584/3584 [==============================] - 0s 115us/step - loss: 0.0053 - val_loss: 0.0803\n",
      "Epoch 69/1000\n",
      "3584/3584 [==============================] - 0s 119us/step - loss: 0.0052 - val_loss: 0.0795\n",
      "Epoch 70/1000\n",
      "3584/3584 [==============================] - 0s 111us/step - loss: 0.0051 - val_loss: 0.0722\n",
      "Epoch 71/1000\n",
      "3584/3584 [==============================] - 0s 109us/step - loss: 0.0052 - val_loss: 0.0788\n",
      "Epoch 72/1000\n",
      "3584/3584 [==============================] - 0s 108us/step - loss: 0.0047 - val_loss: 0.0747\n",
      "Epoch 73/1000\n",
      "3584/3584 [==============================] - 0s 109us/step - loss: 0.0047 - val_loss: 0.0759\n",
      "Epoch 74/1000\n",
      "3584/3584 [==============================] - 0s 107us/step - loss: 0.0052 - val_loss: 0.0724\n",
      "Epoch 75/1000\n",
      "3584/3584 [==============================] - 0s 108us/step - loss: 0.0055 - val_loss: 0.0772\n",
      "Epoch 76/1000\n",
      "3584/3584 [==============================] - 0s 107us/step - loss: 0.0053 - val_loss: 0.0756\n",
      "Epoch 77/1000\n"
     ]
    },
    {
     "name": "stdout",
     "output_type": "stream",
     "text": [
      "3584/3584 [==============================] - 0s 103us/step - loss: 0.0046 - val_loss: 0.0756\n",
      "Epoch 78/1000\n",
      "3584/3584 [==============================] - 0s 103us/step - loss: 0.0047 - val_loss: 0.0776\n",
      "Epoch 79/1000\n",
      "3584/3584 [==============================] - 0s 97us/step - loss: 0.0045 - val_loss: 0.0747\n",
      "Epoch 80/1000\n",
      "3584/3584 [==============================] - 0s 99us/step - loss: 0.0045 - val_loss: 0.0682\n",
      "Epoch 81/1000\n",
      "3584/3584 [==============================] - 0s 101us/step - loss: 0.0050 - val_loss: 0.0732\n",
      "Epoch 82/1000\n",
      "3584/3584 [==============================] - 0s 99us/step - loss: 0.0048 - val_loss: 0.0735\n",
      "Epoch 83/1000\n",
      "3584/3584 [==============================] - 0s 97us/step - loss: 0.0046 - val_loss: 0.0695\n",
      "Epoch 84/1000\n",
      "3584/3584 [==============================] - 0s 99us/step - loss: 0.0045 - val_loss: 0.0719\n",
      "Epoch 85/1000\n",
      "3584/3584 [==============================] - 0s 99us/step - loss: 0.0041 - val_loss: 0.0721\n",
      "Epoch 86/1000\n",
      "3584/3584 [==============================] - 0s 100us/step - loss: 0.0047 - val_loss: 0.0804\n",
      "Epoch 87/1000\n",
      "3584/3584 [==============================] - 0s 100us/step - loss: 0.0049 - val_loss: 0.0777\n",
      "Epoch 88/1000\n",
      "3584/3584 [==============================] - 0s 99us/step - loss: 0.0052 - val_loss: 0.0884\n",
      "Epoch 89/1000\n",
      "3584/3584 [==============================] - 0s 101us/step - loss: 0.0045 - val_loss: 0.0798\n",
      "Epoch 90/1000\n",
      "3584/3584 [==============================] - 0s 99us/step - loss: 0.0043 - val_loss: 0.0770\n",
      "Epoch 91/1000\n",
      "3584/3584 [==============================] - 0s 100us/step - loss: 0.0045 - val_loss: 0.0798\n",
      "Epoch 92/1000\n",
      "3584/3584 [==============================] - 0s 106us/step - loss: 0.0046 - val_loss: 0.0791\n",
      "Epoch 93/1000\n",
      "3584/3584 [==============================] - 0s 101us/step - loss: 0.0052 - val_loss: 0.0814\n",
      "Epoch 94/1000\n",
      "3584/3584 [==============================] - 0s 98us/step - loss: 0.0052 - val_loss: 0.0883\n",
      "Epoch 95/1000\n",
      "3584/3584 [==============================] - 0s 102us/step - loss: 0.0050 - val_loss: 0.0869\n",
      "Epoch 96/1000\n",
      "3584/3584 [==============================] - 0s 103us/step - loss: 0.0052 - val_loss: 0.0851\n",
      "Epoch 97/1000\n",
      "3584/3584 [==============================] - 0s 101us/step - loss: 0.0049 - val_loss: 0.0871\n",
      "Epoch 98/1000\n",
      "3584/3584 [==============================] - 0s 106us/step - loss: 0.0053 - val_loss: 0.0911\n",
      "Epoch 99/1000\n",
      "3584/3584 [==============================] - 0s 100us/step - loss: 0.0059 - val_loss: 0.0913\n",
      "Epoch 100/1000\n",
      "3584/3584 [==============================] - 0s 100us/step - loss: 0.0064 - val_loss: 0.0919\n",
      "Epoch 101/1000\n",
      "3584/3584 [==============================] - 0s 102us/step - loss: 0.0074 - val_loss: 0.0876\n",
      "Epoch 102/1000\n",
      "3584/3584 [==============================] - 0s 102us/step - loss: 0.0067 - val_loss: 0.0855\n",
      "Epoch 103/1000\n",
      "3584/3584 [==============================] - ETA: 0s - loss: 0.005 - 0s 103us/step - loss: 0.0056 - val_loss: 0.0813\n",
      "Epoch 104/1000\n",
      "3584/3584 [==============================] - 0s 98us/step - loss: 0.0046 - val_loss: 0.0753\n",
      "Epoch 105/1000\n",
      "3584/3584 [==============================] - 0s 100us/step - loss: 0.0042 - val_loss: 0.0630\n",
      "Epoch 106/1000\n",
      "3584/3584 [==============================] - 0s 99us/step - loss: 0.0043 - val_loss: 0.0640\n",
      "Epoch 107/1000\n",
      "3584/3584 [==============================] - 0s 105us/step - loss: 0.0043 - val_loss: 0.0595\n",
      "Epoch 108/1000\n",
      "3584/3584 [==============================] - 0s 110us/step - loss: 0.0040 - val_loss: 0.0610\n",
      "Epoch 109/1000\n",
      "3584/3584 [==============================] - 0s 114us/step - loss: 0.0040 - val_loss: 0.0640\n",
      "Epoch 110/1000\n",
      "3584/3584 [==============================] - 0s 115us/step - loss: 0.0039 - val_loss: 0.0668\n",
      "Epoch 111/1000\n",
      "3584/3584 [==============================] - 0s 120us/step - loss: 0.0039 - val_loss: 0.0693\n",
      "Epoch 112/1000\n",
      "3584/3584 [==============================] - 0s 110us/step - loss: 0.0037 - val_loss: 0.0725\n",
      "Epoch 113/1000\n",
      "3584/3584 [==============================] - 0s 115us/step - loss: 0.0039 - val_loss: 0.0763\n",
      "Epoch 114/1000\n",
      "3584/3584 [==============================] - 0s 109us/step - loss: 0.0038 - val_loss: 0.0811\n",
      "Epoch 115/1000\n",
      "3584/3584 [==============================] - 0s 99us/step - loss: 0.0041 - val_loss: 0.0844\n",
      "Epoch 116/1000\n",
      "3584/3584 [==============================] - 0s 101us/step - loss: 0.0044 - val_loss: 0.0799\n",
      "Epoch 117/1000\n",
      "3584/3584 [==============================] - 0s 95us/step - loss: 0.0044 - val_loss: 0.0749\n",
      "Epoch 118/1000\n",
      "3584/3584 [==============================] - 0s 103us/step - loss: 0.0043 - val_loss: 0.0715\n",
      "Epoch 119/1000\n",
      "3584/3584 [==============================] - 0s 99us/step - loss: 0.0039 - val_loss: 0.0804\n",
      "Epoch 120/1000\n",
      "3584/3584 [==============================] - 0s 100us/step - loss: 0.0037 - val_loss: 0.0740\n",
      "Epoch 121/1000\n",
      "3584/3584 [==============================] - 0s 100us/step - loss: 0.0041 - val_loss: 0.0794\n",
      "Epoch 00121: early stopping\n"
     ]
    },
    {
     "data": {
      "image/png": "[encoded data removed]",
      "text/plain": [
       "<Figure size 432x288 with 1 Axes>"
      ]
     },
     "metadata": {
      "needs_background": "light"
     },
     "output_type": "display_data"
    }
   ],
   "source": [
    "history=model1.fit(X_train,y_train, epochs=1000, shuffle=False, batch_size=64, verbose=1, validation_data = (X_val, y_val), callbacks=[es])\n",
    "model1.save('./models/wavelet2.h5')\n",
    "plt.plot(history.history['loss'], label='train')\n",
    "#plt.plot(history.history['rmse'], label='test')\n",
    "plt.legend()\n",
    "plt.show()"
   ]
  },
  {
   "cell_type": "code",
   "execution_count": null,
   "metadata": {},
   "outputs": [],
   "source": [
    "'''coeffs= pywt.wavedec2(price_test, 'haar',  mode='symmetric',level=2)\n",
    "coeffs[-1] = tuple([np.zeros_like(v) for v in coeffs[-1]])\n",
    "c=pywt.waverec2(coeffs,'haar')\n",
    "coeffs1=pywt.wavedec2(c,'haar', mode='symmetric', level=2)\n",
    "coeffs1[-1] = tuple([np.zeros_like(v) for v in coeffs1[-1]])\n",
    "d=pywt.waverec2(coeffs1, 'haar')\n",
    "exp_X_test[:,0] = d[:-1,0]\n",
    "exp_X_test[:,1] = d[:-1,1]\n",
    "exp_X_test[:,2] = d[:1,2]\n",
    "exp_X_test[:,3] = d[:-1,3]'''"
   ]
  },
  {
   "cell_type": "code",
   "execution_count": 191,
   "metadata": {},
   "outputs": [],
   "source": [
    "#expXtest = exp_X_test[:,1:]"
   ]
  },
  {
   "cell_type": "code",
   "execution_count": 493,
   "metadata": {},
   "outputs": [
    {
     "data": {
      "text/html": [
       "<div>\n",
       "<style scoped>\n",
       "    .dataframe tbody tr th:only-of-type {\n",
       "        vertical-align: middle;\n",
       "    }\n",
       "\n",
       "    .dataframe tbody tr th {\n",
       "        vertical-align: top;\n",
       "    }\n",
       "\n",
       "    .dataframe thead th {\n",
       "        text-align: right;\n",
       "    }\n",
       "</style>\n",
       "<table border=\"1\" class=\"dataframe\">\n",
       "  <thead>\n",
       "    <tr style=\"text-align: right;\">\n",
       "      <th></th>\n",
       "      <th>0</th>\n",
       "      <th>1</th>\n",
       "      <th>2</th>\n",
       "      <th>3</th>\n",
       "      <th>4</th>\n",
       "      <th>5</th>\n",
       "      <th>6</th>\n",
       "      <th>7</th>\n",
       "    </tr>\n",
       "  </thead>\n",
       "  <tbody>\n",
       "    <tr>\n",
       "      <th>0</th>\n",
       "      <td>0.364605</td>\n",
       "      <td>0.0</td>\n",
       "      <td>0.0</td>\n",
       "      <td>0.0</td>\n",
       "      <td>0.0</td>\n",
       "      <td>1.066508</td>\n",
       "      <td>0.0</td>\n",
       "      <td>0.0</td>\n",
       "    </tr>\n",
       "    <tr>\n",
       "      <th>1</th>\n",
       "      <td>0.373960</td>\n",
       "      <td>0.0</td>\n",
       "      <td>0.0</td>\n",
       "      <td>0.0</td>\n",
       "      <td>0.0</td>\n",
       "      <td>1.080561</td>\n",
       "      <td>0.0</td>\n",
       "      <td>0.0</td>\n",
       "    </tr>\n",
       "    <tr>\n",
       "      <th>2</th>\n",
       "      <td>0.362545</td>\n",
       "      <td>0.0</td>\n",
       "      <td>0.0</td>\n",
       "      <td>0.0</td>\n",
       "      <td>0.0</td>\n",
       "      <td>1.066226</td>\n",
       "      <td>0.0</td>\n",
       "      <td>0.0</td>\n",
       "    </tr>\n",
       "    <tr>\n",
       "      <th>3</th>\n",
       "      <td>0.307048</td>\n",
       "      <td>0.0</td>\n",
       "      <td>0.0</td>\n",
       "      <td>0.0</td>\n",
       "      <td>0.0</td>\n",
       "      <td>0.976932</td>\n",
       "      <td>0.0</td>\n",
       "      <td>0.0</td>\n",
       "    </tr>\n",
       "    <tr>\n",
       "      <th>4</th>\n",
       "      <td>0.370233</td>\n",
       "      <td>0.0</td>\n",
       "      <td>0.0</td>\n",
       "      <td>0.0</td>\n",
       "      <td>0.0</td>\n",
       "      <td>1.077817</td>\n",
       "      <td>0.0</td>\n",
       "      <td>0.0</td>\n",
       "    </tr>\n",
       "  </tbody>\n",
       "</table>\n",
       "</div>"
      ],
      "text/plain": [
       "          0    1    2    3    4         5    6    7\n",
       "0  0.364605  0.0  0.0  0.0  0.0  1.066508  0.0  0.0\n",
       "1  0.373960  0.0  0.0  0.0  0.0  1.080561  0.0  0.0\n",
       "2  0.362545  0.0  0.0  0.0  0.0  1.066226  0.0  0.0\n",
       "3  0.307048  0.0  0.0  0.0  0.0  0.976932  0.0  0.0\n",
       "4  0.370233  0.0  0.0  0.0  0.0  1.077817  0.0  0.0"
      ]
     },
     "execution_count": 493,
     "metadata": {},
     "output_type": "execute_result"
    }
   ],
   "source": [
    "pd.DataFrame(autoencoded_X_train).head()"
   ]
  },
  {
   "cell_type": "code",
   "execution_count": 234,
   "metadata": {},
   "outputs": [
    {
     "data": {
      "text/html": [
       "<div>\n",
       "<style scoped>\n",
       "    .dataframe tbody tr th:only-of-type {\n",
       "        vertical-align: middle;\n",
       "    }\n",
       "\n",
       "    .dataframe tbody tr th {\n",
       "        vertical-align: top;\n",
       "    }\n",
       "\n",
       "    .dataframe thead th {\n",
       "        text-align: right;\n",
       "    }\n",
       "</style>\n",
       "<table border=\"1\" class=\"dataframe\">\n",
       "  <thead>\n",
       "    <tr style=\"text-align: right;\">\n",
       "      <th></th>\n",
       "      <th>0</th>\n",
       "      <th>1</th>\n",
       "      <th>2</th>\n",
       "      <th>3</th>\n",
       "      <th>4</th>\n",
       "      <th>5</th>\n",
       "      <th>6</th>\n",
       "      <th>7</th>\n",
       "      <th>8</th>\n",
       "    </tr>\n",
       "  </thead>\n",
       "  <tbody>\n",
       "    <tr>\n",
       "      <th>0</th>\n",
       "      <td>0.0</td>\n",
       "      <td>0.136990</td>\n",
       "      <td>0.0</td>\n",
       "      <td>0.202118</td>\n",
       "      <td>0.683817</td>\n",
       "      <td>0.493805</td>\n",
       "      <td>0.028984</td>\n",
       "      <td>0.139598</td>\n",
       "      <td>0.0</td>\n",
       "    </tr>\n",
       "    <tr>\n",
       "      <th>1</th>\n",
       "      <td>0.0</td>\n",
       "      <td>0.136976</td>\n",
       "      <td>0.0</td>\n",
       "      <td>0.202058</td>\n",
       "      <td>0.683991</td>\n",
       "      <td>0.494094</td>\n",
       "      <td>0.029204</td>\n",
       "      <td>0.139693</td>\n",
       "      <td>0.0</td>\n",
       "    </tr>\n",
       "    <tr>\n",
       "      <th>2</th>\n",
       "      <td>0.0</td>\n",
       "      <td>0.137027</td>\n",
       "      <td>0.0</td>\n",
       "      <td>0.202180</td>\n",
       "      <td>0.683770</td>\n",
       "      <td>0.493683</td>\n",
       "      <td>0.028912</td>\n",
       "      <td>0.139555</td>\n",
       "      <td>0.0</td>\n",
       "    </tr>\n",
       "    <tr>\n",
       "      <th>3</th>\n",
       "      <td>0.0</td>\n",
       "      <td>0.136968</td>\n",
       "      <td>0.0</td>\n",
       "      <td>0.202045</td>\n",
       "      <td>0.683689</td>\n",
       "      <td>0.493725</td>\n",
       "      <td>0.028966</td>\n",
       "      <td>0.139544</td>\n",
       "      <td>0.0</td>\n",
       "    </tr>\n",
       "    <tr>\n",
       "      <th>4</th>\n",
       "      <td>0.0</td>\n",
       "      <td>0.136922</td>\n",
       "      <td>0.0</td>\n",
       "      <td>0.201919</td>\n",
       "      <td>0.683756</td>\n",
       "      <td>0.493938</td>\n",
       "      <td>0.029127</td>\n",
       "      <td>0.139606</td>\n",
       "      <td>0.0</td>\n",
       "    </tr>\n",
       "  </tbody>\n",
       "</table>\n",
       "</div>"
      ],
      "text/plain": [
       "     0         1    2         3         4         5         6         7    8\n",
       "0  0.0  0.136990  0.0  0.202118  0.683817  0.493805  0.028984  0.139598  0.0\n",
       "1  0.0  0.136976  0.0  0.202058  0.683991  0.494094  0.029204  0.139693  0.0\n",
       "2  0.0  0.137027  0.0  0.202180  0.683770  0.493683  0.028912  0.139555  0.0\n",
       "3  0.0  0.136968  0.0  0.202045  0.683689  0.493725  0.028966  0.139544  0.0\n",
       "4  0.0  0.136922  0.0  0.201919  0.683756  0.493938  0.029127  0.139606  0.0"
      ]
     },
     "execution_count": 234,
     "metadata": {},
     "output_type": "execute_result"
    }
   ],
   "source": [
    "#exp_X_test=encoder.predict(scaler.transform(exp_X_test))\n",
    "#exp_X_test=scaler.fit_transform(exp_X_test)\n",
    "#scaled_df1=pd.DataFrame(exp_X_test)\n",
    "#scaled_df1.head()"
   ]
  },
  {
   "cell_type": "code",
   "execution_count": 108,
   "metadata": {},
   "outputs": [],
   "source": [
    "#y_test = exp_X_test[:,1]\n",
    "#exp_X_test = np.delete(exp_X_test, 1, axis=1)\n",
    "exp_X_test=exp_X_test.reshape((exp_X_test.shape[0],1,exp_X_test.shape[1]))"
   ]
  },
  {
   "cell_type": "code",
   "execution_count": 119,
   "metadata": {},
   "outputs": [],
   "source": [
    "X_test = (exp_X_test[:,0,2:]).reshape(exp_X_test.shape[0], 1, exp_X_test.shape[2]-2)"
   ]
  },
  {
   "cell_type": "code",
   "execution_count": 146,
   "metadata": {},
   "outputs": [
    {
     "data": {
      "text/plain": [
       "[<matplotlib.lines.Line2D at 0x147083048>,\n",
       " <matplotlib.lines.Line2D at 0x147083198>,\n",
       " <matplotlib.lines.Line2D at 0x1470832e8>,\n",
       " <matplotlib.lines.Line2D at 0x147083438>,\n",
       " <matplotlib.lines.Line2D at 0x147083588>,\n",
       " <matplotlib.lines.Line2D at 0x1470836d8>,\n",
       " <matplotlib.lines.Line2D at 0x147083828>,\n",
       " <matplotlib.lines.Line2D at 0x147083978>,\n",
       " <matplotlib.lines.Line2D at 0x147083ac8>,\n",
       " <matplotlib.lines.Line2D at 0x147083c18>,\n",
       " <matplotlib.lines.Line2D at 0x146fbd160>,\n",
       " <matplotlib.lines.Line2D at 0x147083e80>,\n",
       " <matplotlib.lines.Line2D at 0x147083fd0>,\n",
       " <matplotlib.lines.Line2D at 0x147086160>,\n",
       " <matplotlib.lines.Line2D at 0x1470862b0>,\n",
       " <matplotlib.lines.Line2D at 0x147086400>,\n",
       " <matplotlib.lines.Line2D at 0x147086550>,\n",
       " <matplotlib.lines.Line2D at 0x1470866a0>,\n",
       " <matplotlib.lines.Line2D at 0x1470867f0>,\n",
       " <matplotlib.lines.Line2D at 0x147086940>]"
      ]
     },
     "execution_count": 146,
     "metadata": {},
     "output_type": "execute_result"
    },
    {
     "data": {
      "image/png": "[encoded data removed]",
      "text/plain": [
       "<Figure size 432x288 with 1 Axes>"
      ]
     },
     "metadata": {
      "needs_background": "light"
     },
     "output_type": "display_data"
    }
   ],
   "source": [
    "plt.plot(exp_X_test[:,0,:])"
   ]
  },
  {
   "cell_type": "code",
   "execution_count": 133,
   "metadata": {},
   "outputs": [
    {
     "data": {
      "text/plain": [
       "[<matplotlib.lines.Line2D at 0x144948da0>]"
      ]
     },
     "execution_count": 133,
     "metadata": {},
     "output_type": "execute_result"
    },
    {
     "data": {
      "image/png": "[encoded data removed]",
      "text/plain": [
       "<Figure size 432x288 with 1 Axes>"
      ]
     },
     "metadata": {
      "needs_background": "light"
     },
     "output_type": "display_data"
    }
   ],
   "source": [
    "plt.plot(y_train)"
   ]
  },
  {
   "cell_type": "code",
   "execution_count": 120,
   "metadata": {},
   "outputs": [
    {
     "ename": "AttributeError",
     "evalue": "'numpy.ndarray' object has no attribute 'iloc'",
     "output_type": "error",
     "traceback": [
      "\u001b[0;31m---------------------------------------------------------------------------\u001b[0m",
      "\u001b[0;31mAttributeError\u001b[0m                            Traceback (most recent call last)",
      "\u001b[0;32m<ipython-input-120-ebf6bcbe330b>\u001b[0m in \u001b[0;36m<module>\u001b[0;34m\u001b[0m\n\u001b[0;32m----> 1\u001b[0;31m \u001b[0my_test\u001b[0m \u001b[0;34m=\u001b[0m \u001b[0mprice_test\u001b[0m\u001b[0;34m.\u001b[0m\u001b[0miloc\u001b[0m\u001b[0;34m[\u001b[0m\u001b[0;34m:\u001b[0m\u001b[0;34m,\u001b[0m\u001b[0;36m1\u001b[0m\u001b[0;34m]\u001b[0m\u001b[0;34m\u001b[0m\u001b[0;34m\u001b[0m\u001b[0m\n\u001b[0m",
      "\u001b[0;31mAttributeError\u001b[0m: 'numpy.ndarray' object has no attribute 'iloc'"
     ]
    }
   ],
   "source": [
    "y_test = price_test.iloc[:,1]"
   ]
  },
  {
   "cell_type": "code",
   "execution_count": 121,
   "metadata": {},
   "outputs": [
    {
     "data": {
      "text/plain": [
       "(769, 1, 18)"
      ]
     },
     "execution_count": 121,
     "metadata": {},
     "output_type": "execute_result"
    }
   ],
   "source": [
    "X_test.shape"
   ]
  },
  {
   "cell_type": "code",
   "execution_count": 147,
   "metadata": {},
   "outputs": [],
   "source": [
    "pred=model1.predict(X_test)\n",
    "actual= np.array(y_test)"
   ]
  },
  {
   "cell_type": "code",
   "execution_count": 148,
   "metadata": {},
   "outputs": [
    {
     "data": {
      "image/png": "[encoded data removed]",
      "text/plain": [
       "<Figure size 432x288 with 1 Axes>"
      ]
     },
     "metadata": {
      "needs_background": "light"
     },
     "output_type": "display_data"
    }
   ],
   "source": [
    "plt.plot(pred, color='red',linewidth=0.4)\n",
    "plt.plot(actual, color='green', linewidth=0.4)\n",
    "plt.savefig('./wavelet_prediction.png')\n",
    "plt.show()"
   ]
  },
  {
   "cell_type": "code",
   "execution_count": 149,
   "metadata": {},
   "outputs": [],
   "source": [
    "from sklearn.metrics import mean_squared_error, mean_absolute_error"
   ]
  },
  {
   "cell_type": "code",
   "execution_count": 151,
   "metadata": {},
   "outputs": [
    {
     "name": "stdout",
     "output_type": "stream",
     "text": [
      "mse, rmse, mae:(0.015352698102281704, 0.1239060051098481, 0.10435384116726694)\n"
     ]
    }
   ],
   "source": [
    "import math\n",
    "mse = mean_squared_error(actual, pred[2:])\n",
    "rmse = math.sqrt(mse)\n",
    "mae = mean_absolute_error(actual, pred[2:])\n",
    "#mape = mean_absolute_percentage_error(actual, pred)\n",
    "print(\"mse, rmse, mae:\" + str((mse,rmse,mae)))"
   ]
  },
  {
   "cell_type": "code",
   "execution_count": 153,
   "metadata": {},
   "outputs": [],
   "source": [
    "def mean_absolute_percentage_error(y_true, y_pred): \n",
    "    mape = np.mean(np.abs((y_true - y_pred) / y_true)) * 100\n",
    "    return(mape)"
   ]
  },
  {
   "cell_type": "code",
   "execution_count": 154,
   "metadata": {},
   "outputs": [
    {
     "name": "stdout",
     "output_type": "stream",
     "text": [
      "12.46972136301865\n"
     ]
    }
   ],
   "source": [
    "print(mean_absolute_percentage_error(actual, pred[2:]))"
   ]
  },
  {
   "cell_type": "code",
   "execution_count": 460,
   "metadata": {},
   "outputs": [
    {
     "data": {
      "text/plain": [
       "[<matplotlib.lines.Line2D at 0x14ddf2e80>]"
      ]
     },
     "execution_count": 460,
     "metadata": {},
     "output_type": "execute_result"
    },
    {
     "data": {
      "image/png": "[encoded data removed]",
      "text/plain": [
       "<Figure size 432x288 with 1 Axes>"
      ]
     },
     "metadata": {
      "needs_background": "light"
     },
     "output_type": "display_data"
    }
   ],
   "source": [
    "pred2 = pred[:200]+10\n",
    "pred1 = pred[:200]\n",
    "actual1 = actual[:200]\n",
    "plt.plot(pred1, color='green',linewidth=0.4)\n",
    "plt.plot(actual1, color='red', linewidth=0.4)"
   ]
  },
  {
   "cell_type": "code",
   "execution_count": 461,
   "metadata": {},
   "outputs": [
    {
     "name": "stdout",
     "output_type": "stream",
     "text": [
      "mse, rmse, mae:(64.41563070081008, 128.96311720235872, 7.935655991821289)\n"
     ]
    }
   ],
   "source": [
    "mse1 = mean_squared_error(actual1, pred1)\n",
    "rmse1 = math.sqrt(mse)\n",
    "mae1 = mean_absolute_error(actual1, pred1)\n",
    "#mape = mean_absolute_percentage_error(actual, pred)\n",
    "print(\"mse, rmse, mae:\" + str((mse1,rmse1,mae1)))"
   ]
  },
  {
   "cell_type": "code",
   "execution_count": 312,
   "metadata": {},
   "outputs": [
    {
     "data": {
      "text/html": [
       "<div>\n",
       "<style scoped>\n",
       "    .dataframe tbody tr th:only-of-type {\n",
       "        vertical-align: middle;\n",
       "    }\n",
       "\n",
       "    .dataframe tbody tr th {\n",
       "        vertical-align: top;\n",
       "    }\n",
       "\n",
       "    .dataframe thead th {\n",
       "        text-align: right;\n",
       "    }\n",
       "</style>\n",
       "<table border=\"1\" class=\"dataframe\">\n",
       "  <thead>\n",
       "    <tr style=\"text-align: right;\">\n",
       "      <th></th>\n",
       "      <th>0</th>\n",
       "      <th>1</th>\n",
       "      <th>2</th>\n",
       "      <th>3</th>\n",
       "      <th>4</th>\n",
       "      <th>5</th>\n",
       "      <th>6</th>\n",
       "      <th>7</th>\n",
       "    </tr>\n",
       "  </thead>\n",
       "  <tbody>\n",
       "    <tr>\n",
       "      <th>0</th>\n",
       "      <td>1.584041</td>\n",
       "      <td>1.441197</td>\n",
       "      <td>0.0</td>\n",
       "      <td>0.310625</td>\n",
       "      <td>0.0</td>\n",
       "      <td>0.0</td>\n",
       "      <td>0.848771</td>\n",
       "      <td>0.0</td>\n",
       "    </tr>\n",
       "    <tr>\n",
       "      <th>1</th>\n",
       "      <td>1.572980</td>\n",
       "      <td>1.462330</td>\n",
       "      <td>0.0</td>\n",
       "      <td>0.353695</td>\n",
       "      <td>0.0</td>\n",
       "      <td>0.0</td>\n",
       "      <td>0.893752</td>\n",
       "      <td>0.0</td>\n",
       "    </tr>\n",
       "    <tr>\n",
       "      <th>2</th>\n",
       "      <td>1.566889</td>\n",
       "      <td>1.420596</td>\n",
       "      <td>0.0</td>\n",
       "      <td>0.302216</td>\n",
       "      <td>0.0</td>\n",
       "      <td>0.0</td>\n",
       "      <td>0.833330</td>\n",
       "      <td>0.0</td>\n",
       "    </tr>\n",
       "    <tr>\n",
       "      <th>3</th>\n",
       "      <td>1.555019</td>\n",
       "      <td>1.410912</td>\n",
       "      <td>0.0</td>\n",
       "      <td>0.315766</td>\n",
       "      <td>0.0</td>\n",
       "      <td>0.0</td>\n",
       "      <td>0.811265</td>\n",
       "      <td>0.0</td>\n",
       "    </tr>\n",
       "    <tr>\n",
       "      <th>4</th>\n",
       "      <td>1.547379</td>\n",
       "      <td>1.415995</td>\n",
       "      <td>0.0</td>\n",
       "      <td>0.345240</td>\n",
       "      <td>0.0</td>\n",
       "      <td>0.0</td>\n",
       "      <td>0.843641</td>\n",
       "      <td>0.0</td>\n",
       "    </tr>\n",
       "    <tr>\n",
       "      <th>5</th>\n",
       "      <td>1.496791</td>\n",
       "      <td>1.736927</td>\n",
       "      <td>0.0</td>\n",
       "      <td>0.747225</td>\n",
       "      <td>0.0</td>\n",
       "      <td>0.0</td>\n",
       "      <td>1.321168</td>\n",
       "      <td>0.0</td>\n",
       "    </tr>\n",
       "    <tr>\n",
       "      <th>6</th>\n",
       "      <td>1.504787</td>\n",
       "      <td>1.727638</td>\n",
       "      <td>0.0</td>\n",
       "      <td>0.723081</td>\n",
       "      <td>0.0</td>\n",
       "      <td>0.0</td>\n",
       "      <td>1.315192</td>\n",
       "      <td>0.0</td>\n",
       "    </tr>\n",
       "    <tr>\n",
       "      <th>7</th>\n",
       "      <td>1.444277</td>\n",
       "      <td>1.989735</td>\n",
       "      <td>0.0</td>\n",
       "      <td>1.046133</td>\n",
       "      <td>0.0</td>\n",
       "      <td>0.0</td>\n",
       "      <td>1.721315</td>\n",
       "      <td>0.0</td>\n",
       "    </tr>\n",
       "    <tr>\n",
       "      <th>8</th>\n",
       "      <td>1.446466</td>\n",
       "      <td>1.927482</td>\n",
       "      <td>0.0</td>\n",
       "      <td>0.966422</td>\n",
       "      <td>0.0</td>\n",
       "      <td>0.0</td>\n",
       "      <td>1.659344</td>\n",
       "      <td>0.0</td>\n",
       "    </tr>\n",
       "    <tr>\n",
       "      <th>9</th>\n",
       "      <td>1.419958</td>\n",
       "      <td>2.020334</td>\n",
       "      <td>0.0</td>\n",
       "      <td>1.074264</td>\n",
       "      <td>0.0</td>\n",
       "      <td>0.0</td>\n",
       "      <td>1.827060</td>\n",
       "      <td>0.0</td>\n",
       "    </tr>\n",
       "    <tr>\n",
       "      <th>10</th>\n",
       "      <td>1.401588</td>\n",
       "      <td>2.049271</td>\n",
       "      <td>0.0</td>\n",
       "      <td>1.096515</td>\n",
       "      <td>0.0</td>\n",
       "      <td>0.0</td>\n",
       "      <td>1.923656</td>\n",
       "      <td>0.0</td>\n",
       "    </tr>\n",
       "    <tr>\n",
       "      <th>11</th>\n",
       "      <td>1.380389</td>\n",
       "      <td>2.103017</td>\n",
       "      <td>0.0</td>\n",
       "      <td>1.146413</td>\n",
       "      <td>0.0</td>\n",
       "      <td>0.0</td>\n",
       "      <td>2.056929</td>\n",
       "      <td>0.0</td>\n",
       "    </tr>\n",
       "    <tr>\n",
       "      <th>12</th>\n",
       "      <td>1.376881</td>\n",
       "      <td>2.087362</td>\n",
       "      <td>0.0</td>\n",
       "      <td>1.108886</td>\n",
       "      <td>0.0</td>\n",
       "      <td>0.0</td>\n",
       "      <td>2.081991</td>\n",
       "      <td>0.0</td>\n",
       "    </tr>\n",
       "    <tr>\n",
       "      <th>13</th>\n",
       "      <td>1.369487</td>\n",
       "      <td>2.086043</td>\n",
       "      <td>0.0</td>\n",
       "      <td>1.081100</td>\n",
       "      <td>0.0</td>\n",
       "      <td>0.0</td>\n",
       "      <td>2.108126</td>\n",
       "      <td>0.0</td>\n",
       "    </tr>\n",
       "    <tr>\n",
       "      <th>14</th>\n",
       "      <td>1.369227</td>\n",
       "      <td>2.060988</td>\n",
       "      <td>0.0</td>\n",
       "      <td>1.026532</td>\n",
       "      <td>0.0</td>\n",
       "      <td>0.0</td>\n",
       "      <td>2.083204</td>\n",
       "      <td>0.0</td>\n",
       "    </tr>\n",
       "    <tr>\n",
       "      <th>15</th>\n",
       "      <td>1.368483</td>\n",
       "      <td>2.037480</td>\n",
       "      <td>0.0</td>\n",
       "      <td>0.981556</td>\n",
       "      <td>0.0</td>\n",
       "      <td>0.0</td>\n",
       "      <td>2.057936</td>\n",
       "      <td>0.0</td>\n",
       "    </tr>\n",
       "    <tr>\n",
       "      <th>16</th>\n",
       "      <td>1.379402</td>\n",
       "      <td>1.929861</td>\n",
       "      <td>0.0</td>\n",
       "      <td>0.830698</td>\n",
       "      <td>0.0</td>\n",
       "      <td>0.0</td>\n",
       "      <td>1.896611</td>\n",
       "      <td>0.0</td>\n",
       "    </tr>\n",
       "    <tr>\n",
       "      <th>17</th>\n",
       "      <td>1.377501</td>\n",
       "      <td>1.883161</td>\n",
       "      <td>0.0</td>\n",
       "      <td>0.777947</td>\n",
       "      <td>0.0</td>\n",
       "      <td>0.0</td>\n",
       "      <td>1.831438</td>\n",
       "      <td>0.0</td>\n",
       "    </tr>\n",
       "    <tr>\n",
       "      <th>18</th>\n",
       "      <td>1.380086</td>\n",
       "      <td>1.873710</td>\n",
       "      <td>0.0</td>\n",
       "      <td>0.759480</td>\n",
       "      <td>0.0</td>\n",
       "      <td>0.0</td>\n",
       "      <td>1.816987</td>\n",
       "      <td>0.0</td>\n",
       "    </tr>\n",
       "    <tr>\n",
       "      <th>19</th>\n",
       "      <td>1.380519</td>\n",
       "      <td>1.878583</td>\n",
       "      <td>0.0</td>\n",
       "      <td>0.758136</td>\n",
       "      <td>0.0</td>\n",
       "      <td>0.0</td>\n",
       "      <td>1.826351</td>\n",
       "      <td>0.0</td>\n",
       "    </tr>\n",
       "    <tr>\n",
       "      <th>20</th>\n",
       "      <td>1.381694</td>\n",
       "      <td>1.908803</td>\n",
       "      <td>0.0</td>\n",
       "      <td>0.786614</td>\n",
       "      <td>0.0</td>\n",
       "      <td>0.0</td>\n",
       "      <td>1.871028</td>\n",
       "      <td>0.0</td>\n",
       "    </tr>\n",
       "    <tr>\n",
       "      <th>21</th>\n",
       "      <td>1.383283</td>\n",
       "      <td>1.885514</td>\n",
       "      <td>0.0</td>\n",
       "      <td>0.751140</td>\n",
       "      <td>0.0</td>\n",
       "      <td>0.0</td>\n",
       "      <td>1.838519</td>\n",
       "      <td>0.0</td>\n",
       "    </tr>\n",
       "    <tr>\n",
       "      <th>22</th>\n",
       "      <td>1.374557</td>\n",
       "      <td>1.959732</td>\n",
       "      <td>0.0</td>\n",
       "      <td>0.847964</td>\n",
       "      <td>0.0</td>\n",
       "      <td>0.0</td>\n",
       "      <td>1.954703</td>\n",
       "      <td>0.0</td>\n",
       "    </tr>\n",
       "    <tr>\n",
       "      <th>23</th>\n",
       "      <td>1.387328</td>\n",
       "      <td>1.841076</td>\n",
       "      <td>0.0</td>\n",
       "      <td>0.675227</td>\n",
       "      <td>0.0</td>\n",
       "      <td>0.0</td>\n",
       "      <td>1.778442</td>\n",
       "      <td>0.0</td>\n",
       "    </tr>\n",
       "    <tr>\n",
       "      <th>24</th>\n",
       "      <td>1.425678</td>\n",
       "      <td>1.469545</td>\n",
       "      <td>0.0</td>\n",
       "      <td>0.157787</td>\n",
       "      <td>0.0</td>\n",
       "      <td>0.0</td>\n",
       "      <td>1.219062</td>\n",
       "      <td>0.0</td>\n",
       "    </tr>\n",
       "    <tr>\n",
       "      <th>25</th>\n",
       "      <td>1.427350</td>\n",
       "      <td>1.487990</td>\n",
       "      <td>0.0</td>\n",
       "      <td>0.192974</td>\n",
       "      <td>0.0</td>\n",
       "      <td>0.0</td>\n",
       "      <td>1.237250</td>\n",
       "      <td>0.0</td>\n",
       "    </tr>\n",
       "    <tr>\n",
       "      <th>26</th>\n",
       "      <td>1.440419</td>\n",
       "      <td>1.438859</td>\n",
       "      <td>0.0</td>\n",
       "      <td>0.126085</td>\n",
       "      <td>0.0</td>\n",
       "      <td>0.0</td>\n",
       "      <td>1.150263</td>\n",
       "      <td>0.0</td>\n",
       "    </tr>\n",
       "    <tr>\n",
       "      <th>27</th>\n",
       "      <td>1.429045</td>\n",
       "      <td>1.608251</td>\n",
       "      <td>0.0</td>\n",
       "      <td>0.377010</td>\n",
       "      <td>0.0</td>\n",
       "      <td>0.0</td>\n",
       "      <td>1.389446</td>\n",
       "      <td>0.0</td>\n",
       "    </tr>\n",
       "    <tr>\n",
       "      <th>28</th>\n",
       "      <td>1.472187</td>\n",
       "      <td>1.371857</td>\n",
       "      <td>0.0</td>\n",
       "      <td>0.064289</td>\n",
       "      <td>0.0</td>\n",
       "      <td>0.0</td>\n",
       "      <td>0.997516</td>\n",
       "      <td>0.0</td>\n",
       "    </tr>\n",
       "    <tr>\n",
       "      <th>29</th>\n",
       "      <td>1.477905</td>\n",
       "      <td>1.375300</td>\n",
       "      <td>0.0</td>\n",
       "      <td>0.082090</td>\n",
       "      <td>0.0</td>\n",
       "      <td>0.0</td>\n",
       "      <td>0.987759</td>\n",
       "      <td>0.0</td>\n",
       "    </tr>\n",
       "    <tr>\n",
       "      <th>...</th>\n",
       "      <td>...</td>\n",
       "      <td>...</td>\n",
       "      <td>...</td>\n",
       "      <td>...</td>\n",
       "      <td>...</td>\n",
       "      <td>...</td>\n",
       "      <td>...</td>\n",
       "      <td>...</td>\n",
       "    </tr>\n",
       "    <tr>\n",
       "      <th>990</th>\n",
       "      <td>3.906293</td>\n",
       "      <td>4.575688</td>\n",
       "      <td>0.0</td>\n",
       "      <td>0.535111</td>\n",
       "      <td>0.0</td>\n",
       "      <td>0.0</td>\n",
       "      <td>3.253474</td>\n",
       "      <td>0.0</td>\n",
       "    </tr>\n",
       "    <tr>\n",
       "      <th>991</th>\n",
       "      <td>3.893741</td>\n",
       "      <td>4.633550</td>\n",
       "      <td>0.0</td>\n",
       "      <td>0.561377</td>\n",
       "      <td>0.0</td>\n",
       "      <td>0.0</td>\n",
       "      <td>3.373960</td>\n",
       "      <td>0.0</td>\n",
       "    </tr>\n",
       "    <tr>\n",
       "      <th>992</th>\n",
       "      <td>3.910969</td>\n",
       "      <td>4.765405</td>\n",
       "      <td>0.0</td>\n",
       "      <td>0.641077</td>\n",
       "      <td>0.0</td>\n",
       "      <td>0.0</td>\n",
       "      <td>3.569223</td>\n",
       "      <td>0.0</td>\n",
       "    </tr>\n",
       "    <tr>\n",
       "      <th>993</th>\n",
       "      <td>3.921903</td>\n",
       "      <td>4.767962</td>\n",
       "      <td>0.0</td>\n",
       "      <td>0.564084</td>\n",
       "      <td>0.0</td>\n",
       "      <td>0.0</td>\n",
       "      <td>3.590175</td>\n",
       "      <td>0.0</td>\n",
       "    </tr>\n",
       "    <tr>\n",
       "      <th>994</th>\n",
       "      <td>3.913364</td>\n",
       "      <td>4.837822</td>\n",
       "      <td>0.0</td>\n",
       "      <td>0.579074</td>\n",
       "      <td>0.0</td>\n",
       "      <td>0.0</td>\n",
       "      <td>3.732565</td>\n",
       "      <td>0.0</td>\n",
       "    </tr>\n",
       "    <tr>\n",
       "      <th>995</th>\n",
       "      <td>3.911105</td>\n",
       "      <td>4.857074</td>\n",
       "      <td>0.0</td>\n",
       "      <td>0.513386</td>\n",
       "      <td>0.0</td>\n",
       "      <td>0.0</td>\n",
       "      <td>3.801480</td>\n",
       "      <td>0.0</td>\n",
       "    </tr>\n",
       "    <tr>\n",
       "      <th>996</th>\n",
       "      <td>3.917357</td>\n",
       "      <td>4.863672</td>\n",
       "      <td>0.0</td>\n",
       "      <td>0.421082</td>\n",
       "      <td>0.0</td>\n",
       "      <td>0.0</td>\n",
       "      <td>3.844047</td>\n",
       "      <td>0.0</td>\n",
       "    </tr>\n",
       "    <tr>\n",
       "      <th>997</th>\n",
       "      <td>3.966837</td>\n",
       "      <td>4.767782</td>\n",
       "      <td>0.0</td>\n",
       "      <td>0.257325</td>\n",
       "      <td>0.0</td>\n",
       "      <td>0.0</td>\n",
       "      <td>3.651412</td>\n",
       "      <td>0.0</td>\n",
       "    </tr>\n",
       "    <tr>\n",
       "      <th>998</th>\n",
       "      <td>3.950704</td>\n",
       "      <td>4.738622</td>\n",
       "      <td>0.0</td>\n",
       "      <td>0.225713</td>\n",
       "      <td>0.0</td>\n",
       "      <td>0.0</td>\n",
       "      <td>3.633248</td>\n",
       "      <td>0.0</td>\n",
       "    </tr>\n",
       "    <tr>\n",
       "      <th>999</th>\n",
       "      <td>3.932509</td>\n",
       "      <td>4.709487</td>\n",
       "      <td>0.0</td>\n",
       "      <td>0.197932</td>\n",
       "      <td>0.0</td>\n",
       "      <td>0.0</td>\n",
       "      <td>3.616682</td>\n",
       "      <td>0.0</td>\n",
       "    </tr>\n",
       "    <tr>\n",
       "      <th>1000</th>\n",
       "      <td>3.949082</td>\n",
       "      <td>4.677701</td>\n",
       "      <td>0.0</td>\n",
       "      <td>0.162481</td>\n",
       "      <td>0.0</td>\n",
       "      <td>0.0</td>\n",
       "      <td>3.544517</td>\n",
       "      <td>0.0</td>\n",
       "    </tr>\n",
       "    <tr>\n",
       "      <th>1001</th>\n",
       "      <td>3.990679</td>\n",
       "      <td>4.845674</td>\n",
       "      <td>0.0</td>\n",
       "      <td>0.300364</td>\n",
       "      <td>0.0</td>\n",
       "      <td>0.0</td>\n",
       "      <td>3.747370</td>\n",
       "      <td>0.0</td>\n",
       "    </tr>\n",
       "    <tr>\n",
       "      <th>1002</th>\n",
       "      <td>4.033797</td>\n",
       "      <td>4.836694</td>\n",
       "      <td>0.0</td>\n",
       "      <td>0.255986</td>\n",
       "      <td>0.0</td>\n",
       "      <td>0.0</td>\n",
       "      <td>3.682264</td>\n",
       "      <td>0.0</td>\n",
       "    </tr>\n",
       "    <tr>\n",
       "      <th>1003</th>\n",
       "      <td>4.036376</td>\n",
       "      <td>4.971557</td>\n",
       "      <td>0.0</td>\n",
       "      <td>0.380093</td>\n",
       "      <td>0.0</td>\n",
       "      <td>0.0</td>\n",
       "      <td>3.887035</td>\n",
       "      <td>0.0</td>\n",
       "    </tr>\n",
       "    <tr>\n",
       "      <th>1004</th>\n",
       "      <td>4.065195</td>\n",
       "      <td>4.927209</td>\n",
       "      <td>0.0</td>\n",
       "      <td>0.297812</td>\n",
       "      <td>0.0</td>\n",
       "      <td>0.0</td>\n",
       "      <td>3.791567</td>\n",
       "      <td>0.0</td>\n",
       "    </tr>\n",
       "    <tr>\n",
       "      <th>1005</th>\n",
       "      <td>4.060304</td>\n",
       "      <td>4.950714</td>\n",
       "      <td>0.0</td>\n",
       "      <td>0.311898</td>\n",
       "      <td>0.0</td>\n",
       "      <td>0.0</td>\n",
       "      <td>3.838730</td>\n",
       "      <td>0.0</td>\n",
       "    </tr>\n",
       "    <tr>\n",
       "      <th>1006</th>\n",
       "      <td>4.146813</td>\n",
       "      <td>4.865683</td>\n",
       "      <td>0.0</td>\n",
       "      <td>0.188622</td>\n",
       "      <td>0.0</td>\n",
       "      <td>0.0</td>\n",
       "      <td>3.592661</td>\n",
       "      <td>0.0</td>\n",
       "    </tr>\n",
       "    <tr>\n",
       "      <th>1007</th>\n",
       "      <td>4.127492</td>\n",
       "      <td>4.855024</td>\n",
       "      <td>0.0</td>\n",
       "      <td>0.186556</td>\n",
       "      <td>0.0</td>\n",
       "      <td>0.0</td>\n",
       "      <td>3.602710</td>\n",
       "      <td>0.0</td>\n",
       "    </tr>\n",
       "    <tr>\n",
       "      <th>1008</th>\n",
       "      <td>4.158467</td>\n",
       "      <td>4.892203</td>\n",
       "      <td>0.0</td>\n",
       "      <td>0.210308</td>\n",
       "      <td>0.0</td>\n",
       "      <td>0.0</td>\n",
       "      <td>3.616862</td>\n",
       "      <td>0.0</td>\n",
       "    </tr>\n",
       "    <tr>\n",
       "      <th>1009</th>\n",
       "      <td>4.182454</td>\n",
       "      <td>4.881564</td>\n",
       "      <td>0.0</td>\n",
       "      <td>0.197018</td>\n",
       "      <td>0.0</td>\n",
       "      <td>0.0</td>\n",
       "      <td>3.564822</td>\n",
       "      <td>0.0</td>\n",
       "    </tr>\n",
       "    <tr>\n",
       "      <th>1010</th>\n",
       "      <td>4.169367</td>\n",
       "      <td>5.008451</td>\n",
       "      <td>0.0</td>\n",
       "      <td>0.344599</td>\n",
       "      <td>0.0</td>\n",
       "      <td>0.0</td>\n",
       "      <td>3.768292</td>\n",
       "      <td>0.0</td>\n",
       "    </tr>\n",
       "    <tr>\n",
       "      <th>1011</th>\n",
       "      <td>4.186594</td>\n",
       "      <td>5.079067</td>\n",
       "      <td>0.0</td>\n",
       "      <td>0.416428</td>\n",
       "      <td>0.0</td>\n",
       "      <td>0.0</td>\n",
       "      <td>3.848053</td>\n",
       "      <td>0.0</td>\n",
       "    </tr>\n",
       "    <tr>\n",
       "      <th>1012</th>\n",
       "      <td>4.210472</td>\n",
       "      <td>5.097899</td>\n",
       "      <td>0.0</td>\n",
       "      <td>0.403229</td>\n",
       "      <td>0.0</td>\n",
       "      <td>0.0</td>\n",
       "      <td>3.853344</td>\n",
       "      <td>0.0</td>\n",
       "    </tr>\n",
       "    <tr>\n",
       "      <th>1013</th>\n",
       "      <td>4.237052</td>\n",
       "      <td>5.027107</td>\n",
       "      <td>0.0</td>\n",
       "      <td>0.309298</td>\n",
       "      <td>0.0</td>\n",
       "      <td>0.0</td>\n",
       "      <td>3.714988</td>\n",
       "      <td>0.0</td>\n",
       "    </tr>\n",
       "    <tr>\n",
       "      <th>1014</th>\n",
       "      <td>4.234227</td>\n",
       "      <td>5.164953</td>\n",
       "      <td>0.0</td>\n",
       "      <td>0.437656</td>\n",
       "      <td>0.0</td>\n",
       "      <td>0.0</td>\n",
       "      <td>3.932081</td>\n",
       "      <td>0.0</td>\n",
       "    </tr>\n",
       "    <tr>\n",
       "      <th>1015</th>\n",
       "      <td>4.250554</td>\n",
       "      <td>5.190113</td>\n",
       "      <td>0.0</td>\n",
       "      <td>0.419715</td>\n",
       "      <td>0.0</td>\n",
       "      <td>0.0</td>\n",
       "      <td>3.963347</td>\n",
       "      <td>0.0</td>\n",
       "    </tr>\n",
       "    <tr>\n",
       "      <th>1016</th>\n",
       "      <td>4.276151</td>\n",
       "      <td>5.229457</td>\n",
       "      <td>0.0</td>\n",
       "      <td>0.365019</td>\n",
       "      <td>0.0</td>\n",
       "      <td>0.0</td>\n",
       "      <td>4.023520</td>\n",
       "      <td>0.0</td>\n",
       "    </tr>\n",
       "    <tr>\n",
       "      <th>1017</th>\n",
       "      <td>4.358689</td>\n",
       "      <td>5.335567</td>\n",
       "      <td>0.0</td>\n",
       "      <td>0.365313</td>\n",
       "      <td>0.0</td>\n",
       "      <td>0.0</td>\n",
       "      <td>4.101802</td>\n",
       "      <td>0.0</td>\n",
       "    </tr>\n",
       "    <tr>\n",
       "      <th>1018</th>\n",
       "      <td>4.433993</td>\n",
       "      <td>5.078612</td>\n",
       "      <td>0.0</td>\n",
       "      <td>0.079414</td>\n",
       "      <td>0.0</td>\n",
       "      <td>0.0</td>\n",
       "      <td>3.608810</td>\n",
       "      <td>0.0</td>\n",
       "    </tr>\n",
       "    <tr>\n",
       "      <th>1019</th>\n",
       "      <td>4.423742</td>\n",
       "      <td>5.105363</td>\n",
       "      <td>0.0</td>\n",
       "      <td>0.105116</td>\n",
       "      <td>0.0</td>\n",
       "      <td>0.0</td>\n",
       "      <td>3.665595</td>\n",
       "      <td>0.0</td>\n",
       "    </tr>\n",
       "  </tbody>\n",
       "</table>\n",
       "<p>1020 rows × 8 columns</p>\n",
       "</div>"
      ],
      "text/plain": [
       "             0         1    2         3    4    5         6    7\n",
       "0     1.584041  1.441197  0.0  0.310625  0.0  0.0  0.848771  0.0\n",
       "1     1.572980  1.462330  0.0  0.353695  0.0  0.0  0.893752  0.0\n",
       "2     1.566889  1.420596  0.0  0.302216  0.0  0.0  0.833330  0.0\n",
       "3     1.555019  1.410912  0.0  0.315766  0.0  0.0  0.811265  0.0\n",
       "4     1.547379  1.415995  0.0  0.345240  0.0  0.0  0.843641  0.0\n",
       "5     1.496791  1.736927  0.0  0.747225  0.0  0.0  1.321168  0.0\n",
       "6     1.504787  1.727638  0.0  0.723081  0.0  0.0  1.315192  0.0\n",
       "7     1.444277  1.989735  0.0  1.046133  0.0  0.0  1.721315  0.0\n",
       "8     1.446466  1.927482  0.0  0.966422  0.0  0.0  1.659344  0.0\n",
       "9     1.419958  2.020334  0.0  1.074264  0.0  0.0  1.827060  0.0\n",
       "10    1.401588  2.049271  0.0  1.096515  0.0  0.0  1.923656  0.0\n",
       "11    1.380389  2.103017  0.0  1.146413  0.0  0.0  2.056929  0.0\n",
       "12    1.376881  2.087362  0.0  1.108886  0.0  0.0  2.081991  0.0\n",
       "13    1.369487  2.086043  0.0  1.081100  0.0  0.0  2.108126  0.0\n",
       "14    1.369227  2.060988  0.0  1.026532  0.0  0.0  2.083204  0.0\n",
       "15    1.368483  2.037480  0.0  0.981556  0.0  0.0  2.057936  0.0\n",
       "16    1.379402  1.929861  0.0  0.830698  0.0  0.0  1.896611  0.0\n",
       "17    1.377501  1.883161  0.0  0.777947  0.0  0.0  1.831438  0.0\n",
       "18    1.380086  1.873710  0.0  0.759480  0.0  0.0  1.816987  0.0\n",
       "19    1.380519  1.878583  0.0  0.758136  0.0  0.0  1.826351  0.0\n",
       "20    1.381694  1.908803  0.0  0.786614  0.0  0.0  1.871028  0.0\n",
       "21    1.383283  1.885514  0.0  0.751140  0.0  0.0  1.838519  0.0\n",
       "22    1.374557  1.959732  0.0  0.847964  0.0  0.0  1.954703  0.0\n",
       "23    1.387328  1.841076  0.0  0.675227  0.0  0.0  1.778442  0.0\n",
       "24    1.425678  1.469545  0.0  0.157787  0.0  0.0  1.219062  0.0\n",
       "25    1.427350  1.487990  0.0  0.192974  0.0  0.0  1.237250  0.0\n",
       "26    1.440419  1.438859  0.0  0.126085  0.0  0.0  1.150263  0.0\n",
       "27    1.429045  1.608251  0.0  0.377010  0.0  0.0  1.389446  0.0\n",
       "28    1.472187  1.371857  0.0  0.064289  0.0  0.0  0.997516  0.0\n",
       "29    1.477905  1.375300  0.0  0.082090  0.0  0.0  0.987759  0.0\n",
       "...        ...       ...  ...       ...  ...  ...       ...  ...\n",
       "990   3.906293  4.575688  0.0  0.535111  0.0  0.0  3.253474  0.0\n",
       "991   3.893741  4.633550  0.0  0.561377  0.0  0.0  3.373960  0.0\n",
       "992   3.910969  4.765405  0.0  0.641077  0.0  0.0  3.569223  0.0\n",
       "993   3.921903  4.767962  0.0  0.564084  0.0  0.0  3.590175  0.0\n",
       "994   3.913364  4.837822  0.0  0.579074  0.0  0.0  3.732565  0.0\n",
       "995   3.911105  4.857074  0.0  0.513386  0.0  0.0  3.801480  0.0\n",
       "996   3.917357  4.863672  0.0  0.421082  0.0  0.0  3.844047  0.0\n",
       "997   3.966837  4.767782  0.0  0.257325  0.0  0.0  3.651412  0.0\n",
       "998   3.950704  4.738622  0.0  0.225713  0.0  0.0  3.633248  0.0\n",
       "999   3.932509  4.709487  0.0  0.197932  0.0  0.0  3.616682  0.0\n",
       "1000  3.949082  4.677701  0.0  0.162481  0.0  0.0  3.544517  0.0\n",
       "1001  3.990679  4.845674  0.0  0.300364  0.0  0.0  3.747370  0.0\n",
       "1002  4.033797  4.836694  0.0  0.255986  0.0  0.0  3.682264  0.0\n",
       "1003  4.036376  4.971557  0.0  0.380093  0.0  0.0  3.887035  0.0\n",
       "1004  4.065195  4.927209  0.0  0.297812  0.0  0.0  3.791567  0.0\n",
       "1005  4.060304  4.950714  0.0  0.311898  0.0  0.0  3.838730  0.0\n",
       "1006  4.146813  4.865683  0.0  0.188622  0.0  0.0  3.592661  0.0\n",
       "1007  4.127492  4.855024  0.0  0.186556  0.0  0.0  3.602710  0.0\n",
       "1008  4.158467  4.892203  0.0  0.210308  0.0  0.0  3.616862  0.0\n",
       "1009  4.182454  4.881564  0.0  0.197018  0.0  0.0  3.564822  0.0\n",
       "1010  4.169367  5.008451  0.0  0.344599  0.0  0.0  3.768292  0.0\n",
       "1011  4.186594  5.079067  0.0  0.416428  0.0  0.0  3.848053  0.0\n",
       "1012  4.210472  5.097899  0.0  0.403229  0.0  0.0  3.853344  0.0\n",
       "1013  4.237052  5.027107  0.0  0.309298  0.0  0.0  3.714988  0.0\n",
       "1014  4.234227  5.164953  0.0  0.437656  0.0  0.0  3.932081  0.0\n",
       "1015  4.250554  5.190113  0.0  0.419715  0.0  0.0  3.963347  0.0\n",
       "1016  4.276151  5.229457  0.0  0.365019  0.0  0.0  4.023520  0.0\n",
       "1017  4.358689  5.335567  0.0  0.365313  0.0  0.0  4.101802  0.0\n",
       "1018  4.433993  5.078612  0.0  0.079414  0.0  0.0  3.608810  0.0\n",
       "1019  4.423742  5.105363  0.0  0.105116  0.0  0.0  3.665595  0.0\n",
       "\n",
       "[1020 rows x 8 columns]"
      ]
     },
     "execution_count": 312,
     "metadata": {},
     "output_type": "execute_result"
    }
   ],
   "source": [
    "pd.DataFrame(X_test[:,0,:])"
   ]
  },
  {
   "cell_type": "code",
   "execution_count": null,
   "metadata": {},
   "outputs": [],
   "source": []
  }
 ],
 "metadata": {
  "kernelspec": {
   "display_name": "Python 3",
   "language": "python",
   "name": "python3"
  },
  "language_info": {
   "codemirror_mode": {
    "name": "ipython",
    "version": 3
   },
   "file_extension": ".py",
   "mimetype": "text/x-python",
   "name": "python",
   "nbconvert_exporter": "python",
   "pygments_lexer": "ipython3",
   "version": "3.7.3"
  }
 },
 "nbformat": 4,
 "nbformat_minor": 2
}
