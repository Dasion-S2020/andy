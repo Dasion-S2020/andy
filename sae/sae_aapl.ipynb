{
 "cells": [
  {
   "cell_type": "code",
   "execution_count": 57,
   "metadata": {},
   "outputs": [
    {
     "ename": "ModuleNotFoundError",
     "evalue": "No module named 'np'",
     "output_type": "error",
     "traceback": [
      "\u001b[0;31m---------------------------------------------------------------------------\u001b[0m",
      "\u001b[0;31mModuleNotFoundError\u001b[0m                       Traceback (most recent call last)",
      "\u001b[0;32m<ipython-input-57-9c39878d08c0>\u001b[0m in \u001b[0;36m<module>\u001b[0;34m\u001b[0m\n\u001b[1;32m      4\u001b[0m \u001b[0;32mimport\u001b[0m \u001b[0mpywt\u001b[0m\u001b[0;34m\u001b[0m\u001b[0;34m\u001b[0m\u001b[0m\n\u001b[1;32m      5\u001b[0m \u001b[0;32mimport\u001b[0m \u001b[0mnumpy\u001b[0m \u001b[0;32mas\u001b[0m \u001b[0mnp\u001b[0m\u001b[0;34m\u001b[0m\u001b[0;34m\u001b[0m\u001b[0m\n\u001b[0;32m----> 6\u001b[0;31m \u001b[0;32mfrom\u001b[0m \u001b[0mnp\u001b[0m \u001b[0;32mimport\u001b[0m \u001b[0mcheckarrays\u001b[0m\u001b[0;34m\u001b[0m\u001b[0;34m\u001b[0m\u001b[0m\n\u001b[0m\u001b[1;32m      7\u001b[0m \u001b[0;32mimport\u001b[0m \u001b[0mpandas\u001b[0m \u001b[0;32mas\u001b[0m \u001b[0mpd\u001b[0m\u001b[0;34m\u001b[0m\u001b[0;34m\u001b[0m\u001b[0m\n\u001b[1;32m      8\u001b[0m \u001b[0;32mimport\u001b[0m \u001b[0mmatplotlib\u001b[0m\u001b[0;34m.\u001b[0m\u001b[0mpyplot\u001b[0m \u001b[0;32mas\u001b[0m \u001b[0mplt\u001b[0m\u001b[0;34m\u001b[0m\u001b[0;34m\u001b[0m\u001b[0m\n",
      "\u001b[0;31mModuleNotFoundError\u001b[0m: No module named 'np'"
     ]
    }
   ],
   "source": [
    "#First we import the necessary libraries.\n",
    "#pywt is a wavelet transformation library which I found is easier to apply than manually coding functions up.\n",
    "from __future__ import print_function\n",
    "import pywt\n",
    "import numpy as np\n",
    "import pandas as pd\n",
    "import matplotlib.pyplot as plt\n",
    "%matplotlib inline"
   ]
  },
  {
   "cell_type": "code",
   "execution_count": 2,
   "metadata": {},
   "outputs": [
    {
     "data": {
      "text/html": [
       "<div>\n",
       "<style scoped>\n",
       "    .dataframe tbody tr th:only-of-type {\n",
       "        vertical-align: middle;\n",
       "    }\n",
       "\n",
       "    .dataframe tbody tr th {\n",
       "        vertical-align: top;\n",
       "    }\n",
       "\n",
       "    .dataframe thead th {\n",
       "        text-align: right;\n",
       "    }\n",
       "</style>\n",
       "<table border=\"1\" class=\"dataframe\">\n",
       "  <thead>\n",
       "    <tr style=\"text-align: right;\">\n",
       "      <th></th>\n",
       "      <th>date</th>\n",
       "      <th>open</th>\n",
       "      <th>close</th>\n",
       "      <th>low</th>\n",
       "      <th>high</th>\n",
       "      <th>volume</th>\n",
       "      <th>bb_bbm</th>\n",
       "      <th>bb_bbh</th>\n",
       "      <th>bb_bbl</th>\n",
       "      <th>atr</th>\n",
       "      <th>macd</th>\n",
       "      <th>cci</th>\n",
       "      <th>ema</th>\n",
       "      <th>sma12</th>\n",
       "      <th>sma5</th>\n",
       "      <th>stochastic_oscillator</th>\n",
       "    </tr>\n",
       "  </thead>\n",
       "  <tbody>\n",
       "    <tr>\n",
       "      <th>0</th>\n",
       "      <td>2/8/00</td>\n",
       "      <td>4.0714</td>\n",
       "      <td>4.1027</td>\n",
       "      <td>3.9755</td>\n",
       "      <td>4.1451</td>\n",
       "      <td>0</td>\n",
       "      <td>3.742555</td>\n",
       "      <td>4.258224</td>\n",
       "      <td>3.226886</td>\n",
       "      <td>0.258809</td>\n",
       "      <td>0.028209</td>\n",
       "      <td>108.782044</td>\n",
       "      <td>3.824942</td>\n",
       "      <td>3.819608</td>\n",
       "      <td>3.85050</td>\n",
       "      <td>75.940406</td>\n",
       "    </tr>\n",
       "    <tr>\n",
       "      <th>1</th>\n",
       "      <td>2/9/00</td>\n",
       "      <td>4.0804</td>\n",
       "      <td>4.0224</td>\n",
       "      <td>4.0179</td>\n",
       "      <td>4.1786</td>\n",
       "      <td>0</td>\n",
       "      <td>3.778050</td>\n",
       "      <td>4.267487</td>\n",
       "      <td>3.288613</td>\n",
       "      <td>0.251801</td>\n",
       "      <td>0.041007</td>\n",
       "      <td>99.551288</td>\n",
       "      <td>3.851270</td>\n",
       "      <td>3.838583</td>\n",
       "      <td>3.94916</td>\n",
       "      <td>80.342311</td>\n",
       "    </tr>\n",
       "    <tr>\n",
       "      <th>2</th>\n",
       "      <td>2/10/00</td>\n",
       "      <td>4.0224</td>\n",
       "      <td>4.0536</td>\n",
       "      <td>3.9130</td>\n",
       "      <td>4.0670</td>\n",
       "      <td>0</td>\n",
       "      <td>3.825040</td>\n",
       "      <td>4.222099</td>\n",
       "      <td>3.427981</td>\n",
       "      <td>0.244815</td>\n",
       "      <td>0.053055</td>\n",
       "      <td>72.677158</td>\n",
       "      <td>3.878247</td>\n",
       "      <td>3.842308</td>\n",
       "      <td>4.02192</td>\n",
       "      <td>84.268815</td>\n",
       "    </tr>\n",
       "    <tr>\n",
       "      <th>3</th>\n",
       "      <td>2/11/00</td>\n",
       "      <td>4.0581</td>\n",
       "      <td>3.8840</td>\n",
       "      <td>3.8706</td>\n",
       "      <td>4.0759</td>\n",
       "      <td>0</td>\n",
       "      <td>3.846470</td>\n",
       "      <td>4.205897</td>\n",
       "      <td>3.487043</td>\n",
       "      <td>0.241993</td>\n",
       "      <td>0.048361</td>\n",
       "      <td>40.605138</td>\n",
       "      <td>3.879014</td>\n",
       "      <td>3.838033</td>\n",
       "      <td>4.02728</td>\n",
       "      <td>62.924742</td>\n",
       "    </tr>\n",
       "    <tr>\n",
       "      <th>4</th>\n",
       "      <td>2/14/00</td>\n",
       "      <td>3.9018</td>\n",
       "      <td>4.1362</td>\n",
       "      <td>3.8840</td>\n",
       "      <td>4.1384</td>\n",
       "      <td>0</td>\n",
       "      <td>3.873925</td>\n",
       "      <td>4.233795</td>\n",
       "      <td>3.514055</td>\n",
       "      <td>0.242879</td>\n",
       "      <td>0.064250</td>\n",
       "      <td>80.649750</td>\n",
       "      <td>3.913306</td>\n",
       "      <td>3.855333</td>\n",
       "      <td>4.03978</td>\n",
       "      <td>94.663982</td>\n",
       "    </tr>\n",
       "  </tbody>\n",
       "</table>\n",
       "</div>"
      ],
      "text/plain": [
       "      date    open   close     low    high  volume    bb_bbm    bb_bbh  \\\n",
       "0   2/8/00  4.0714  4.1027  3.9755  4.1451       0  3.742555  4.258224   \n",
       "1   2/9/00  4.0804  4.0224  4.0179  4.1786       0  3.778050  4.267487   \n",
       "2  2/10/00  4.0224  4.0536  3.9130  4.0670       0  3.825040  4.222099   \n",
       "3  2/11/00  4.0581  3.8840  3.8706  4.0759       0  3.846470  4.205897   \n",
       "4  2/14/00  3.9018  4.1362  3.8840  4.1384       0  3.873925  4.233795   \n",
       "\n",
       "     bb_bbl       atr      macd         cci       ema     sma12     sma5  \\\n",
       "0  3.226886  0.258809  0.028209  108.782044  3.824942  3.819608  3.85050   \n",
       "1  3.288613  0.251801  0.041007   99.551288  3.851270  3.838583  3.94916   \n",
       "2  3.427981  0.244815  0.053055   72.677158  3.878247  3.842308  4.02192   \n",
       "3  3.487043  0.241993  0.048361   40.605138  3.879014  3.838033  4.02728   \n",
       "4  3.514055  0.242879  0.064250   80.649750  3.913306  3.855333  4.03978   \n",
       "\n",
       "   stochastic_oscillator  \n",
       "0              75.940406  \n",
       "1              80.342311  \n",
       "2              84.268815  \n",
       "3              62.924742  \n",
       "4              94.663982  "
      ]
     },
     "execution_count": 2,
     "metadata": {},
     "output_type": "execute_result"
    }
   ],
   "source": [
    "df1 = pd.read_csv('/Users/andyliu/develop/andy/aapl_indicators_nosplit.csv')\n",
    "df2 = df1.iloc[:,1:]\n",
    "df3 = df2.drop(labels=['roc', 'mtm6', 'mtm12'], axis=1)\n",
    "df1 = df3\n",
    "df1.head()"
   ]
  },
  {
   "cell_type": "code",
   "execution_count": 3,
   "metadata": {},
   "outputs": [],
   "source": [
    "df1[list(df1.columns)] = df1[list(df1.columns)].apply(pd.to_numeric, errors='ignore')"
   ]
  },
  {
   "cell_type": "code",
   "execution_count": 4,
   "metadata": {},
   "outputs": [
    {
     "data": {
      "text/plain": [
       "date                      object\n",
       "open                     float64\n",
       "close                    float64\n",
       "low                      float64\n",
       "high                     float64\n",
       "volume                     int64\n",
       "bb_bbm                   float64\n",
       "bb_bbh                   float64\n",
       "bb_bbl                   float64\n",
       "atr                      float64\n",
       "macd                     float64\n",
       "cci                      float64\n",
       "ema                      float64\n",
       "sma12                    float64\n",
       "sma5                     float64\n",
       "stochastic_oscillator    float64\n",
       "dtype: object"
      ]
     },
     "execution_count": 4,
     "metadata": {},
     "output_type": "execute_result"
    }
   ],
   "source": [
    "df1.dtypes"
   ]
  },
  {
   "cell_type": "code",
   "execution_count": 5,
   "metadata": {},
   "outputs": [],
   "source": [
    "df3 = df1[['open', 'high', 'low', 'close']]"
   ]
  },
  {
   "cell_type": "code",
   "execution_count": 6,
   "metadata": {},
   "outputs": [],
   "source": [
    "a = df3.close.values"
   ]
  },
  {
   "cell_type": "code",
   "execution_count": 7,
   "metadata": {},
   "outputs": [],
   "source": [
    "b = df3.values"
   ]
  },
  {
   "cell_type": "code",
   "execution_count": 8,
   "metadata": {},
   "outputs": [],
   "source": [
    "coeffs= pywt.wavedec2(b, 'haar', mode='symmetric',level=2)\n",
    "coeffs[-1] = tuple([np.zeros_like(v) for v in coeffs[-1]])\n",
    "c=pywt.waverec2(coeffs,'haar')\n",
    "coeffs1=pywt.wavedec2(c,'haar', mode='symmetric', level=2)\n",
    "coeffs1[-1] = tuple([np.zeros_like(v) for v in coeffs1[-1]])\n",
    "d=pywt.waverec2(coeffs1, 'haar')\n",
    "df2=pd.DataFrame({'open':d[:,0],'high':d[:,1],'low':d[:,2],'close':d[:,3]})\n",
    "e=df2.close.values"
   ]
  },
  {
   "cell_type": "code",
   "execution_count": 9,
   "metadata": {},
   "outputs": [
    {
     "data": {
      "text/plain": [
       "[<matplotlib.lines.Line2D at 0x11d5b07b8>]"
      ]
     },
     "execution_count": 9,
     "metadata": {},
     "output_type": "execute_result"
    },
    {
     "data": {
      "image/png": "[encoded data removed]",
      "text/plain": [
       "<Figure size 432x288 with 1 Axes>"
      ]
     },
     "metadata": {
      "needs_background": "light"
     },
     "output_type": "display_data"
    }
   ],
   "source": [
    "plt.plot(a, color='r')\n",
    "plt.plot(e, color='b')"
   ]
  },
  {
   "cell_type": "code",
   "execution_count": 10,
   "metadata": {},
   "outputs": [],
   "source": [
    "df2=df2.drop(df2.index[-1])\n",
    "df1[['open','high','low','close']]=df2[['open','high','low','close']]"
   ]
  },
  {
   "cell_type": "code",
   "execution_count": 11,
   "metadata": {},
   "outputs": [],
   "source": [
    "df1=df1.interpolate(method='akima')\n",
    "df1.replace(np.inf, np.nan)\n",
    "df1=df1.dropna(subset=['open', 'high', 'low', 'close'])"
   ]
  },
  {
   "cell_type": "code",
   "execution_count": 12,
   "metadata": {},
   "outputs": [
    {
     "name": "stdout",
     "output_type": "stream",
     "text": [
      "<class 'pandas.core.frame.DataFrame'>\n",
      "Int64Index: 5089 entries, 0 to 5088\n",
      "Data columns (total 15 columns):\n",
      "open                     5089 non-null float64\n",
      "close                    5089 non-null float64\n",
      "low                      5089 non-null float64\n",
      "high                     5089 non-null float64\n",
      "volume                   5089 non-null int64\n",
      "bb_bbm                   5089 non-null float64\n",
      "bb_bbh                   5089 non-null float64\n",
      "bb_bbl                   5089 non-null float64\n",
      "atr                      5089 non-null float64\n",
      "macd                     5089 non-null float64\n",
      "cci                      5089 non-null float64\n",
      "ema                      5089 non-null float64\n",
      "sma12                    5089 non-null float64\n",
      "sma5                     5089 non-null float64\n",
      "stochastic_oscillator    5089 non-null float64\n",
      "dtypes: float64(14), int64(1)\n",
      "memory usage: 636.1 KB\n"
     ]
    }
   ],
   "source": [
    "from sklearn import preprocessing\n",
    "data=df1.drop(['date'],axis=1)\n",
    "data.info()"
   ]
  },
  {
   "cell_type": "code",
   "execution_count": 15,
   "metadata": {},
   "outputs": [
    {
     "data": {
      "text/html": [
       "<div>\n",
       "<style scoped>\n",
       "    .dataframe tbody tr th:only-of-type {\n",
       "        vertical-align: middle;\n",
       "    }\n",
       "\n",
       "    .dataframe tbody tr th {\n",
       "        vertical-align: top;\n",
       "    }\n",
       "\n",
       "    .dataframe thead th {\n",
       "        text-align: right;\n",
       "    }\n",
       "</style>\n",
       "<table border=\"1\" class=\"dataframe\">\n",
       "  <thead>\n",
       "    <tr style=\"text-align: right;\">\n",
       "      <th></th>\n",
       "      <th>0</th>\n",
       "      <th>1</th>\n",
       "      <th>2</th>\n",
       "      <th>3</th>\n",
       "      <th>4</th>\n",
       "      <th>5</th>\n",
       "      <th>6</th>\n",
       "      <th>7</th>\n",
       "      <th>8</th>\n",
       "      <th>9</th>\n",
       "      <th>10</th>\n",
       "      <th>11</th>\n",
       "      <th>12</th>\n",
       "      <th>13</th>\n",
       "      <th>14</th>\n",
       "    </tr>\n",
       "  </thead>\n",
       "  <tbody>\n",
       "    <tr>\n",
       "      <th>0</th>\n",
       "      <td>0.009142</td>\n",
       "      <td>0.009037</td>\n",
       "      <td>0.009037</td>\n",
       "      <td>0.009142</td>\n",
       "      <td>0.0</td>\n",
       "      <td>0.008553</td>\n",
       "      <td>0.009298</td>\n",
       "      <td>0.117095</td>\n",
       "      <td>0.001709</td>\n",
       "      <td>0.645339</td>\n",
       "      <td>0.659667</td>\n",
       "      <td>0.008690</td>\n",
       "      <td>0.008720</td>\n",
       "      <td>0.008569</td>\n",
       "      <td>0.759404</td>\n",
       "    </tr>\n",
       "    <tr>\n",
       "      <th>1</th>\n",
       "      <td>0.009142</td>\n",
       "      <td>0.009037</td>\n",
       "      <td>0.009037</td>\n",
       "      <td>0.009142</td>\n",
       "      <td>0.0</td>\n",
       "      <td>0.008664</td>\n",
       "      <td>0.009325</td>\n",
       "      <td>0.117273</td>\n",
       "      <td>0.001657</td>\n",
       "      <td>0.645721</td>\n",
       "      <td>0.648609</td>\n",
       "      <td>0.008770</td>\n",
       "      <td>0.008778</td>\n",
       "      <td>0.008861</td>\n",
       "      <td>0.803423</td>\n",
       "    </tr>\n",
       "    <tr>\n",
       "      <th>2</th>\n",
       "      <td>0.008961</td>\n",
       "      <td>0.008748</td>\n",
       "      <td>0.008748</td>\n",
       "      <td>0.008961</td>\n",
       "      <td>0.0</td>\n",
       "      <td>0.008809</td>\n",
       "      <td>0.009193</td>\n",
       "      <td>0.117676</td>\n",
       "      <td>0.001605</td>\n",
       "      <td>0.646080</td>\n",
       "      <td>0.616412</td>\n",
       "      <td>0.008852</td>\n",
       "      <td>0.008789</td>\n",
       "      <td>0.009076</td>\n",
       "      <td>0.842688</td>\n",
       "    </tr>\n",
       "    <tr>\n",
       "      <th>3</th>\n",
       "      <td>0.008961</td>\n",
       "      <td>0.008748</td>\n",
       "      <td>0.008748</td>\n",
       "      <td>0.008961</td>\n",
       "      <td>0.0</td>\n",
       "      <td>0.008876</td>\n",
       "      <td>0.009146</td>\n",
       "      <td>0.117846</td>\n",
       "      <td>0.001584</td>\n",
       "      <td>0.645940</td>\n",
       "      <td>0.577988</td>\n",
       "      <td>0.008854</td>\n",
       "      <td>0.008776</td>\n",
       "      <td>0.009091</td>\n",
       "      <td>0.629247</td>\n",
       "    </tr>\n",
       "    <tr>\n",
       "      <th>4</th>\n",
       "      <td>0.009125</td>\n",
       "      <td>0.009233</td>\n",
       "      <td>0.009233</td>\n",
       "      <td>0.009125</td>\n",
       "      <td>0.0</td>\n",
       "      <td>0.008961</td>\n",
       "      <td>0.009227</td>\n",
       "      <td>0.117924</td>\n",
       "      <td>0.001590</td>\n",
       "      <td>0.646414</td>\n",
       "      <td>0.625964</td>\n",
       "      <td>0.008959</td>\n",
       "      <td>0.008829</td>\n",
       "      <td>0.009128</td>\n",
       "      <td>0.946640</td>\n",
       "    </tr>\n",
       "  </tbody>\n",
       "</table>\n",
       "</div>"
      ],
      "text/plain": [
       "         0         1         2         3    4         5         6         7   \\\n",
       "0  0.009142  0.009037  0.009037  0.009142  0.0  0.008553  0.009298  0.117095   \n",
       "1  0.009142  0.009037  0.009037  0.009142  0.0  0.008664  0.009325  0.117273   \n",
       "2  0.008961  0.008748  0.008748  0.008961  0.0  0.008809  0.009193  0.117676   \n",
       "3  0.008961  0.008748  0.008748  0.008961  0.0  0.008876  0.009146  0.117846   \n",
       "4  0.009125  0.009233  0.009233  0.009125  0.0  0.008961  0.009227  0.117924   \n",
       "\n",
       "         8         9         10        11        12        13        14  \n",
       "0  0.001709  0.645339  0.659667  0.008690  0.008720  0.008569  0.759404  \n",
       "1  0.001657  0.645721  0.648609  0.008770  0.008778  0.008861  0.803423  \n",
       "2  0.001605  0.646080  0.616412  0.008852  0.008789  0.009076  0.842688  \n",
       "3  0.001584  0.645940  0.577988  0.008854  0.008776  0.009091  0.629247  \n",
       "4  0.001590  0.646414  0.625964  0.008959  0.008829  0.009128  0.946640  "
      ]
     },
     "execution_count": 15,
     "metadata": {},
     "output_type": "execute_result"
    }
   ],
   "source": [
    "scaler= preprocessing.MinMaxScaler()\n",
    "scaled_df1=scaler.fit_transform(data)\n",
    "scaled_df1=pd.DataFrame(scaled_df1)\n",
    "scaled_df1.head()"
   ]
  },
  {
   "cell_type": "code",
   "execution_count": 16,
   "metadata": {},
   "outputs": [],
   "source": [
    "price=scaled_df1[1]"
   ]
  },
  {
   "cell_type": "code",
   "execution_count": 17,
   "metadata": {},
   "outputs": [
    {
     "name": "stdout",
     "output_type": "stream",
     "text": [
      "          t-1       t+1\n",
      "t-1  1.000000  0.999801\n",
      "t+1  0.999801  1.000000\n"
     ]
    }
   ],
   "source": [
    "values=pd.DataFrame(price.values)\n",
    "dataframe=pd.concat([values.shift(1),values], axis=1)\n",
    "dataframe.columns=['t-1','t+1']\n",
    "corr_result=dataframe.corr()\n",
    "print(corr_result)"
   ]
  },
  {
   "cell_type": "code",
   "execution_count": 18,
   "metadata": {},
   "outputs": [
    {
     "data": {
      "image/png": "[encoded data removed]",
      "text/plain": [
       "<Figure size 432x288 with 1 Axes>"
      ]
     },
     "metadata": {
      "needs_background": "light"
     },
     "output_type": "display_data"
    }
   ],
   "source": [
    "pd.plotting.autocorrelation_plot(price)\n",
    "plt.show()"
   ]
  },
  {
   "cell_type": "code",
   "execution_count": 19,
   "metadata": {},
   "outputs": [
    {
     "data": {
      "text/plain": [
       "(5089, 14)"
      ]
     },
     "execution_count": 19,
     "metadata": {},
     "output_type": "execute_result"
    }
   ],
   "source": [
    "df4=scaled_df1.drop([1],axis=1)\n",
    "df4.shape"
   ]
  },
  {
   "cell_type": "code",
   "execution_count": 20,
   "metadata": {},
   "outputs": [
    {
     "name": "stderr",
     "output_type": "stream",
     "text": [
      "Using TensorFlow backend.\n"
     ]
    }
   ],
   "source": [
    "#Importing the keras library to start constructing the LSTM network\n",
    "from keras.models import Model, load_model, Sequential\n",
    "from keras.layers import Input, Dense\n",
    "from keras.callbacks import ModelCheckpoint, TensorBoard\n",
    "from keras import regularizers\n",
    "from keras import backend as K\n",
    "def rmse(y_true, y_pred):\n",
    "    return K.sqrt(K.mean(K.square(y_pred-y_true),axis=-1))"
   ]
  },
  {
   "cell_type": "code",
   "execution_count": 34,
   "metadata": {},
   "outputs": [],
   "source": [
    "import random"
   ]
  },
  {
   "cell_type": "code",
   "execution_count": 40,
   "metadata": {},
   "outputs": [
    {
     "name": "stdout",
     "output_type": "stream",
     "text": [
      "4071\n",
      "1018\n",
      "<class 'list'>\n"
     ]
    }
   ],
   "source": [
    "g = df4.values\n",
    "r = g.shape[0]\n",
    "n_train = r*4//5\n",
    "train_indices = random.sample(range(r), n_train)\n",
    "test_indices = [i for i in list(range(r)) if i not in train_indices]\n",
    "print(len(train_indices))\n",
    "print(len(test_indices))\n",
    "print(type(train_indices))"
   ]
  },
  {
   "cell_type": "code",
   "execution_count": 43,
   "metadata": {},
   "outputs": [],
   "source": [
    "g = df4.values\n",
    "n_train = g.shape[0]*4//5\n",
    "exp_X_train=g[train_indices,:]\n",
    "exp_X_test=g[test_indices,:]\n",
    "h = price.values"
   ]
  },
  {
   "cell_type": "code",
   "execution_count": 44,
   "metadata": {},
   "outputs": [
    {
     "name": "stdout",
     "output_type": "stream",
     "text": [
      "(4071, 14) (1018, 14)\n",
      "(4071,) (1018,)\n"
     ]
    }
   ],
   "source": [
    "exp_y_train=h[train_indices]\n",
    "exp_y_test=h[test_indices]\n",
    "print(exp_X_train.shape, exp_X_test.shape)\n",
    "print(exp_y_train.shape, exp_y_test.shape)"
   ]
  },
  {
   "cell_type": "code",
   "execution_count": 67,
   "metadata": {},
   "outputs": [
    {
     "data": {
      "text/plain": [
       "array([1.28816684e-03, 1.43902141e-03, 4.93621657e-02, ...,\n",
       "       2.32439125e-01, 6.33110027e-01, 5.11520880e-04])"
      ]
     },
     "execution_count": 67,
     "metadata": {},
     "output_type": "execute_result"
    }
   ],
   "source": [
    "exp_y_train"
   ]
  },
  {
   "cell_type": "code",
   "execution_count": 45,
   "metadata": {},
   "outputs": [
    {
     "name": "stdout",
     "output_type": "stream",
     "text": [
      "(4071, 1, 14) (1018, 1, 14) (4071,) (1018,)\n"
     ]
    }
   ],
   "source": [
    "X_train= exp_X_train.reshape((exp_X_train.shape[0],1,exp_X_train.shape[1]))\n",
    "X_test=exp_X_test.reshape((exp_X_test.shape[0],1,exp_X_test.shape[1]))\n",
    "y_train=exp_y_train\n",
    "y_test=exp_y_test\n",
    "print(X_train.shape, X_test.shape, y_train.shape, y_test.shape)"
   ]
  },
  {
   "cell_type": "code",
   "execution_count": 46,
   "metadata": {},
   "outputs": [],
   "source": [
    "from keras.layers.core import Dense, Activation, Dropout\n",
    "from keras.layers.recurrent import LSTM\n",
    "from keras.models import Sequential"
   ]
  },
  {
   "cell_type": "code",
   "execution_count": 47,
   "metadata": {},
   "outputs": [
    {
     "name": "stdout",
     "output_type": "stream",
     "text": [
      "Model: \"sequential_2\"\n",
      "_________________________________________________________________\n",
      "Layer (type)                 Output Shape              Param #   \n",
      "=================================================================\n",
      "lstm_5 (LSTM)                (None, 1, 60)             18000     \n",
      "_________________________________________________________________\n",
      "dropout_4 (Dropout)          (None, 1, 60)             0         \n",
      "_________________________________________________________________\n",
      "lstm_6 (LSTM)                (None, 1, 120)            86880     \n",
      "_________________________________________________________________\n",
      "dropout_5 (Dropout)          (None, 1, 120)            0         \n",
      "_________________________________________________________________\n",
      "lstm_7 (LSTM)                (None, 1, 240)            346560    \n",
      "_________________________________________________________________\n",
      "dropout_6 (Dropout)          (None, 1, 240)            0         \n",
      "_________________________________________________________________\n",
      "lstm_8 (LSTM)                (None, 60)                72240     \n",
      "_________________________________________________________________\n",
      "dense_2 (Dense)              (None, 1)                 61        \n",
      "_________________________________________________________________\n",
      "activation_2 (Activation)    (None, 1)                 0         \n",
      "=================================================================\n",
      "Total params: 523,741\n",
      "Trainable params: 523,741\n",
      "Non-trainable params: 0\n",
      "_________________________________________________________________\n"
     ]
    }
   ],
   "source": [
    "neurons=60\n",
    "dropout=0.20\n",
    "model1 = Sequential()\n",
    "model1.add(LSTM(neurons, return_sequences=True, input_shape=(X_train.shape[1], X_train.shape[2]), activation='sigmoid'))\n",
    "model1.add(Dropout(dropout))\n",
    "model1.add(LSTM(neurons*2, return_sequences=True, activation='sigmoid'))\n",
    "model1.add(Dropout(dropout))\n",
    "model1.add(LSTM(neurons*4, return_sequences=True, activation='sigmoid'))\n",
    "model1.add(Dropout(dropout))\n",
    "model1.add(LSTM(neurons, activation='sigmoid'))\n",
    "model1.add(Dense(units=1))\n",
    "model1.add(Activation('sigmoid'))\n",
    "model1.compile(loss='mse', optimizer='adam')\n",
    "model1.summary()"
   ]
  },
  {
   "cell_type": "code",
   "execution_count": 55,
   "metadata": {},
   "outputs": [
    {
     "name": "stdout",
     "output_type": "stream",
     "text": [
      "Epoch 1/5000\n",
      "4071/4071 [==============================] - 1s 271us/step - loss: 1.4740e-04\n",
      "Epoch 2/5000\n",
      "4071/4071 [==============================] - 1s 269us/step - loss: 1.6930e-04\n",
      "Epoch 3/5000\n",
      "4071/4071 [==============================] - 1s 238us/step - loss: 1.5674e-04\n",
      "Epoch 4/5000\n",
      "4071/4071 [==============================] - 1s 245us/step - loss: 1.5927e-04\n",
      "Epoch 5/5000\n",
      "4071/4071 [==============================] - 1s 276us/step - loss: 1.6059e-04\n",
      "Epoch 6/5000\n",
      "4071/4071 [==============================] - 1s 280us/step - loss: 1.5967e-04\n",
      "Epoch 7/5000\n",
      "4071/4071 [==============================] - 1s 249us/step - loss: 1.5437e-04\n",
      "Epoch 8/5000\n",
      "4071/4071 [==============================] - 1s 291us/step - loss: 1.6041e-04\n",
      "Epoch 9/5000\n",
      "4071/4071 [==============================] - 1s 291us/step - loss: 1.5991e-04\n",
      "Epoch 10/5000\n",
      "4071/4071 [==============================] - 1s 250us/step - loss: 1.5390e-04\n",
      "Epoch 11/5000\n",
      "4071/4071 [==============================] - 1s 267us/step - loss: 1.6879e-04\n",
      "Epoch 12/5000\n",
      "4071/4071 [==============================] - 1s 300us/step - loss: 1.4856e-04\n",
      "Epoch 13/5000\n",
      "4071/4071 [==============================] - 1s 244us/step - loss: 1.5831e-04\n",
      "Epoch 14/5000\n",
      "4071/4071 [==============================] - 1s 326us/step - loss: 1.5493e-04\n",
      "Epoch 15/5000\n",
      "4071/4071 [==============================] - 1s 306us/step - loss: 1.5758e-04\n",
      "Epoch 16/5000\n",
      "2880/4071 [====================>.........] - ETA: 0s - loss: 1.5066e-04"
     ]
    },
    {
     "ename": "KeyboardInterrupt",
     "evalue": "",
     "output_type": "error",
     "traceback": [
      "\u001b[0;31m---------------------------------------------------------------------------\u001b[0m",
      "\u001b[0;31mKeyboardInterrupt\u001b[0m                         Traceback (most recent call last)",
      "\u001b[0;32m<ipython-input-55-1c09e0b2ddc6>\u001b[0m in \u001b[0;36m<module>\u001b[0;34m\u001b[0m\n\u001b[0;32m----> 1\u001b[0;31m \u001b[0mhistory\u001b[0m\u001b[0;34m=\u001b[0m\u001b[0mmodel1\u001b[0m\u001b[0;34m.\u001b[0m\u001b[0mfit\u001b[0m\u001b[0;34m(\u001b[0m\u001b[0mX_train\u001b[0m\u001b[0;34m,\u001b[0m\u001b[0my_train\u001b[0m\u001b[0;34m,\u001b[0m \u001b[0mepochs\u001b[0m\u001b[0;34m=\u001b[0m\u001b[0;36m5000\u001b[0m\u001b[0;34m,\u001b[0m \u001b[0mshuffle\u001b[0m\u001b[0;34m=\u001b[0m\u001b[0;32mFalse\u001b[0m\u001b[0;34m,\u001b[0m\u001b[0mbatch_size\u001b[0m\u001b[0;34m=\u001b[0m\u001b[0;36m64\u001b[0m\u001b[0;34m,\u001b[0m \u001b[0mverbose\u001b[0m\u001b[0;34m=\u001b[0m\u001b[0;36m1\u001b[0m\u001b[0;34m)\u001b[0m\u001b[0;34m\u001b[0m\u001b[0;34m\u001b[0m\u001b[0m\n\u001b[0m\u001b[1;32m      2\u001b[0m \u001b[0mmodel1\u001b[0m\u001b[0;34m.\u001b[0m\u001b[0msave\u001b[0m\u001b[0;34m(\u001b[0m\u001b[0;34m'./models/attempt1.h5'\u001b[0m\u001b[0;34m)\u001b[0m\u001b[0;34m\u001b[0m\u001b[0;34m\u001b[0m\u001b[0m\n\u001b[1;32m      3\u001b[0m \u001b[0mplt\u001b[0m\u001b[0;34m.\u001b[0m\u001b[0mplot\u001b[0m\u001b[0;34m(\u001b[0m\u001b[0mhistory\u001b[0m\u001b[0;34m.\u001b[0m\u001b[0mhistory\u001b[0m\u001b[0;34m[\u001b[0m\u001b[0;34m'loss'\u001b[0m\u001b[0;34m]\u001b[0m\u001b[0;34m,\u001b[0m \u001b[0mlabel\u001b[0m\u001b[0;34m=\u001b[0m\u001b[0;34m'train'\u001b[0m\u001b[0;34m)\u001b[0m\u001b[0;34m\u001b[0m\u001b[0;34m\u001b[0m\u001b[0m\n\u001b[1;32m      4\u001b[0m \u001b[0;31m#plt.plot(history.history['rmse'], label='test')\u001b[0m\u001b[0;34m\u001b[0m\u001b[0;34m\u001b[0m\u001b[0;34m\u001b[0m\u001b[0m\n\u001b[1;32m      5\u001b[0m \u001b[0mplt\u001b[0m\u001b[0;34m.\u001b[0m\u001b[0mlegend\u001b[0m\u001b[0;34m(\u001b[0m\u001b[0;34m)\u001b[0m\u001b[0;34m\u001b[0m\u001b[0;34m\u001b[0m\u001b[0m\n",
      "\u001b[0;32m//anaconda3/lib/python3.7/site-packages/keras/engine/training.py\u001b[0m in \u001b[0;36mfit\u001b[0;34m(self, x, y, batch_size, epochs, verbose, callbacks, validation_split, validation_data, shuffle, class_weight, sample_weight, initial_epoch, steps_per_epoch, validation_steps, validation_freq, max_queue_size, workers, use_multiprocessing, **kwargs)\u001b[0m\n\u001b[1;32m   1237\u001b[0m                                         \u001b[0msteps_per_epoch\u001b[0m\u001b[0;34m=\u001b[0m\u001b[0msteps_per_epoch\u001b[0m\u001b[0;34m,\u001b[0m\u001b[0;34m\u001b[0m\u001b[0;34m\u001b[0m\u001b[0m\n\u001b[1;32m   1238\u001b[0m                                         \u001b[0mvalidation_steps\u001b[0m\u001b[0;34m=\u001b[0m\u001b[0mvalidation_steps\u001b[0m\u001b[0;34m,\u001b[0m\u001b[0;34m\u001b[0m\u001b[0;34m\u001b[0m\u001b[0m\n\u001b[0;32m-> 1239\u001b[0;31m                                         validation_freq=validation_freq)\n\u001b[0m\u001b[1;32m   1240\u001b[0m \u001b[0;34m\u001b[0m\u001b[0m\n\u001b[1;32m   1241\u001b[0m     def evaluate(self,\n",
      "\u001b[0;32m//anaconda3/lib/python3.7/site-packages/keras/engine/training_arrays.py\u001b[0m in \u001b[0;36mfit_loop\u001b[0;34m(model, fit_function, fit_inputs, out_labels, batch_size, epochs, verbose, callbacks, val_function, val_inputs, shuffle, initial_epoch, steps_per_epoch, validation_steps, validation_freq)\u001b[0m\n\u001b[1;32m    194\u001b[0m                     \u001b[0mins_batch\u001b[0m\u001b[0;34m[\u001b[0m\u001b[0mi\u001b[0m\u001b[0;34m]\u001b[0m \u001b[0;34m=\u001b[0m \u001b[0mins_batch\u001b[0m\u001b[0;34m[\u001b[0m\u001b[0mi\u001b[0m\u001b[0;34m]\u001b[0m\u001b[0;34m.\u001b[0m\u001b[0mtoarray\u001b[0m\u001b[0;34m(\u001b[0m\u001b[0;34m)\u001b[0m\u001b[0;34m\u001b[0m\u001b[0;34m\u001b[0m\u001b[0m\n\u001b[1;32m    195\u001b[0m \u001b[0;34m\u001b[0m\u001b[0m\n\u001b[0;32m--> 196\u001b[0;31m                 \u001b[0mouts\u001b[0m \u001b[0;34m=\u001b[0m \u001b[0mfit_function\u001b[0m\u001b[0;34m(\u001b[0m\u001b[0mins_batch\u001b[0m\u001b[0;34m)\u001b[0m\u001b[0;34m\u001b[0m\u001b[0;34m\u001b[0m\u001b[0m\n\u001b[0m\u001b[1;32m    197\u001b[0m                 \u001b[0mouts\u001b[0m \u001b[0;34m=\u001b[0m \u001b[0mto_list\u001b[0m\u001b[0;34m(\u001b[0m\u001b[0mouts\u001b[0m\u001b[0;34m)\u001b[0m\u001b[0;34m\u001b[0m\u001b[0;34m\u001b[0m\u001b[0m\n\u001b[1;32m    198\u001b[0m                 \u001b[0;32mfor\u001b[0m \u001b[0ml\u001b[0m\u001b[0;34m,\u001b[0m \u001b[0mo\u001b[0m \u001b[0;32min\u001b[0m \u001b[0mzip\u001b[0m\u001b[0;34m(\u001b[0m\u001b[0mout_labels\u001b[0m\u001b[0;34m,\u001b[0m \u001b[0mouts\u001b[0m\u001b[0;34m)\u001b[0m\u001b[0;34m:\u001b[0m\u001b[0;34m\u001b[0m\u001b[0;34m\u001b[0m\u001b[0m\n",
      "\u001b[0;32m//anaconda3/lib/python3.7/site-packages/tensorflow_core/python/keras/backend.py\u001b[0m in \u001b[0;36m__call__\u001b[0;34m(self, inputs)\u001b[0m\n\u001b[1;32m   3725\u001b[0m         \u001b[0mvalue\u001b[0m \u001b[0;34m=\u001b[0m \u001b[0mmath_ops\u001b[0m\u001b[0;34m.\u001b[0m\u001b[0mcast\u001b[0m\u001b[0;34m(\u001b[0m\u001b[0mvalue\u001b[0m\u001b[0;34m,\u001b[0m \u001b[0mtensor\u001b[0m\u001b[0;34m.\u001b[0m\u001b[0mdtype\u001b[0m\u001b[0;34m)\u001b[0m\u001b[0;34m\u001b[0m\u001b[0;34m\u001b[0m\u001b[0m\n\u001b[1;32m   3726\u001b[0m       \u001b[0mconverted_inputs\u001b[0m\u001b[0;34m.\u001b[0m\u001b[0mappend\u001b[0m\u001b[0;34m(\u001b[0m\u001b[0mvalue\u001b[0m\u001b[0;34m)\u001b[0m\u001b[0;34m\u001b[0m\u001b[0;34m\u001b[0m\u001b[0m\n\u001b[0;32m-> 3727\u001b[0;31m     \u001b[0moutputs\u001b[0m \u001b[0;34m=\u001b[0m \u001b[0mself\u001b[0m\u001b[0;34m.\u001b[0m\u001b[0m_graph_fn\u001b[0m\u001b[0;34m(\u001b[0m\u001b[0;34m*\u001b[0m\u001b[0mconverted_inputs\u001b[0m\u001b[0;34m)\u001b[0m\u001b[0;34m\u001b[0m\u001b[0;34m\u001b[0m\u001b[0m\n\u001b[0m\u001b[1;32m   3728\u001b[0m \u001b[0;34m\u001b[0m\u001b[0m\n\u001b[1;32m   3729\u001b[0m     \u001b[0;31m# EagerTensor.numpy() will often make a copy to ensure memory safety.\u001b[0m\u001b[0;34m\u001b[0m\u001b[0;34m\u001b[0m\u001b[0;34m\u001b[0m\u001b[0m\n",
      "\u001b[0;32m//anaconda3/lib/python3.7/site-packages/tensorflow_core/python/eager/function.py\u001b[0m in \u001b[0;36m__call__\u001b[0;34m(self, *args, **kwargs)\u001b[0m\n\u001b[1;32m   1549\u001b[0m       \u001b[0mTypeError\u001b[0m\u001b[0;34m:\u001b[0m \u001b[0mFor\u001b[0m \u001b[0minvalid\u001b[0m \u001b[0mpositional\u001b[0m\u001b[0;34m/\u001b[0m\u001b[0mkeyword\u001b[0m \u001b[0margument\u001b[0m \u001b[0mcombinations\u001b[0m\u001b[0;34m.\u001b[0m\u001b[0;34m\u001b[0m\u001b[0;34m\u001b[0m\u001b[0m\n\u001b[1;32m   1550\u001b[0m     \"\"\"\n\u001b[0;32m-> 1551\u001b[0;31m     \u001b[0;32mreturn\u001b[0m \u001b[0mself\u001b[0m\u001b[0;34m.\u001b[0m\u001b[0m_call_impl\u001b[0m\u001b[0;34m(\u001b[0m\u001b[0margs\u001b[0m\u001b[0;34m,\u001b[0m \u001b[0mkwargs\u001b[0m\u001b[0;34m)\u001b[0m\u001b[0;34m\u001b[0m\u001b[0;34m\u001b[0m\u001b[0m\n\u001b[0m\u001b[1;32m   1552\u001b[0m \u001b[0;34m\u001b[0m\u001b[0m\n\u001b[1;32m   1553\u001b[0m   \u001b[0;32mdef\u001b[0m \u001b[0m_call_impl\u001b[0m\u001b[0;34m(\u001b[0m\u001b[0mself\u001b[0m\u001b[0;34m,\u001b[0m \u001b[0margs\u001b[0m\u001b[0;34m,\u001b[0m \u001b[0mkwargs\u001b[0m\u001b[0;34m,\u001b[0m \u001b[0mcancellation_manager\u001b[0m\u001b[0;34m=\u001b[0m\u001b[0;32mNone\u001b[0m\u001b[0;34m)\u001b[0m\u001b[0;34m:\u001b[0m\u001b[0;34m\u001b[0m\u001b[0;34m\u001b[0m\u001b[0m\n",
      "\u001b[0;32m//anaconda3/lib/python3.7/site-packages/tensorflow_core/python/eager/function.py\u001b[0m in \u001b[0;36m_call_impl\u001b[0;34m(self, args, kwargs, cancellation_manager)\u001b[0m\n\u001b[1;32m   1589\u001b[0m       raise TypeError(\"Keyword arguments {} unknown. Expected {}.\".format(\n\u001b[1;32m   1590\u001b[0m           list(kwargs.keys()), list(self._arg_keywords)))\n\u001b[0;32m-> 1591\u001b[0;31m     \u001b[0;32mreturn\u001b[0m \u001b[0mself\u001b[0m\u001b[0;34m.\u001b[0m\u001b[0m_call_flat\u001b[0m\u001b[0;34m(\u001b[0m\u001b[0margs\u001b[0m\u001b[0;34m,\u001b[0m \u001b[0mself\u001b[0m\u001b[0;34m.\u001b[0m\u001b[0mcaptured_inputs\u001b[0m\u001b[0;34m,\u001b[0m \u001b[0mcancellation_manager\u001b[0m\u001b[0;34m)\u001b[0m\u001b[0;34m\u001b[0m\u001b[0;34m\u001b[0m\u001b[0m\n\u001b[0m\u001b[1;32m   1592\u001b[0m \u001b[0;34m\u001b[0m\u001b[0m\n\u001b[1;32m   1593\u001b[0m   \u001b[0;32mdef\u001b[0m \u001b[0m_filtered_call\u001b[0m\u001b[0;34m(\u001b[0m\u001b[0mself\u001b[0m\u001b[0;34m,\u001b[0m \u001b[0margs\u001b[0m\u001b[0;34m,\u001b[0m \u001b[0mkwargs\u001b[0m\u001b[0;34m)\u001b[0m\u001b[0;34m:\u001b[0m\u001b[0;34m\u001b[0m\u001b[0;34m\u001b[0m\u001b[0m\n",
      "\u001b[0;32m//anaconda3/lib/python3.7/site-packages/tensorflow_core/python/eager/function.py\u001b[0m in \u001b[0;36m_call_flat\u001b[0;34m(self, args, captured_inputs, cancellation_manager)\u001b[0m\n\u001b[1;32m   1690\u001b[0m       \u001b[0;31m# No tape is watching; skip to running the function.\u001b[0m\u001b[0;34m\u001b[0m\u001b[0;34m\u001b[0m\u001b[0;34m\u001b[0m\u001b[0m\n\u001b[1;32m   1691\u001b[0m       return self._build_call_outputs(self._inference_function.call(\n\u001b[0;32m-> 1692\u001b[0;31m           ctx, args, cancellation_manager=cancellation_manager))\n\u001b[0m\u001b[1;32m   1693\u001b[0m     forward_backward = self._select_forward_and_backward_functions(\n\u001b[1;32m   1694\u001b[0m         \u001b[0margs\u001b[0m\u001b[0;34m,\u001b[0m\u001b[0;34m\u001b[0m\u001b[0;34m\u001b[0m\u001b[0m\n",
      "\u001b[0;32m//anaconda3/lib/python3.7/site-packages/tensorflow_core/python/eager/function.py\u001b[0m in \u001b[0;36mcall\u001b[0;34m(self, ctx, args, cancellation_manager)\u001b[0m\n\u001b[1;32m    543\u001b[0m               \u001b[0minputs\u001b[0m\u001b[0;34m=\u001b[0m\u001b[0margs\u001b[0m\u001b[0;34m,\u001b[0m\u001b[0;34m\u001b[0m\u001b[0;34m\u001b[0m\u001b[0m\n\u001b[1;32m    544\u001b[0m               \u001b[0mattrs\u001b[0m\u001b[0;34m=\u001b[0m\u001b[0;34m(\u001b[0m\u001b[0;34m\"executor_type\"\u001b[0m\u001b[0;34m,\u001b[0m \u001b[0mexecutor_type\u001b[0m\u001b[0;34m,\u001b[0m \u001b[0;34m\"config_proto\"\u001b[0m\u001b[0;34m,\u001b[0m \u001b[0mconfig\u001b[0m\u001b[0;34m)\u001b[0m\u001b[0;34m,\u001b[0m\u001b[0;34m\u001b[0m\u001b[0;34m\u001b[0m\u001b[0m\n\u001b[0;32m--> 545\u001b[0;31m               ctx=ctx)\n\u001b[0m\u001b[1;32m    546\u001b[0m         \u001b[0;32melse\u001b[0m\u001b[0;34m:\u001b[0m\u001b[0;34m\u001b[0m\u001b[0;34m\u001b[0m\u001b[0m\n\u001b[1;32m    547\u001b[0m           outputs = execute.execute_with_cancellation(\n",
      "\u001b[0;32m//anaconda3/lib/python3.7/site-packages/tensorflow_core/python/eager/execute.py\u001b[0m in \u001b[0;36mquick_execute\u001b[0;34m(op_name, num_outputs, inputs, attrs, ctx, name)\u001b[0m\n\u001b[1;32m     59\u001b[0m     tensors = pywrap_tensorflow.TFE_Py_Execute(ctx._handle, device_name,\n\u001b[1;32m     60\u001b[0m                                                \u001b[0mop_name\u001b[0m\u001b[0;34m,\u001b[0m \u001b[0minputs\u001b[0m\u001b[0;34m,\u001b[0m \u001b[0mattrs\u001b[0m\u001b[0;34m,\u001b[0m\u001b[0;34m\u001b[0m\u001b[0;34m\u001b[0m\u001b[0m\n\u001b[0;32m---> 61\u001b[0;31m                                                num_outputs)\n\u001b[0m\u001b[1;32m     62\u001b[0m   \u001b[0;32mexcept\u001b[0m \u001b[0mcore\u001b[0m\u001b[0;34m.\u001b[0m\u001b[0m_NotOkStatusException\u001b[0m \u001b[0;32mas\u001b[0m \u001b[0me\u001b[0m\u001b[0;34m:\u001b[0m\u001b[0;34m\u001b[0m\u001b[0;34m\u001b[0m\u001b[0m\n\u001b[1;32m     63\u001b[0m     \u001b[0;32mif\u001b[0m \u001b[0mname\u001b[0m \u001b[0;32mis\u001b[0m \u001b[0;32mnot\u001b[0m \u001b[0;32mNone\u001b[0m\u001b[0;34m:\u001b[0m\u001b[0;34m\u001b[0m\u001b[0;34m\u001b[0m\u001b[0m\n",
      "\u001b[0;31mKeyboardInterrupt\u001b[0m: "
     ]
    }
   ],
   "source": [
    "history=model1.fit(X_train,y_train, epochs=5000, shuffle=False,batch_size=64, verbose=1)\n",
    "model1.save('./models/attempt1.h5')\n",
    "plt.plot(history.history['loss'], label='train')\n",
    "#plt.plot(history.history['rmse'], label='test')\n",
    "plt.legend()\n",
    "plt.show()"
   ]
  },
  {
   "cell_type": "code",
   "execution_count": null,
   "metadata": {},
   "outputs": [],
   "source": [
    "pred=model1.predict(X_test)\n",
    "actual= pd.DataFrame(y_test)"
   ]
  },
  {
   "cell_type": "code",
   "execution_count": 68,
   "metadata": {},
   "outputs": [
    {
     "data": {
      "image/png": "[encoded data removed]",
      "text/plain": [
       "<Figure size 432x288 with 1 Axes>"
      ]
     },
     "metadata": {
      "needs_background": "light"
     },
     "output_type": "display_data"
    }
   ],
   "source": [
    "plt.plot(pred, color='green',linewidth=0.4)\n",
    "plt.plot(actual, color='red', linewidth=0.4)\n",
    "plt.savefig('./sae_prediction.png')\n",
    "plt.show()"
   ]
  },
  {
   "cell_type": "code",
   "execution_count": 62,
   "metadata": {},
   "outputs": [],
   "source": [
    "def mean_absolute_percentage_error(y_true, y_pred): \n",
    "    mape = np.mean(np.abs((y_true - y_pred) / y_true)) * 100\n",
    "    return(mape)"
   ]
  },
  {
   "cell_type": "code",
   "execution_count": null,
   "metadata": {},
   "outputs": [],
   "source": [
    "from sklearn.metrics import mean_squared_error, mean_absolute_error"
   ]
  },
  {
   "cell_type": "code",
   "execution_count": 63,
   "metadata": {},
   "outputs": [
    {
     "name": "stdout",
     "output_type": "stream",
     "text": [
      "0    84.646299\n",
      "dtype: float64\n",
      "mse, rmse, mae, mape:(2.651359524572383e-05, 0.005149135388171865, 0.0034265110570681125, 0    84.646299\n",
      "dtype: float64)\n"
     ]
    }
   ],
   "source": [
    "import math\n",
    "mse = mean_squared_error(actual, pred)\n",
    "rmse = math.sqrt(mse)\n",
    "mae = mean_absolute_error(actual, pred)\n",
    "mape = mean_absolute_percentage_error(actual, pred)\n",
    "print(\"mse, rmse, mae, mape:\" + str((mse,rmse,mae,mape)))"
   ]
  },
  {
   "cell_type": "code",
   "execution_count": null,
   "metadata": {},
   "outputs": [],
   "source": []
  },
  {
   "cell_type": "code",
   "execution_count": null,
   "metadata": {},
   "outputs": [],
   "source": []
  }
 ],
 "metadata": {
  "kernelspec": {
   "display_name": "Python 3",
   "language": "python",
   "name": "python3"
  },
  "language_info": {
   "codemirror_mode": {
    "name": "ipython",
    "version": 3
   },
   "file_extension": ".py",
   "mimetype": "text/x-python",
   "name": "python",
   "nbconvert_exporter": "python",
   "pygments_lexer": "ipython3",
   "version": "3.7.3"
  }
 },
 "nbformat": 4,
 "nbformat_minor": 2
}
