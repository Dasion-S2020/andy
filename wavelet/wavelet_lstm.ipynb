{
 "cells": [
  {
   "cell_type": "code",
   "execution_count": 85,
   "metadata": {},
   "outputs": [],
   "source": [
    "import pywt\n",
    "import numpy as np\n",
    "import random\n",
    "import pandas as pd\n",
    "import matplotlib.pyplot as plt\n",
    "from sklearn import preprocessing"
   ]
  },
  {
   "cell_type": "code",
   "execution_count": 86,
   "metadata": {},
   "outputs": [],
   "source": [
    "df = pd.read_csv('/Users/andyliu/Downloads/aapl_2000-2020.csv')"
   ]
  },
  {
   "cell_type": "code",
   "execution_count": 87,
   "metadata": {},
   "outputs": [
    {
     "data": {
      "text/html": [
       "<div>\n",
       "<style scoped>\n",
       "    .dataframe tbody tr th:only-of-type {\n",
       "        vertical-align: middle;\n",
       "    }\n",
       "\n",
       "    .dataframe tbody tr th {\n",
       "        vertical-align: top;\n",
       "    }\n",
       "\n",
       "    .dataframe thead th {\n",
       "        text-align: right;\n",
       "    }\n",
       "</style>\n",
       "<table border=\"1\" class=\"dataframe\">\n",
       "  <thead>\n",
       "    <tr style=\"text-align: right;\">\n",
       "      <th></th>\n",
       "      <th>target_value</th>\n",
       "    </tr>\n",
       "  </thead>\n",
       "  <tbody>\n",
       "    <tr>\n",
       "      <th>0</th>\n",
       "      <td>3.7500</td>\n",
       "    </tr>\n",
       "    <tr>\n",
       "      <th>1</th>\n",
       "      <td>3.7478</td>\n",
       "    </tr>\n",
       "    <tr>\n",
       "      <th>2</th>\n",
       "      <td>3.7545</td>\n",
       "    </tr>\n",
       "    <tr>\n",
       "      <th>3</th>\n",
       "      <td>3.7500</td>\n",
       "    </tr>\n",
       "    <tr>\n",
       "      <th>4</th>\n",
       "      <td>3.7344</td>\n",
       "    </tr>\n",
       "  </tbody>\n",
       "</table>\n",
       "</div>"
      ],
      "text/plain": [
       "   target_value\n",
       "0        3.7500\n",
       "1        3.7478\n",
       "2        3.7545\n",
       "3        3.7500\n",
       "4        3.7344"
      ]
     },
     "execution_count": 87,
     "metadata": {},
     "output_type": "execute_result"
    }
   ],
   "source": [
    "data = df.drop(['item_id', 'timestamp'], axis=1)\n",
    "data.head()"
   ]
  },
  {
   "cell_type": "code",
   "execution_count": 88,
   "metadata": {},
   "outputs": [],
   "source": [
    "data = data.iloc[:10000,:]"
   ]
  },
  {
   "cell_type": "code",
   "execution_count": 89,
   "metadata": {},
   "outputs": [],
   "source": [
    "n = data.shape[0]\n",
    "n_train = n*4//5\n",
    "dtrain = data.iloc[:n_train,:].values\n",
    "dtest = data.iloc[n_train:,:].values"
   ]
  },
  {
   "cell_type": "code",
   "execution_count": 90,
   "metadata": {},
   "outputs": [],
   "source": [
    "scaler= preprocessing.MinMaxScaler()\n",
    "scaler.fit(dtrain)\n",
    "train=scaler.transform(dtrain)\n",
    "test=scaler.transform(dtest)"
   ]
  },
  {
   "cell_type": "code",
   "execution_count": 91,
   "metadata": {},
   "outputs": [
    {
     "name": "stderr",
     "output_type": "stream",
     "text": [
      "//anaconda3/lib/python3.7/site-packages/pywt/_multilevel.py:45: UserWarning: Level value of 2 is too high: all coefficients will experience boundary effects.\n",
      "  \"boundary effects.\").format(level))\n"
     ]
    }
   ],
   "source": [
    "coeffs= pywt.wavedec2(train, 'haar',  mode='symmetric',level=2)\n",
    "coeffs[-1] = tuple([np.zeros_like(v) for v in coeffs[-1]])\n",
    "c=pywt.waverec2(coeffs,'haar')\n",
    "coeffs1=pywt.wavedec2(c,'haar', mode='symmetric', level=2)\n",
    "coeffs1[-1] = tuple([np.zeros_like(v) for v in coeffs1[-1]])\n",
    "d=pywt.waverec2(coeffs1, 'haar')"
   ]
  },
  {
   "cell_type": "code",
   "execution_count": 92,
   "metadata": {},
   "outputs": [],
   "source": [
    "X_train = d.reshape(d.shape[0],1,d.shape[1])"
   ]
  },
  {
   "cell_type": "code",
   "execution_count": 93,
   "metadata": {},
   "outputs": [],
   "source": [
    "from keras.layers.core import Dense, Activation, Dropout\n",
    "from keras.layers.recurrent import LSTM\n",
    "from keras.models import Sequential\n",
    "from keras.callbacks import EarlyStopping\n",
    "from keras.optimizers import Adam\n",
    "from keras import regularizers"
   ]
  },
  {
   "cell_type": "code",
   "execution_count": 112,
   "metadata": {},
   "outputs": [
    {
     "name": "stdout",
     "output_type": "stream",
     "text": [
      "Model: \"sequential_8\"\n",
      "_________________________________________________________________\n",
      "Layer (type)                 Output Shape              Param #   \n",
      "=================================================================\n",
      "lstm_25 (LSTM)               (None, 1, 20)             1840      \n",
      "_________________________________________________________________\n",
      "dropout_19 (Dropout)         (None, 1, 20)             0         \n",
      "_________________________________________________________________\n",
      "lstm_26 (LSTM)               (None, 1, 40)             9760      \n",
      "_________________________________________________________________\n",
      "dropout_20 (Dropout)         (None, 1, 40)             0         \n",
      "_________________________________________________________________\n",
      "lstm_27 (LSTM)               (None, 1, 80)             38720     \n",
      "_________________________________________________________________\n",
      "dropout_21 (Dropout)         (None, 1, 80)             0         \n",
      "_________________________________________________________________\n",
      "lstm_28 (LSTM)               (None, 20)                8080      \n",
      "_________________________________________________________________\n",
      "dense_7 (Dense)              (None, 1)                 21        \n",
      "_________________________________________________________________\n",
      "activation_7 (Activation)    (None, 1)                 0         \n",
      "=================================================================\n",
      "Total params: 58,421\n",
      "Trainable params: 58,421\n",
      "Non-trainable params: 0\n",
      "_________________________________________________________________\n"
     ]
    }
   ],
   "source": [
    "neurons=20\n",
    "dropout=0.3\n",
    "model1 = Sequential()\n",
    "model1.add(LSTM(neurons, return_sequences=True, input_shape=(X_train.shape[1], X_train.shape[2]), activation='relu', activity_regularizer=regularizers.l2(1e-5)))\n",
    "model1.add(Dropout(dropout))\n",
    "model1.add(LSTM(neurons*2, return_sequences=True, activation='relu', activity_regularizer=regularizers.l2(1e-5)))\n",
    "model1.add(Dropout(dropout))\n",
    "model1.add(LSTM(neurons*4, return_sequences=True, activation='relu', activity_regularizer=regularizers.l2(1e-5)))\n",
    "model1.add(Dropout(dropout))\n",
    "model1.add(LSTM(neurons, activation='relu', activity_regularizer=regularizers.l2(1e-5)))\n",
    "model1.add(Dense(units=1))\n",
    "model1.add(Activation('relu'))\n",
    "model1.compile(loss='mse', optimizer='Adam')\n",
    "model1.summary()"
   ]
  },
  {
   "cell_type": "code",
   "execution_count": 113,
   "metadata": {},
   "outputs": [],
   "source": [
    "y_train = train"
   ]
  },
  {
   "cell_type": "code",
   "execution_count": null,
   "metadata": {},
   "outputs": [
    {
     "name": "stdout",
     "output_type": "stream",
     "text": [
      "Epoch 1/2000\n",
      "8000/8000 [==============================] - 1s 104us/step - loss: 0.0030\n",
      "Epoch 2/2000\n",
      "8000/8000 [==============================] - 1s 100us/step - loss: 0.0032\n",
      "Epoch 3/2000\n",
      "8000/8000 [==============================] - 1s 106us/step - loss: 0.0032\n",
      "Epoch 4/2000\n",
      "8000/8000 [==============================] - 1s 99us/step - loss: 0.0030\n",
      "Epoch 5/2000\n",
      "8000/8000 [==============================] - 1s 97us/step - loss: 0.0031\n",
      "Epoch 6/2000\n",
      "8000/8000 [==============================] - 1s 94us/step - loss: 0.0031\n",
      "Epoch 7/2000\n",
      "8000/8000 [==============================] - 1s 96us/step - loss: 0.0032\n",
      "Epoch 8/2000\n",
      "8000/8000 [==============================] - 1s 95us/step - loss: 0.0033\n",
      "Epoch 9/2000\n",
      "8000/8000 [==============================] - 1s 97us/step - loss: 0.0033\n",
      "Epoch 10/2000\n",
      "8000/8000 [==============================] - 1s 120us/step - loss: 0.0032\n",
      "Epoch 11/2000\n",
      "8000/8000 [==============================] - 1s 107us/step - loss: 0.0030\n",
      "Epoch 12/2000\n",
      "8000/8000 [==============================] - 1s 110us/step - loss: 0.0032\n",
      "Epoch 13/2000\n",
      "8000/8000 [==============================] - 1s 112us/step - loss: 0.0032\n",
      "Epoch 14/2000\n",
      "8000/8000 [==============================] - 1s 101us/step - loss: 0.0029\n",
      "Epoch 15/2000\n",
      "8000/8000 [==============================] - 1s 106us/step - loss: 0.0031\n",
      "Epoch 16/2000\n",
      "8000/8000 [==============================] - 1s 109us/step - loss: 0.0031\n",
      "Epoch 17/2000\n",
      "8000/8000 [==============================] - 1s 124us/step - loss: 0.0027\n",
      "Epoch 18/2000\n",
      "8000/8000 [==============================] - 1s 107us/step - loss: 0.0031\n",
      "Epoch 19/2000\n",
      "8000/8000 [==============================] - 1s 87us/step - loss: 0.0029\n",
      "Epoch 20/2000\n",
      "8000/8000 [==============================] - 1s 100us/step - loss: 0.0028\n",
      "Epoch 21/2000\n",
      "8000/8000 [==============================] - 1s 120us/step - loss: 0.0028\n",
      "Epoch 22/2000\n",
      "8000/8000 [==============================] - 1s 134us/step - loss: 0.0031\n",
      "Epoch 23/2000\n",
      "8000/8000 [==============================] - 1s 134us/step - loss: 0.0031\n",
      "Epoch 24/2000\n",
      "8000/8000 [==============================] - 1s 148us/step - loss: 0.0033\n",
      "Epoch 25/2000\n",
      "8000/8000 [==============================] - 1s 138us/step - loss: 0.0029\n",
      "Epoch 26/2000\n",
      "8000/8000 [==============================] - 1s 160us/step - loss: 0.0030\n",
      "Epoch 27/2000\n",
      "8000/8000 [==============================] - 1s 179us/step - loss: 0.0028\n",
      "Epoch 28/2000\n",
      "8000/8000 [==============================] - 1s 146us/step - loss: 0.0029\n",
      "Epoch 29/2000\n",
      "8000/8000 [==============================] - 1s 147us/step - loss: 0.0029\n",
      "Epoch 30/2000\n",
      "8000/8000 [==============================] - 1s 176us/step - loss: 0.0029\n",
      "Epoch 31/2000\n",
      "8000/8000 [==============================] - 1s 136us/step - loss: 0.0028\n",
      "Epoch 32/2000\n",
      "8000/8000 [==============================] - 1s 93us/step - loss: 0.0028\n",
      "Epoch 33/2000\n",
      "8000/8000 [==============================] - 1s 91us/step - loss: 0.0027\n",
      "Epoch 34/2000\n",
      "8000/8000 [==============================] - 1s 96us/step - loss: 0.0028\n",
      "Epoch 35/2000\n",
      "8000/8000 [==============================] - 1s 111us/step - loss: 0.0028\n",
      "Epoch 36/2000\n",
      "8000/8000 [==============================] - 1s 117us/step - loss: 0.0029\n",
      "Epoch 37/2000\n",
      "8000/8000 [==============================] - 1s 128us/step - loss: 0.0028\n",
      "Epoch 38/2000\n",
      "8000/8000 [==============================] - 1s 108us/step - loss: 0.0028\n",
      "Epoch 39/2000\n",
      "8000/8000 [==============================] - 1s 97us/step - loss: 0.0029\n",
      "Epoch 40/2000\n",
      "8000/8000 [==============================] - 1s 90us/step - loss: 0.0030\n",
      "Epoch 41/2000\n",
      "8000/8000 [==============================] - 1s 85us/step - loss: 0.0027\n",
      "Epoch 42/2000\n",
      "8000/8000 [==============================] - 1s 167us/step - loss: 0.0028\n",
      "Epoch 43/2000\n",
      "8000/8000 [==============================] - 1s 138us/step - loss: 0.0026\n",
      "Epoch 44/2000\n",
      "8000/8000 [==============================] - 1s 150us/step - loss: 0.0028\n",
      "Epoch 45/2000\n",
      "8000/8000 [==============================] - 1s 166us/step - loss: 0.0030\n",
      "Epoch 46/2000\n",
      "8000/8000 [==============================] - 1s 172us/step - loss: 0.0026\n",
      "Epoch 47/2000\n",
      "8000/8000 [==============================] - 1s 163us/step - loss: 0.0027\n",
      "Epoch 48/2000\n",
      "8000/8000 [==============================] - 1s 131us/step - loss: 0.0028\n",
      "Epoch 49/2000\n",
      "8000/8000 [==============================] - 1s 105us/step - loss: 0.0028\n",
      "Epoch 50/2000\n",
      "8000/8000 [==============================] - 1s 130us/step - loss: 0.0025\n",
      "Epoch 51/2000\n",
      "8000/8000 [==============================] - 1s 122us/step - loss: 0.0027\n",
      "Epoch 52/2000\n",
      "5376/8000 [===================>..........] - ETA: 0s - loss: 0.0030"
     ]
    }
   ],
   "source": [
    "history=model1.fit(X_train,y_train, epochs=2000, shuffle=False, batch_size=64, verbose=1)\n",
    "model1.save('./models/wavelet_minute_2.h5')\n",
    "plt.plot(history.history['loss'], label='train')\n",
    "#plt.plot(history.history['rmse'], label='test')\n",
    "plt.legend()\n",
    "plt.show()"
   ]
  },
  {
   "cell_type": "code",
   "execution_count": 116,
   "metadata": {},
   "outputs": [
    {
     "name": "stderr",
     "output_type": "stream",
     "text": [
      "//anaconda3/lib/python3.7/site-packages/pywt/_multilevel.py:45: UserWarning: Level value of 2 is too high: all coefficients will experience boundary effects.\n",
      "  \"boundary effects.\").format(level))\n"
     ]
    }
   ],
   "source": [
    "coeffs1= pywt.wavedec2(test, 'haar',  mode='symmetric',level=2)\n",
    "coeffs1[-1] = tuple([np.zeros_like(v) for v in coeffs1[-1]])\n",
    "c1=pywt.waverec2(coeffs1,'haar')\n",
    "coeffs1=pywt.wavedec2(c1,'haar', mode='symmetric', level=2)\n",
    "coeffs1[-1] = tuple([np.zeros_like(v) for v in coeffs1[-1]])\n",
    "d1=pywt.waverec2(coeffs1, 'haar')"
   ]
  },
  {
   "cell_type": "code",
   "execution_count": 117,
   "metadata": {},
   "outputs": [],
   "source": [
    "X_test = d1.reshape(d1.shape[0],1,d1.shape[1])\n",
    "y_test = test"
   ]
  },
  {
   "cell_type": "code",
   "execution_count": 118,
   "metadata": {},
   "outputs": [
    {
     "data": {
      "text/plain": [
       "((2000, 1, 2), (2000, 1), (8000, 1, 2), (8000, 1))"
      ]
     },
     "execution_count": 118,
     "metadata": {},
     "output_type": "execute_result"
    }
   ],
   "source": [
    "X_test.shape, y_test.shape, X_train.shape, y_train.shape"
   ]
  },
  {
   "cell_type": "code",
   "execution_count": 119,
   "metadata": {},
   "outputs": [],
   "source": [
    "#y_test = np.array(y_test)\n",
    "#X_test = X_test"
   ]
  },
  {
   "cell_type": "code",
   "execution_count": 120,
   "metadata": {},
   "outputs": [],
   "source": [
    "pred = model1.predict(X_test)"
   ]
  },
  {
   "cell_type": "code",
   "execution_count": 121,
   "metadata": {},
   "outputs": [
    {
     "data": {
      "image/png": "[encoded data removed]",
      "text/plain": [
       "<Figure size 432x288 with 1 Axes>"
      ]
     },
     "metadata": {
      "needs_background": "light"
     },
     "output_type": "display_data"
    }
   ],
   "source": [
    "plt.plot(pred, 'r')\n",
    "plt.plot(y_test, 'g')\n",
    "plt.show()"
   ]
  },
  {
   "cell_type": "code",
   "execution_count": 122,
   "metadata": {},
   "outputs": [
    {
     "data": {
      "text/plain": [
       "array([[-0.09824541],\n",
       "       [-0.09824541],\n",
       "       [-0.09582311],\n",
       "       ...,\n",
       "       [-0.09367609],\n",
       "       [-0.09395029],\n",
       "       [-0.09574885]])"
      ]
     },
     "execution_count": 122,
     "metadata": {},
     "output_type": "execute_result"
    }
   ],
   "source": [
    "pred - y_test"
   ]
  },
  {
   "cell_type": "code",
   "execution_count": null,
   "metadata": {},
   "outputs": [],
   "source": []
  }
 ],
 "metadata": {
  "kernelspec": {
   "display_name": "Python 3",
   "language": "python",
   "name": "python3"
  },
  "language_info": {
   "codemirror_mode": {
    "name": "ipython",
    "version": 3
   },
   "file_extension": ".py",
   "mimetype": "text/x-python",
   "name": "python",
   "nbconvert_exporter": "python",
   "pygments_lexer": "ipython3",
   "version": "3.7.3"
  }
 },
 "nbformat": 4,
 "nbformat_minor": 2
}
